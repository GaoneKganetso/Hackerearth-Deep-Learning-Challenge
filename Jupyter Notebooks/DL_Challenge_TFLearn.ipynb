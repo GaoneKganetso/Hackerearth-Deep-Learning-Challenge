{
  "nbformat": 4,
  "nbformat_minor": 0,
  "metadata": {
    "colab": {
      "name": "DL Challenge TFLearn.ipynb",
      "version": "0.3.2",
      "views": {},
      "default_view": {},
      "provenance": [],
      "collapsed_sections": []
    },
    "kernelspec": {
      "name": "python3",
      "display_name": "Python 3"
    },
    "accelerator": "GPU"
  },
  "cells": [
    {
      "metadata": {
        "id": "ul22Yfwt8gWz",
        "colab_type": "text"
      },
      "cell_type": "markdown",
      "source": [
        "# HackerEarth DL Challenge"
      ]
    },
    {
      "metadata": {
        "id": "sVlL2Z8fpshf",
        "colab_type": "text"
      },
      "cell_type": "markdown",
      "source": [
        "**Prerequisites**"
      ]
    },
    {
      "metadata": {
        "id": "OvY9f2uu8lAM",
        "colab_type": "code",
        "colab": {
          "autoexec": {
            "startup": false,
            "wait_interval": 0
          },
          "base_uri": "https://localhost:8080/",
          "height": 319
        },
        "outputId": "4db2c9c4-836f-4632-801e-83ede26f86b1",
        "executionInfo": {
          "status": "ok",
          "timestamp": 1533649914022,
          "user_tz": -330,
          "elapsed": 10104,
          "user": {
            "displayName": "Prashant Piprotar",
            "photoUrl": "//lh4.googleusercontent.com/-hdNnmu6ZVpw/AAAAAAAAAAI/AAAAAAAAAXQ/Z0jSEmd2Fyk/s50-c-k-no/photo.jpg",
            "userId": "110207365728031633319"
          }
        }
      },
      "cell_type": "code",
      "source": [
        "!pip install opencv-python\n",
        "!pip install tflearn\n",
        "!pip install tqdm\n",
        "!pip install PyDrive"
      ],
      "execution_count": 1,
      "outputs": [
        {
          "output_type": "stream",
          "text": [
            "Requirement already satisfied: opencv-python in /usr/local/lib/python3.6/dist-packages (3.4.2.17)\r\n",
            "Requirement already satisfied: numpy>=1.11.3 in /usr/local/lib/python3.6/dist-packages (from opencv-python) (1.14.5)\n",
            "Requirement already satisfied: tflearn in /usr/local/lib/python3.6/dist-packages (0.3.2)\n",
            "Requirement already satisfied: numpy in /usr/local/lib/python3.6/dist-packages (from tflearn) (1.14.5)\n",
            "Requirement already satisfied: six in /usr/local/lib/python3.6/dist-packages (from tflearn) (1.11.0)\n",
            "Requirement already satisfied: Pillow in /usr/local/lib/python3.6/dist-packages (from tflearn) (4.0.0)\n",
            "Requirement already satisfied: olefile in /usr/local/lib/python3.6/dist-packages (from Pillow->tflearn) (0.45.1)\n",
            "Requirement already satisfied: tqdm in /usr/local/lib/python3.6/dist-packages (4.24.0)\n",
            "Requirement already satisfied: PyDrive in /usr/local/lib/python3.6/dist-packages (1.3.1)\n",
            "Requirement already satisfied: google-api-python-client>=1.2 in /usr/local/lib/python3.6/dist-packages (from PyDrive) (1.6.7)\n",
            "Requirement already satisfied: PyYAML>=3.0 in /usr/local/lib/python3.6/dist-packages (from PyDrive) (3.13)\n",
            "Requirement already satisfied: oauth2client>=4.0.0 in /usr/local/lib/python3.6/dist-packages (from PyDrive) (4.1.2)\n",
            "Requirement already satisfied: uritemplate<4dev,>=3.0.0 in /usr/local/lib/python3.6/dist-packages (from google-api-python-client>=1.2->PyDrive) (3.0.0)\n",
            "Requirement already satisfied: six<2dev,>=1.6.1 in /usr/local/lib/python3.6/dist-packages (from google-api-python-client>=1.2->PyDrive) (1.11.0)\n",
            "Requirement already satisfied: httplib2<1dev,>=0.9.2 in /usr/local/lib/python3.6/dist-packages (from google-api-python-client>=1.2->PyDrive) (0.11.3)\n",
            "Requirement already satisfied: pyasn1>=0.1.7 in /usr/local/lib/python3.6/dist-packages (from oauth2client>=4.0.0->PyDrive) (0.4.4)\n",
            "Requirement already satisfied: rsa>=3.1.4 in /usr/local/lib/python3.6/dist-packages (from oauth2client>=4.0.0->PyDrive) (3.4.2)\n",
            "Requirement already satisfied: pyasn1-modules>=0.0.5 in /usr/local/lib/python3.6/dist-packages (from oauth2client>=4.0.0->PyDrive) (0.2.2)\n"
          ],
          "name": "stdout"
        }
      ]
    },
    {
      "metadata": {
        "id": "E-3xKQew1n9J",
        "colab_type": "text"
      },
      "cell_type": "markdown",
      "source": [
        "**Header And Imports**"
      ]
    },
    {
      "metadata": {
        "id": "DgOqErGY1rpI",
        "colab_type": "code",
        "colab": {
          "autoexec": {
            "startup": false,
            "wait_interval": 0
          }
        }
      },
      "cell_type": "code",
      "source": [
        "import cv2                 # working with, mainly resizing, images\n",
        "import numpy as np\n",
        "import os\n",
        "from random import shuffle # mixing up or currently ordered data that might lead our network astray in training\n",
        "from tqdm import tqdm      # a nice percentage bar ;)\n",
        "import pickle\n",
        "from google.colab import files\n",
        "\n",
        "import tflearn\n",
        "from tflearn.layers.conv import conv_2d, max_pool_2d\n",
        "from tflearn.layers.core import input_data, dropout, fully_connected\n",
        "from tflearn.layers.estimator import regression\n",
        "from tflearn.data_utils import shuffle, to_categorical\n",
        "import tensorflow as tf\n",
        "\n",
        "from pydrive.auth import GoogleAuth\n",
        "from pydrive.drive import GoogleDrive\n",
        "from google.colab import auth\n",
        "from oauth2client.client import GoogleCredentials\n",
        "\n",
        "# TRAIN_DIR = ''\n",
        "# TEST_DIR = ''\n",
        "IMG_SIZE = 150\n",
        "LR = 1e-3\n",
        "\n",
        "MODEL_NAME = 'model_tflearn_trained.model'"
      ],
      "execution_count": 0,
      "outputs": []
    },
    {
      "metadata": {
        "id": "oHR5X2a7pYbb",
        "colab_type": "text"
      },
      "cell_type": "markdown",
      "source": [
        "**Data Download and Extraction**"
      ]
    },
    {
      "metadata": {
        "id": "ALyNBGV7pcTO",
        "colab_type": "code",
        "colab": {
          "autoexec": {
            "startup": false,
            "wait_interval": 0
          },
          "base_uri": "https://localhost:8080/",
          "height": 34
        },
        "outputId": "418702a3-13e5-4648-c8d6-351f6fa4a4fd",
        "executionInfo": {
          "status": "ok",
          "timestamp": 1533649932453,
          "user_tz": -330,
          "elapsed": 8681,
          "user": {
            "displayName": "Prashant Piprotar",
            "photoUrl": "//lh4.googleusercontent.com/-hdNnmu6ZVpw/AAAAAAAAAAI/AAAAAAAAAXQ/Z0jSEmd2Fyk/s50-c-k-no/photo.jpg",
            "userId": "110207365728031633319"
          }
        }
      },
      "cell_type": "code",
      "source": [
        "auth.authenticate_user()\n",
        "gauth = GoogleAuth()\n",
        "gauth.credentials = GoogleCredentials.get_application_default()\n",
        "drive = GoogleDrive(gauth)\n",
        "\n",
        "DRIVE_FILE_ID = '1Yzx5AeuNq7mo0AI3y1jf2SBi4gaZcFKE'\n",
        "\n",
        "fileId = drive.CreateFile({'id':DRIVE_FILE_ID})\n",
        "fileId.GetContentFile('train_data.dat')\n",
        "!ls"
      ],
      "execution_count": 3,
      "outputs": [
        {
          "output_type": "stream",
          "text": [
            "datalab  train_data.dat\r\n"
          ],
          "name": "stdout"
        }
      ]
    },
    {
      "metadata": {
        "id": "mBRwh1qDpvZc",
        "colab_type": "text"
      },
      "cell_type": "markdown",
      "source": [
        "**Data Preprocessing**"
      ]
    },
    {
      "metadata": {
        "id": "btoS1znop5T8",
        "colab_type": "code",
        "colab": {
          "autoexec": {
            "startup": false,
            "wait_interval": 0
          }
        }
      },
      "cell_type": "code",
      "source": [
        "def label_img(img):\n",
        "    word_label = img.split('.')[0]\n",
        "    if word_label == 'antelope': return 0\n",
        "    elif word_label == 'bat': return 1\n",
        "    elif word_label == 'beaver': return 2\n",
        "    elif word_label == 'bobcat': return 3\n",
        "    elif word_label == 'buffalo': return 4\n",
        "    elif word_label == 'chihuahua': return 5\n",
        "    elif word_label == 'chimpanzee': return 6\n",
        "    elif word_label == 'collie': return 7\n",
        "    elif word_label == 'dalmatian': return 8\n",
        "    elif word_label == 'german+shepherd': return 9\n",
        "    elif word_label == 'grizzly+bear': return 10\n",
        "    elif word_label == 'hippopotamus': return 11\n",
        "    elif word_label == 'horse': return 12\n",
        "    elif word_label == 'killer+whale': return 13\n",
        "    elif word_label == 'mole': return 14\n",
        "    elif word_label == 'moose': return 15\n",
        "    elif word_label == 'mouse': return 16\n",
        "    elif word_label == 'otter': return 17\n",
        "    elif word_label == 'ox': return 18\n",
        "    elif word_label == 'persian+cat': return 19\n",
        "    elif word_label == 'raccoon': return 20\n",
        "    elif word_label == 'rat': return 21\n",
        "    elif word_label == 'rhinoceros': return 22\n",
        "    elif word_label == 'seal': return 23\n",
        "    elif word_label == 'siamese+cat': return 24\n",
        "    elif word_label == 'spider+monkey': return 25\n",
        "    elif word_label == 'squirrel': return 26\n",
        "    elif word_label == 'walrus': return 27\n",
        "    elif word_label == 'weasel': return 28\n",
        "    elif word_label == 'wolf': return 29\n",
        "\n",
        "\n",
        "def create_train_data():\n",
        "    training_data = []\n",
        "\n",
        "    if os.path.exists(\"train_data.dat\"):\n",
        "        file = open('train_data.dat', 'rb')\n",
        "        training_data = pickle.load(file)\n",
        "        file.close()\n",
        "        return training_data\n",
        "\n",
        "    img_count = 0\n",
        "    for img in tqdm(os.listdir(TRAIN_DIR)):\n",
        "        label = label_img(img)\n",
        "        path = os.path.join(TRAIN_DIR,img)\n",
        "        img = cv2.imread(path,cv2.IMREAD_GRAYSCALE)\n",
        "        img = cv2.resize(img, (IMG_SIZE,IMG_SIZE))\n",
        "        training_data.append([np.array(img),np.array(label)])\n",
        "        img_count += 1\n",
        "        #if img_count > 6000 : break\n",
        "\n",
        "    shuffle(training_data)\n",
        "\n",
        "    file = open('train_data.dat', 'wb')\n",
        "    pickle.dump(training_data, file)  \n",
        "    file.close()\n",
        "\n",
        "    return training_data\n",
        "\n",
        "train_data = create_train_data()\n",
        "\n",
        "train = train_data[:-3000]\n",
        "test = train_data[-3000:]"
      ],
      "execution_count": 0,
      "outputs": []
    },
    {
      "metadata": {
        "id": "iGMnZ7Ar2dvu",
        "colab_type": "text"
      },
      "cell_type": "markdown",
      "source": [
        "**Data Split**"
      ]
    },
    {
      "metadata": {
        "id": "9R0RLlKx-BKt",
        "colab_type": "code",
        "colab": {
          "autoexec": {
            "startup": false,
            "wait_interval": 0
          },
          "base_uri": "https://localhost:8080/",
          "height": 171
        },
        "outputId": "b790a26a-d601-4159-b33b-ee9a01580167",
        "executionInfo": {
          "status": "ok",
          "timestamp": 1533649935839,
          "user_tz": -330,
          "elapsed": 1523,
          "user": {
            "displayName": "Prashant Piprotar",
            "photoUrl": "//lh4.googleusercontent.com/-hdNnmu6ZVpw/AAAAAAAAAAI/AAAAAAAAAXQ/Z0jSEmd2Fyk/s50-c-k-no/photo.jpg",
            "userId": "110207365728031633319"
          }
        }
      },
      "cell_type": "code",
      "source": [
        "# Training Data\n",
        "x_train = np.array([i[0] for i in train]).reshape(-1,IMG_SIZE,IMG_SIZE,1)\n",
        "y_train = [i[1] for i in train]\n",
        "\n",
        "y_train = to_categorical(y_train,30)\n",
        "\n",
        "# Testing Data\n",
        "x_test = np.array([i[0] for i in test]).reshape(-1,IMG_SIZE,IMG_SIZE,1)\n",
        "\n",
        "y_test = [i[1] for i in test]\n",
        "print(y_test)\n",
        "y_test = to_categorical(y_test,30)\n",
        "print(y_test)"
      ],
      "execution_count": 5,
      "outputs": [
        {
          "output_type": "stream",
          "text": [
            "[array(15, dtype=int32), array(15, dtype=int32), array(17, dtype=int32), array(12, dtype=int32), array(3, dtype=int32), array(17, dtype=int32), array(6, dtype=int32), array(0, dtype=int32), array(14, dtype=int32), array(29, dtype=int32), array(11, dtype=int32), array(0, dtype=int32), array(3, dtype=int32), array(1, dtype=int32), array(6, dtype=int32), array(18, dtype=int32), array(14, dtype=int32), array(10, dtype=int32), array(15, dtype=int32), array(22, dtype=int32), array(17, dtype=int32), array(26, dtype=int32), array(11, dtype=int32), array(7, dtype=int32), array(15, dtype=int32), array(0, dtype=int32), array(12, dtype=int32), array(20, dtype=int32), array(12, dtype=int32), array(26, dtype=int32), array(11, dtype=int32), array(9, dtype=int32), array(17, dtype=int32), array(3, dtype=int32), array(7, dtype=int32), array(4, dtype=int32), array(29, dtype=int32), array(11, dtype=int32), array(20, dtype=int32), array(12, dtype=int32), array(6, dtype=int32), array(8, dtype=int32), array(23, dtype=int32), array(26, dtype=int32), array(28, dtype=int32), array(22, dtype=int32), array(26, dtype=int32), array(7, dtype=int32), array(26, dtype=int32), array(15, dtype=int32), array(4, dtype=int32), array(19, dtype=int32), array(0, dtype=int32), array(2, dtype=int32), array(24, dtype=int32), array(23, dtype=int32), array(4, dtype=int32), array(10, dtype=int32), array(26, dtype=int32), array(20, dtype=int32), array(9, dtype=int32), array(6, dtype=int32), array(0, dtype=int32), array(26, dtype=int32), array(29, dtype=int32), array(16, dtype=int32), array(5, dtype=int32), array(20, dtype=int32), array(29, dtype=int32), array(12, dtype=int32), array(22, dtype=int32), array(19, dtype=int32), array(20, dtype=int32), array(6, dtype=int32), array(23, dtype=int32), array(25, dtype=int32), array(12, dtype=int32), array(27, dtype=int32), array(12, dtype=int32), array(9, dtype=int32), array(29, dtype=int32), array(13, dtype=int32), array(22, dtype=int32), array(5, dtype=int32), array(5, dtype=int32), array(7, dtype=int32), array(15, dtype=int32), array(6, dtype=int32), array(18, dtype=int32), array(9, dtype=int32), array(13, dtype=int32), array(9, dtype=int32), array(12, dtype=int32), array(7, dtype=int32), array(12, dtype=int32), array(10, dtype=int32), array(3, dtype=int32), array(17, dtype=int32), array(15, dtype=int32), array(24, dtype=int32), array(9, dtype=int32), array(5, dtype=int32), array(18, dtype=int32), array(11, dtype=int32), array(22, dtype=int32), array(9, dtype=int32), array(7, dtype=int32), array(13, dtype=int32), array(28, dtype=int32), array(23, dtype=int32), array(12, dtype=int32), array(26, dtype=int32), array(7, dtype=int32), array(28, dtype=int32), array(5, dtype=int32), array(11, dtype=int32), array(20, dtype=int32), array(12, dtype=int32), array(29, dtype=int32), array(15, dtype=int32), array(26, dtype=int32), array(6, dtype=int32), array(18, dtype=int32), array(10, dtype=int32), array(11, dtype=int32), array(1, dtype=int32), array(26, dtype=int32), array(27, dtype=int32), array(15, dtype=int32), array(29, dtype=int32), array(4, dtype=int32), array(20, dtype=int32), array(19, dtype=int32), array(3, dtype=int32), array(7, dtype=int32), array(22, dtype=int32), array(28, dtype=int32), array(26, dtype=int32), array(28, dtype=int32), array(15, dtype=int32), array(5, dtype=int32), array(11, dtype=int32), array(29, dtype=int32), array(24, dtype=int32), array(8, dtype=int32), array(0, dtype=int32), array(15, dtype=int32), array(10, dtype=int32), array(16, dtype=int32), array(3, dtype=int32), array(15, dtype=int32), array(8, dtype=int32), array(1, dtype=int32), array(5, dtype=int32), array(22, dtype=int32), array(2, dtype=int32), array(12, dtype=int32), array(16, dtype=int32), array(27, dtype=int32), array(18, dtype=int32), array(22, dtype=int32), array(22, dtype=int32), array(10, dtype=int32), array(9, dtype=int32), array(2, dtype=int32), array(0, dtype=int32), array(9, dtype=int32), array(19, dtype=int32), array(28, dtype=int32), array(10, dtype=int32), array(19, dtype=int32), array(16, dtype=int32), array(26, dtype=int32), array(19, dtype=int32), array(26, dtype=int32), array(0, dtype=int32), array(10, dtype=int32), array(11, dtype=int32), array(9, dtype=int32), array(13, dtype=int32), array(0, dtype=int32), array(10, dtype=int32), array(4, dtype=int32), array(1, dtype=int32), array(22, dtype=int32), array(16, dtype=int32), array(26, dtype=int32), array(24, dtype=int32), array(21, dtype=int32), array(20, dtype=int32), array(29, dtype=int32), array(0, dtype=int32), array(23, dtype=int32), array(29, dtype=int32), array(17, dtype=int32), array(0, dtype=int32), array(10, dtype=int32), array(5, dtype=int32), array(5, dtype=int32), array(28, dtype=int32), array(26, dtype=int32), array(18, dtype=int32), array(10, dtype=int32), array(5, dtype=int32), array(23, dtype=int32), array(15, dtype=int32), array(23, dtype=int32), array(8, dtype=int32), array(28, dtype=int32), array(5, dtype=int32), array(19, dtype=int32), array(17, dtype=int32), array(10, dtype=int32), array(24, dtype=int32), array(21, dtype=int32), array(6, dtype=int32), array(0, dtype=int32), array(26, dtype=int32), array(3, dtype=int32), array(5, dtype=int32), array(0, dtype=int32), array(12, dtype=int32), array(12, dtype=int32), array(23, dtype=int32), array(6, dtype=int32), array(28, dtype=int32), array(6, dtype=int32), array(26, dtype=int32), array(10, dtype=int32), array(18, dtype=int32), array(23, dtype=int32), array(17, dtype=int32), array(19, dtype=int32), array(26, dtype=int32), array(5, dtype=int32), array(1, dtype=int32), array(24, dtype=int32), array(23, dtype=int32), array(29, dtype=int32), array(11, dtype=int32), array(17, dtype=int32), array(2, dtype=int32), array(11, dtype=int32), array(19, dtype=int32), array(28, dtype=int32), array(24, dtype=int32), array(22, dtype=int32), array(9, dtype=int32), array(1, dtype=int32), array(3, dtype=int32), array(24, dtype=int32), array(19, dtype=int32), array(26, dtype=int32), array(26, dtype=int32), array(12, dtype=int32), array(12, dtype=int32), array(0, dtype=int32), array(0, dtype=int32), array(7, dtype=int32), array(24, dtype=int32), array(23, dtype=int32), array(7, dtype=int32), array(24, dtype=int32), array(26, dtype=int32), array(26, dtype=int32), array(21, dtype=int32), array(1, dtype=int32), array(12, dtype=int32), array(5, dtype=int32), array(22, dtype=int32), array(22, dtype=int32), array(26, dtype=int32), array(22, dtype=int32), array(19, dtype=int32), array(23, dtype=int32), array(12, dtype=int32), array(7, dtype=int32), array(9, dtype=int32), array(23, dtype=int32), array(0, dtype=int32), array(29, dtype=int32), array(7, dtype=int32), array(10, dtype=int32), array(9, dtype=int32), array(3, dtype=int32), array(5, dtype=int32), array(18, dtype=int32), array(27, dtype=int32), array(10, dtype=int32), array(15, dtype=int32), array(20, dtype=int32), array(25, dtype=int32), array(7, dtype=int32), array(0, dtype=int32), array(12, dtype=int32), array(12, dtype=int32), array(20, dtype=int32), array(1, dtype=int32), array(29, dtype=int32), array(12, dtype=int32), array(20, dtype=int32), array(9, dtype=int32), array(18, dtype=int32), array(1, dtype=int32), array(0, dtype=int32), array(26, dtype=int32), array(0, dtype=int32), array(7, dtype=int32), array(3, dtype=int32), array(21, dtype=int32), array(17, dtype=int32), array(15, dtype=int32), array(26, dtype=int32), array(12, dtype=int32), array(10, dtype=int32), array(10, dtype=int32), array(0, dtype=int32), array(26, dtype=int32), array(4, dtype=int32), array(4, dtype=int32), array(19, dtype=int32), array(17, dtype=int32), array(19, dtype=int32), array(0, dtype=int32), array(12, dtype=int32), array(18, dtype=int32), array(18, dtype=int32), array(6, dtype=int32), array(10, dtype=int32), array(17, dtype=int32), array(25, dtype=int32), array(9, dtype=int32), array(9, dtype=int32), array(4, dtype=int32), array(5, dtype=int32), array(3, dtype=int32), array(15, dtype=int32), array(25, dtype=int32), array(17, dtype=int32), array(9, dtype=int32), array(25, dtype=int32), array(23, dtype=int32), array(7, dtype=int32), array(17, dtype=int32), array(23, dtype=int32), array(19, dtype=int32), array(15, dtype=int32), array(15, dtype=int32), array(12, dtype=int32), array(9, dtype=int32), array(11, dtype=int32), array(4, dtype=int32), array(4, dtype=int32), array(6, dtype=int32), array(6, dtype=int32), array(26, dtype=int32), array(15, dtype=int32), array(13, dtype=int32), array(12, dtype=int32), array(9, dtype=int32), array(12, dtype=int32), array(19, dtype=int32), array(19, dtype=int32), array(5, dtype=int32), array(21, dtype=int32), array(3, dtype=int32), array(29, dtype=int32), array(29, dtype=int32), array(23, dtype=int32), array(26, dtype=int32), array(15, dtype=int32), array(9, dtype=int32), array(22, dtype=int32), array(10, dtype=int32), array(12, dtype=int32), array(9, dtype=int32), array(17, dtype=int32), array(29, dtype=int32), array(29, dtype=int32), array(12, dtype=int32), array(13, dtype=int32), array(7, dtype=int32), array(24, dtype=int32), array(19, dtype=int32), array(12, dtype=int32), array(17, dtype=int32), array(8, dtype=int32), array(12, dtype=int32), array(12, dtype=int32), array(4, dtype=int32), array(7, dtype=int32), array(17, dtype=int32), array(14, dtype=int32), array(9, dtype=int32), array(0, dtype=int32), array(17, dtype=int32), array(23, dtype=int32), array(22, dtype=int32), array(6, dtype=int32), array(16, dtype=int32), array(12, dtype=int32), array(9, dtype=int32), array(19, dtype=int32), array(23, dtype=int32), array(15, dtype=int32), array(27, dtype=int32), array(28, dtype=int32), array(6, dtype=int32), array(15, dtype=int32), array(17, dtype=int32), array(9, dtype=int32), array(4, dtype=int32), array(1, dtype=int32), array(20, dtype=int32), array(5, dtype=int32), array(7, dtype=int32), array(4, dtype=int32), array(20, dtype=int32), array(27, dtype=int32), array(24, dtype=int32), array(29, dtype=int32), array(15, dtype=int32), array(12, dtype=int32), array(21, dtype=int32), array(20, dtype=int32), array(13, dtype=int32), array(22, dtype=int32), array(4, dtype=int32), array(6, dtype=int32), array(8, dtype=int32), array(16, dtype=int32), array(7, dtype=int32), array(6, dtype=int32), array(10, dtype=int32), array(17, dtype=int32), array(27, dtype=int32), array(19, dtype=int32), array(12, dtype=int32), array(4, dtype=int32), array(9, dtype=int32), array(16, dtype=int32), array(17, dtype=int32), array(1, dtype=int32), array(26, dtype=int32), array(9, dtype=int32), array(4, dtype=int32), array(6, dtype=int32), array(13, dtype=int32), array(7, dtype=int32), array(21, dtype=int32), array(15, dtype=int32), array(23, dtype=int32), array(24, dtype=int32), array(17, dtype=int32), array(9, dtype=int32), array(24, dtype=int32), array(7, dtype=int32), array(12, dtype=int32), array(9, dtype=int32), array(19, dtype=int32), array(10, dtype=int32), array(5, dtype=int32), array(12, dtype=int32), array(19, dtype=int32), array(12, dtype=int32), array(4, dtype=int32), array(12, dtype=int32), array(9, dtype=int32), array(0, dtype=int32), array(16, dtype=int32), array(12, dtype=int32), array(0, dtype=int32), array(7, dtype=int32), array(7, dtype=int32), array(25, dtype=int32), array(21, dtype=int32), array(17, dtype=int32), array(19, dtype=int32), array(12, dtype=int32), array(28, dtype=int32), array(9, dtype=int32), array(15, dtype=int32), array(12, dtype=int32), array(27, dtype=int32), array(3, dtype=int32), array(20, dtype=int32), array(20, dtype=int32), array(23, dtype=int32), array(12, dtype=int32), array(29, dtype=int32), array(0, dtype=int32), array(7, dtype=int32), array(8, dtype=int32), array(8, dtype=int32), array(13, dtype=int32), array(10, dtype=int32), array(10, dtype=int32), array(16, dtype=int32), array(18, dtype=int32), array(6, dtype=int32), array(4, dtype=int32), array(17, dtype=int32), array(29, dtype=int32), array(28, dtype=int32), array(25, dtype=int32), array(12, dtype=int32), array(1, dtype=int32), array(15, dtype=int32), array(11, dtype=int32), array(4, dtype=int32), array(20, dtype=int32), array(7, dtype=int32), array(9, dtype=int32), array(8, dtype=int32), array(3, dtype=int32), array(5, dtype=int32), array(12, dtype=int32), array(12, dtype=int32), array(12, dtype=int32), array(4, dtype=int32), array(26, dtype=int32), array(7, dtype=int32), array(20, dtype=int32), array(23, dtype=int32), array(18, dtype=int32), array(23, dtype=int32), array(3, dtype=int32), array(26, dtype=int32), array(20, dtype=int32), array(26, dtype=int32), array(21, dtype=int32), array(10, dtype=int32), array(10, dtype=int32), array(5, dtype=int32), array(18, dtype=int32), array(18, dtype=int32), array(4, dtype=int32), array(23, dtype=int32), array(10, dtype=int32), array(17, dtype=int32), array(8, dtype=int32), array(19, dtype=int32), array(22, dtype=int32), array(18, dtype=int32), array(11, dtype=int32), array(22, dtype=int32), array(26, dtype=int32), array(0, dtype=int32), array(1, dtype=int32), array(23, dtype=int32), array(26, dtype=int32), array(18, dtype=int32), array(24, dtype=int32), array(9, dtype=int32), array(4, dtype=int32), array(23, dtype=int32), array(2, dtype=int32), array(26, dtype=int32), array(11, dtype=int32), array(17, dtype=int32), array(0, dtype=int32), array(12, dtype=int32), array(22, dtype=int32), array(7, dtype=int32), array(23, dtype=int32), array(17, dtype=int32), array(9, dtype=int32), array(10, dtype=int32), array(11, dtype=int32), array(22, dtype=int32), array(4, dtype=int32), array(9, dtype=int32), array(3, dtype=int32), array(26, dtype=int32), array(6, dtype=int32), array(22, dtype=int32), array(15, dtype=int32), array(18, dtype=int32), array(26, dtype=int32), array(0, dtype=int32), array(11, dtype=int32), array(29, dtype=int32), array(4, dtype=int32), array(12, dtype=int32), array(13, dtype=int32), array(9, dtype=int32), array(4, dtype=int32), array(11, dtype=int32), array(10, dtype=int32), array(23, dtype=int32), array(12, dtype=int32), array(24, dtype=int32), array(14, dtype=int32), array(4, dtype=int32), array(8, dtype=int32), array(23, dtype=int32), array(3, dtype=int32), array(8, dtype=int32), array(20, dtype=int32), array(17, dtype=int32), array(29, dtype=int32), array(22, dtype=int32), array(20, dtype=int32), array(11, dtype=int32), array(12, dtype=int32), array(2, dtype=int32), array(16, dtype=int32), array(15, dtype=int32), array(0, dtype=int32), array(5, dtype=int32), array(26, dtype=int32), array(12, dtype=int32), array(4, dtype=int32), array(12, dtype=int32), array(10, dtype=int32), array(12, dtype=int32), array(20, dtype=int32), array(9, dtype=int32), array(5, dtype=int32), array(3, dtype=int32), array(0, dtype=int32), array(11, dtype=int32), array(13, dtype=int32), array(8, dtype=int32), array(11, dtype=int32), array(7, dtype=int32), array(11, dtype=int32), array(7, dtype=int32), array(18, dtype=int32), array(15, dtype=int32), array(1, dtype=int32), array(9, dtype=int32), array(7, dtype=int32), array(1, dtype=int32), array(24, dtype=int32), array(12, dtype=int32), array(3, dtype=int32), array(4, dtype=int32), array(25, dtype=int32), array(12, dtype=int32), array(21, dtype=int32), array(26, dtype=int32), array(17, dtype=int32), array(7, dtype=int32), array(9, dtype=int32), array(15, dtype=int32), array(5, dtype=int32), array(22, dtype=int32), array(20, dtype=int32), array(9, dtype=int32), array(16, dtype=int32), array(23, dtype=int32), array(11, dtype=int32), array(26, dtype=int32), array(11, dtype=int32), array(15, dtype=int32), array(18, dtype=int32), array(25, dtype=int32), array(26, dtype=int32), array(26, dtype=int32), array(1, dtype=int32), array(6, dtype=int32), array(10, dtype=int32), array(26, dtype=int32), array(17, dtype=int32), array(6, dtype=int32), array(22, dtype=int32), array(11, dtype=int32), array(6, dtype=int32), array(17, dtype=int32), array(23, dtype=int32), array(12, dtype=int32), array(4, dtype=int32), array(10, dtype=int32), array(23, dtype=int32), array(15, dtype=int32), array(17, dtype=int32), array(12, dtype=int32), array(0, dtype=int32), array(12, dtype=int32), array(15, dtype=int32), array(3, dtype=int32), array(10, dtype=int32), array(29, dtype=int32), array(12, dtype=int32), array(3, dtype=int32), array(15, dtype=int32), array(23, dtype=int32), array(29, dtype=int32), array(20, dtype=int32), array(0, dtype=int32), array(17, dtype=int32), array(21, dtype=int32), array(12, dtype=int32), array(6, dtype=int32), array(22, dtype=int32), array(23, dtype=int32), array(3, dtype=int32), array(6, dtype=int32), array(18, dtype=int32), array(15, dtype=int32), array(3, dtype=int32), array(9, dtype=int32), array(0, dtype=int32), array(18, dtype=int32), array(15, dtype=int32), array(17, dtype=int32), array(7, dtype=int32), array(17, dtype=int32), array(10, dtype=int32), array(22, dtype=int32), array(19, dtype=int32), array(26, dtype=int32), array(5, dtype=int32), array(23, dtype=int32), array(18, dtype=int32), array(8, dtype=int32), array(16, dtype=int32), array(9, dtype=int32), array(12, dtype=int32), array(17, dtype=int32), array(11, dtype=int32), array(3, dtype=int32), array(22, dtype=int32), array(16, dtype=int32), array(26, dtype=int32), array(0, dtype=int32), array(0, dtype=int32), array(26, dtype=int32), array(10, dtype=int32), array(17, dtype=int32), array(22, dtype=int32), array(4, dtype=int32), array(23, dtype=int32), array(11, dtype=int32), array(26, dtype=int32), array(24, dtype=int32), array(6, dtype=int32), array(11, dtype=int32), array(15, dtype=int32), array(0, dtype=int32), array(6, dtype=int32), array(4, dtype=int32), array(21, dtype=int32), array(15, dtype=int32), array(9, dtype=int32), array(11, dtype=int32), array(9, dtype=int32), array(17, dtype=int32), array(3, dtype=int32), array(17, dtype=int32), array(11, dtype=int32), array(6, dtype=int32), array(12, dtype=int32), array(14, dtype=int32), array(3, dtype=int32), array(21, dtype=int32), array(8, dtype=int32), array(4, dtype=int32), array(15, dtype=int32), array(9, dtype=int32), array(27, dtype=int32), array(12, dtype=int32), array(9, dtype=int32), array(2, dtype=int32), array(8, dtype=int32), array(18, dtype=int32), array(18, dtype=int32), array(20, dtype=int32), array(23, dtype=int32), array(17, dtype=int32), array(7, dtype=int32), array(0, dtype=int32), array(5, dtype=int32), array(9, dtype=int32), array(15, dtype=int32), array(8, dtype=int32), array(7, dtype=int32), array(11, dtype=int32), array(23, dtype=int32), array(7, dtype=int32), array(26, dtype=int32), array(23, dtype=int32), array(9, dtype=int32), array(12, dtype=int32), array(22, dtype=int32), array(0, dtype=int32), array(3, dtype=int32), array(12, dtype=int32), array(19, dtype=int32), array(12, dtype=int32), array(27, dtype=int32), array(22, dtype=int32), array(9, dtype=int32), array(9, dtype=int32), array(23, dtype=int32), array(16, dtype=int32), array(6, dtype=int32), array(22, dtype=int32), array(23, dtype=int32), array(18, dtype=int32), array(13, dtype=int32), array(3, dtype=int32), array(9, dtype=int32), array(9, dtype=int32), array(4, dtype=int32), array(26, dtype=int32), array(5, dtype=int32), array(15, dtype=int32), array(23, dtype=int32), array(24, dtype=int32), array(17, dtype=int32), array(18, dtype=int32), array(29, dtype=int32), array(22, dtype=int32), array(16, dtype=int32), array(6, dtype=int32), array(28, dtype=int32), array(17, dtype=int32), array(22, dtype=int32), array(22, dtype=int32), array(11, dtype=int32), array(0, dtype=int32), array(20, dtype=int32), array(12, dtype=int32), array(12, dtype=int32), array(5, dtype=int32), array(12, dtype=int32), array(23, dtype=int32), array(20, dtype=int32), array(12, dtype=int32), array(10, dtype=int32), array(18, dtype=int32), array(18, dtype=int32), array(26, dtype=int32), array(8, dtype=int32), array(23, dtype=int32), array(4, dtype=int32), array(15, dtype=int32), array(18, dtype=int32), array(24, dtype=int32), array(12, dtype=int32), array(29, dtype=int32), array(12, dtype=int32), array(19, dtype=int32), array(5, dtype=int32), array(13, dtype=int32), array(20, dtype=int32), array(9, dtype=int32), array(13, dtype=int32), array(26, dtype=int32), array(6, dtype=int32), array(18, dtype=int32), array(11, dtype=int32), array(9, dtype=int32), array(9, dtype=int32), array(26, dtype=int32), array(18, dtype=int32), array(23, dtype=int32), array(21, dtype=int32), array(17, dtype=int32), array(5, dtype=int32), array(17, dtype=int32), array(18, dtype=int32), array(5, dtype=int32), array(9, dtype=int32), array(3, dtype=int32), array(8, dtype=int32), array(19, dtype=int32), array(7, dtype=int32), array(11, dtype=int32), array(9, dtype=int32), array(26, dtype=int32), array(15, dtype=int32), array(9, dtype=int32), array(29, dtype=int32), array(17, dtype=int32), array(4, dtype=int32), array(0, dtype=int32), array(12, dtype=int32), array(11, dtype=int32), array(15, dtype=int32), array(7, dtype=int32), array(19, dtype=int32), array(0, dtype=int32), array(5, dtype=int32), array(29, dtype=int32), array(20, dtype=int32), array(25, dtype=int32), array(4, dtype=int32), array(9, dtype=int32), array(27, dtype=int32), array(29, dtype=int32), array(12, dtype=int32), array(20, dtype=int32), array(15, dtype=int32), array(11, dtype=int32), array(12, dtype=int32), array(23, dtype=int32), array(27, dtype=int32), array(16, dtype=int32), array(6, dtype=int32), array(13, dtype=int32), array(4, dtype=int32), array(24, dtype=int32), array(13, dtype=int32), array(29, dtype=int32), array(11, dtype=int32), array(19, dtype=int32), array(17, dtype=int32), array(0, dtype=int32), array(6, dtype=int32), array(12, dtype=int32), array(25, dtype=int32), array(12, dtype=int32), array(15, dtype=int32), array(11, dtype=int32), array(7, dtype=int32), array(9, dtype=int32), array(0, dtype=int32), array(4, dtype=int32), array(5, dtype=int32), array(21, dtype=int32), array(5, dtype=int32), array(28, dtype=int32), array(8, dtype=int32), array(9, dtype=int32), array(28, dtype=int32), array(19, dtype=int32), array(11, dtype=int32), array(26, dtype=int32), array(6, dtype=int32), array(18, dtype=int32), array(8, dtype=int32), array(22, dtype=int32), array(26, dtype=int32), array(1, dtype=int32), array(18, dtype=int32), array(3, dtype=int32), array(22, dtype=int32), array(2, dtype=int32), array(26, dtype=int32), array(10, dtype=int32), array(29, dtype=int32), array(0, dtype=int32), array(21, dtype=int32), array(23, dtype=int32), array(24, dtype=int32), array(22, dtype=int32), array(7, dtype=int32), array(29, dtype=int32), array(12, dtype=int32), array(11, dtype=int32), array(9, dtype=int32), array(22, dtype=int32), array(25, dtype=int32), array(12, dtype=int32), array(27, dtype=int32), array(23, dtype=int32), array(9, dtype=int32), array(23, dtype=int32), array(12, dtype=int32), array(23, dtype=int32), array(5, dtype=int32), array(19, dtype=int32), array(1, dtype=int32), array(0, dtype=int32), array(15, dtype=int32), array(26, dtype=int32), array(0, dtype=int32), array(0, dtype=int32), array(9, dtype=int32), array(26, dtype=int32), array(12, dtype=int32), array(17, dtype=int32), array(12, dtype=int32), array(11, dtype=int32), array(26, dtype=int32), array(15, dtype=int32), array(20, dtype=int32), array(5, dtype=int32), array(18, dtype=int32), array(26, dtype=int32), array(10, dtype=int32), array(29, dtype=int32), array(26, dtype=int32), array(25, dtype=int32), array(19, dtype=int32), array(25, dtype=int32), array(15, dtype=int32), array(3, dtype=int32), array(15, dtype=int32), array(0, dtype=int32), array(28, dtype=int32), array(2, dtype=int32), array(22, dtype=int32), array(4, dtype=int32), array(21, dtype=int32), array(11, dtype=int32), array(1, dtype=int32), array(1, dtype=int32), array(24, dtype=int32), array(20, dtype=int32), array(9, dtype=int32), array(4, dtype=int32), array(12, dtype=int32), array(23, dtype=int32), array(11, dtype=int32), array(9, dtype=int32), array(7, dtype=int32), array(11, dtype=int32), array(29, dtype=int32), array(12, dtype=int32), array(13, dtype=int32), array(21, dtype=int32), array(19, dtype=int32), array(23, dtype=int32), array(7, dtype=int32), array(12, dtype=int32), array(28, dtype=int32), array(23, dtype=int32), array(26, dtype=int32), array(17, dtype=int32), array(12, dtype=int32), array(12, dtype=int32), array(18, dtype=int32), array(15, dtype=int32), array(9, dtype=int32), array(10, dtype=int32), array(5, dtype=int32), array(15, dtype=int32), array(12, dtype=int32), array(18, dtype=int32), array(0, dtype=int32), array(4, dtype=int32), array(26, dtype=int32), array(3, dtype=int32), array(19, dtype=int32), array(5, dtype=int32), array(29, dtype=int32), array(23, dtype=int32), array(26, dtype=int32), array(23, dtype=int32), array(9, dtype=int32), array(6, dtype=int32), array(0, dtype=int32), array(17, dtype=int32), array(28, dtype=int32), array(18, dtype=int32), array(4, dtype=int32), array(2, dtype=int32), array(29, dtype=int32), array(21, dtype=int32), array(9, dtype=int32), array(26, dtype=int32), array(5, dtype=int32), array(18, dtype=int32), array(17, dtype=int32), array(7, dtype=int32), array(10, dtype=int32), array(23, dtype=int32), array(24, dtype=int32), array(0, dtype=int32), array(8, dtype=int32), array(11, dtype=int32), array(20, dtype=int32), array(9, dtype=int32), array(26, dtype=int32), array(24, dtype=int32), array(8, dtype=int32), array(5, dtype=int32), array(5, dtype=int32), array(12, dtype=int32), array(18, dtype=int32), array(17, dtype=int32), array(8, dtype=int32), array(3, dtype=int32), array(10, dtype=int32), array(18, dtype=int32), array(11, dtype=int32), array(19, dtype=int32), array(7, dtype=int32), array(24, dtype=int32), array(7, dtype=int32), array(3, dtype=int32), array(8, dtype=int32), array(1, dtype=int32), array(7, dtype=int32), array(4, dtype=int32), array(25, dtype=int32), array(19, dtype=int32), array(8, dtype=int32), array(4, dtype=int32), array(17, dtype=int32), array(27, dtype=int32), array(10, dtype=int32), array(0, dtype=int32), array(24, dtype=int32), array(18, dtype=int32), array(19, dtype=int32), array(27, dtype=int32), array(12, dtype=int32), array(11, dtype=int32), array(12, dtype=int32), array(20, dtype=int32), array(23, dtype=int32), array(10, dtype=int32), array(26, dtype=int32), array(12, dtype=int32), array(13, dtype=int32), array(11, dtype=int32), array(19, dtype=int32), array(6, dtype=int32), array(7, dtype=int32), array(23, dtype=int32), array(18, dtype=int32), array(10, dtype=int32), array(26, dtype=int32), array(19, dtype=int32), array(12, dtype=int32), array(19, dtype=int32), array(6, dtype=int32), array(1, dtype=int32), array(7, dtype=int32), array(20, dtype=int32), array(29, dtype=int32), array(12, dtype=int32), array(21, dtype=int32), array(7, dtype=int32), array(7, dtype=int32), array(4, dtype=int32), array(26, dtype=int32), array(23, dtype=int32), array(11, dtype=int32), array(0, dtype=int32), array(8, dtype=int32), array(10, dtype=int32), array(24, dtype=int32), array(12, dtype=int32), array(22, dtype=int32), array(3, dtype=int32), array(19, dtype=int32), array(26, dtype=int32), array(7, dtype=int32), array(22, dtype=int32), array(0, dtype=int32), array(25, dtype=int32), array(13, dtype=int32), array(26, dtype=int32), array(12, dtype=int32), array(12, dtype=int32), array(10, dtype=int32), array(11, dtype=int32), array(22, dtype=int32), array(12, dtype=int32), array(29, dtype=int32), array(5, dtype=int32), array(18, dtype=int32), array(20, dtype=int32), array(13, dtype=int32), array(20, dtype=int32), array(23, dtype=int32), array(19, dtype=int32), array(26, dtype=int32), array(12, dtype=int32), array(0, dtype=int32), array(18, dtype=int32), array(7, dtype=int32), array(19, dtype=int32), array(0, dtype=int32), array(12, dtype=int32), array(8, dtype=int32), array(5, dtype=int32), array(18, dtype=int32), array(12, dtype=int32), array(4, dtype=int32), array(12, dtype=int32), array(3, dtype=int32), array(7, dtype=int32), array(15, dtype=int32), array(9, dtype=int32), array(20, dtype=int32), array(11, dtype=int32), array(12, dtype=int32), array(6, dtype=int32), array(3, dtype=int32), array(29, dtype=int32), array(8, dtype=int32), array(15, dtype=int32), array(11, dtype=int32), array(25, dtype=int32), array(23, dtype=int32), array(26, dtype=int32), array(11, dtype=int32), array(17, dtype=int32), array(4, dtype=int32), array(26, dtype=int32), array(1, dtype=int32), array(22, dtype=int32), array(12, dtype=int32), array(5, dtype=int32), array(7, dtype=int32), array(23, dtype=int32), array(0, dtype=int32), array(0, dtype=int32), array(9, dtype=int32), array(12, dtype=int32), array(19, dtype=int32), array(8, dtype=int32), array(12, dtype=int32), array(12, dtype=int32), array(0, dtype=int32), array(10, dtype=int32), array(23, dtype=int32), array(19, dtype=int32), array(12, dtype=int32), array(6, dtype=int32), array(11, dtype=int32), array(12, dtype=int32), array(11, dtype=int32), array(17, dtype=int32), array(15, dtype=int32), array(9, dtype=int32), array(22, dtype=int32), array(27, dtype=int32), array(0, dtype=int32), array(21, dtype=int32), array(12, dtype=int32), array(0, dtype=int32), array(10, dtype=int32), array(15, dtype=int32), array(17, dtype=int32), array(10, dtype=int32), array(4, dtype=int32), array(26, dtype=int32), array(8, dtype=int32), array(7, dtype=int32), array(7, dtype=int32), array(9, dtype=int32), array(23, dtype=int32), array(22, dtype=int32), array(12, dtype=int32), array(5, dtype=int32), array(29, dtype=int32), array(26, dtype=int32), array(18, dtype=int32), array(29, dtype=int32), array(0, dtype=int32), array(22, dtype=int32), array(0, dtype=int32), array(4, dtype=int32), array(9, dtype=int32), array(26, dtype=int32), array(4, dtype=int32), array(17, dtype=int32), array(0, dtype=int32), array(17, dtype=int32), array(17, dtype=int32), array(3, dtype=int32), array(22, dtype=int32), array(23, dtype=int32), array(23, dtype=int32), array(18, dtype=int32), array(28, dtype=int32), array(7, dtype=int32), array(25, dtype=int32), array(9, dtype=int32), array(25, dtype=int32), array(10, dtype=int32), array(16, dtype=int32), array(20, dtype=int32), array(6, dtype=int32), array(23, dtype=int32), array(5, dtype=int32), array(28, dtype=int32), array(26, dtype=int32), array(25, dtype=int32), array(4, dtype=int32), array(4, dtype=int32), array(10, dtype=int32), array(13, dtype=int32), array(29, dtype=int32), array(15, dtype=int32), array(19, dtype=int32), array(2, dtype=int32), array(24, dtype=int32), array(26, dtype=int32), array(10, dtype=int32), array(28, dtype=int32), array(15, dtype=int32), array(3, dtype=int32), array(12, dtype=int32), array(5, dtype=int32), array(0, dtype=int32), array(23, dtype=int32), array(3, dtype=int32), array(27, dtype=int32), array(7, dtype=int32), array(9, dtype=int32), array(22, dtype=int32), array(21, dtype=int32), array(24, dtype=int32), array(18, dtype=int32), array(11, dtype=int32), array(17, dtype=int32), array(17, dtype=int32), array(26, dtype=int32), array(24, dtype=int32), array(2, dtype=int32), array(23, dtype=int32), array(6, dtype=int32), array(23, dtype=int32), array(11, dtype=int32), array(23, dtype=int32), array(10, dtype=int32), array(10, dtype=int32), array(3, dtype=int32), array(6, dtype=int32), array(12, dtype=int32), array(20, dtype=int32), array(10, dtype=int32), array(6, dtype=int32), array(7, dtype=int32), array(19, dtype=int32), array(0, dtype=int32), array(29, dtype=int32), array(9, dtype=int32), array(0, dtype=int32), array(5, dtype=int32), array(17, dtype=int32), array(23, dtype=int32), array(10, dtype=int32), array(9, dtype=int32), array(29, dtype=int32), array(0, dtype=int32), array(26, dtype=int32), array(14, dtype=int32), array(26, dtype=int32), array(7, dtype=int32), array(7, dtype=int32), array(12, dtype=int32), array(19, dtype=int32), array(23, dtype=int32), array(10, dtype=int32), array(4, dtype=int32), array(22, dtype=int32), array(11, dtype=int32), array(12, dtype=int32), array(4, dtype=int32), array(0, dtype=int32), array(24, dtype=int32), array(25, dtype=int32), array(15, dtype=int32), array(13, dtype=int32), array(21, dtype=int32), array(28, dtype=int32), array(23, dtype=int32), array(0, dtype=int32), array(10, dtype=int32), array(9, dtype=int32), array(1, dtype=int32), array(12, dtype=int32), array(7, dtype=int32), array(13, dtype=int32), array(10, dtype=int32), array(8, dtype=int32), array(11, dtype=int32), array(20, dtype=int32), array(3, dtype=int32), array(7, dtype=int32), array(12, dtype=int32), array(21, dtype=int32), array(13, dtype=int32), array(1, dtype=int32), array(26, dtype=int32), array(0, dtype=int32), array(29, dtype=int32), array(12, dtype=int32), array(25, dtype=int32), array(5, dtype=int32), array(22, dtype=int32), array(8, dtype=int32), array(12, dtype=int32), array(22, dtype=int32), array(9, dtype=int32), array(7, dtype=int32), array(8, dtype=int32), array(17, dtype=int32), array(22, dtype=int32), array(0, dtype=int32), array(12, dtype=int32), array(2, dtype=int32), array(9, dtype=int32), array(0, dtype=int32), array(25, dtype=int32), array(6, dtype=int32), array(20, dtype=int32), array(24, dtype=int32), array(10, dtype=int32), array(26, dtype=int32), array(10, dtype=int32), array(11, dtype=int32), array(26, dtype=int32), array(12, dtype=int32), array(7, dtype=int32), array(10, dtype=int32), array(26, dtype=int32), array(22, dtype=int32), array(4, dtype=int32), array(12, dtype=int32), array(22, dtype=int32), array(23, dtype=int32), array(15, dtype=int32), array(15, dtype=int32), array(7, dtype=int32), array(19, dtype=int32), array(3, dtype=int32), array(4, dtype=int32), array(12, dtype=int32), array(11, dtype=int32), array(6, dtype=int32), array(17, dtype=int32), array(29, dtype=int32), array(12, dtype=int32), array(4, dtype=int32), array(5, dtype=int32), array(0, dtype=int32), array(0, dtype=int32), array(9, dtype=int32), array(23, dtype=int32), array(20, dtype=int32), array(8, dtype=int32), array(29, dtype=int32), array(5, dtype=int32), array(28, dtype=int32), array(4, dtype=int32), array(12, dtype=int32), array(10, dtype=int32), array(23, dtype=int32), array(27, dtype=int32), array(29, dtype=int32), array(3, dtype=int32), array(15, dtype=int32), array(3, dtype=int32), array(4, dtype=int32), array(7, dtype=int32), array(18, dtype=int32), array(7, dtype=int32), array(10, dtype=int32), array(17, dtype=int32), array(6, dtype=int32), array(29, dtype=int32), array(12, dtype=int32), array(18, dtype=int32), array(0, dtype=int32), array(12, dtype=int32), array(26, dtype=int32), array(26, dtype=int32), array(15, dtype=int32), array(29, dtype=int32), array(18, dtype=int32), array(11, dtype=int32), array(12, dtype=int32), array(26, dtype=int32), array(26, dtype=int32), array(5, dtype=int32), array(19, dtype=int32), array(0, dtype=int32), array(23, dtype=int32), array(26, dtype=int32), array(19, dtype=int32), array(0, dtype=int32), array(10, dtype=int32), array(12, dtype=int32), array(12, dtype=int32), array(4, dtype=int32), array(22, dtype=int32), array(10, dtype=int32), array(24, dtype=int32), array(4, dtype=int32), array(10, dtype=int32), array(20, dtype=int32), array(8, dtype=int32), array(7, dtype=int32), array(12, dtype=int32), array(7, dtype=int32), array(0, dtype=int32), array(26, dtype=int32), array(26, dtype=int32), array(24, dtype=int32), array(7, dtype=int32), array(19, dtype=int32), array(21, dtype=int32), array(6, dtype=int32), array(12, dtype=int32), array(15, dtype=int32), array(17, dtype=int32), array(12, dtype=int32), array(3, dtype=int32), array(21, dtype=int32), array(0, dtype=int32), array(26, dtype=int32), array(0, dtype=int32), array(15, dtype=int32), array(22, dtype=int32), array(29, dtype=int32), array(26, dtype=int32), array(7, dtype=int32), array(7, dtype=int32), array(12, dtype=int32), array(24, dtype=int32), array(29, dtype=int32), array(15, dtype=int32), array(22, dtype=int32), array(24, dtype=int32), array(9, dtype=int32), array(18, dtype=int32), array(6, dtype=int32), array(15, dtype=int32), array(0, dtype=int32), array(6, dtype=int32), array(10, dtype=int32), array(8, dtype=int32), array(17, dtype=int32), array(10, dtype=int32), array(9, dtype=int32), array(3, dtype=int32), array(17, dtype=int32), array(19, dtype=int32), array(29, dtype=int32), array(12, dtype=int32), array(7, dtype=int32), array(26, dtype=int32), array(29, dtype=int32), array(0, dtype=int32), array(3, dtype=int32), array(17, dtype=int32), array(15, dtype=int32), array(11, dtype=int32), array(11, dtype=int32), array(8, dtype=int32), array(19, dtype=int32), array(8, dtype=int32), array(12, dtype=int32), array(0, dtype=int32), array(11, dtype=int32), array(0, dtype=int32), array(18, dtype=int32), array(24, dtype=int32), array(19, dtype=int32), array(29, dtype=int32), array(17, dtype=int32), array(12, dtype=int32), array(18, dtype=int32), array(9, dtype=int32), array(12, dtype=int32), array(7, dtype=int32), array(15, dtype=int32), array(28, dtype=int32), array(21, dtype=int32), array(1, dtype=int32), array(20, dtype=int32), array(22, dtype=int32), array(0, dtype=int32), array(26, dtype=int32), array(5, dtype=int32), array(12, dtype=int32), array(3, dtype=int32), array(23, dtype=int32), array(23, dtype=int32), array(10, dtype=int32), array(18, dtype=int32), array(12, dtype=int32), array(4, dtype=int32), array(7, dtype=int32), array(20, dtype=int32), array(12, dtype=int32), array(15, dtype=int32), array(12, dtype=int32), array(23, dtype=int32), array(4, dtype=int32), array(17, dtype=int32), array(12, dtype=int32), array(11, dtype=int32), array(17, dtype=int32), array(6, dtype=int32), array(27, dtype=int32), array(25, dtype=int32), array(5, dtype=int32), array(26, dtype=int32), array(0, dtype=int32), array(18, dtype=int32), array(12, dtype=int32), array(4, dtype=int32), array(4, dtype=int32), array(8, dtype=int32), array(7, dtype=int32), array(10, dtype=int32), array(29, dtype=int32), array(7, dtype=int32), array(12, dtype=int32), array(9, dtype=int32), array(10, dtype=int32), array(0, dtype=int32), array(11, dtype=int32), array(12, dtype=int32), array(20, dtype=int32), array(16, dtype=int32), array(23, dtype=int32), array(13, dtype=int32), array(21, dtype=int32), array(27, dtype=int32), array(26, dtype=int32), array(12, dtype=int32), array(3, dtype=int32), array(21, dtype=int32), array(19, dtype=int32), array(24, dtype=int32), array(12, dtype=int32), array(15, dtype=int32), array(0, dtype=int32), array(26, dtype=int32), array(17, dtype=int32), array(9, dtype=int32), array(19, dtype=int32), array(14, dtype=int32), array(3, dtype=int32), array(12, dtype=int32), array(13, dtype=int32), array(13, dtype=int32), array(11, dtype=int32), array(22, dtype=int32), array(12, dtype=int32), array(15, dtype=int32), array(12, dtype=int32), array(5, dtype=int32), array(7, dtype=int32), array(6, dtype=int32), array(9, dtype=int32), array(23, dtype=int32), array(16, dtype=int32), array(28, dtype=int32), array(23, dtype=int32), array(6, dtype=int32), array(24, dtype=int32), array(23, dtype=int32), array(0, dtype=int32), array(12, dtype=int32), array(15, dtype=int32), array(17, dtype=int32), array(16, dtype=int32), array(19, dtype=int32), array(16, dtype=int32), array(26, dtype=int32), array(19, dtype=int32), array(12, dtype=int32), array(1, dtype=int32), array(11, dtype=int32), array(19, dtype=int32), array(20, dtype=int32), array(10, dtype=int32), array(17, dtype=int32), array(3, dtype=int32), array(0, dtype=int32), array(3, dtype=int32), array(25, dtype=int32), array(26, dtype=int32), array(3, dtype=int32), array(19, dtype=int32), array(12, dtype=int32), array(8, dtype=int32), array(16, dtype=int32), array(26, dtype=int32), array(17, dtype=int32), array(26, dtype=int32), array(4, dtype=int32), array(10, dtype=int32), array(26, dtype=int32), array(8, dtype=int32), array(12, dtype=int32), array(19, dtype=int32), array(27, dtype=int32), array(23, dtype=int32), array(1, dtype=int32), array(12, dtype=int32), array(22, dtype=int32), array(26, dtype=int32), array(24, dtype=int32), array(9, dtype=int32), array(0, dtype=int32), array(26, dtype=int32), array(1, dtype=int32), array(12, dtype=int32), array(10, dtype=int32), array(29, dtype=int32), array(21, dtype=int32), array(21, dtype=int32), array(1, dtype=int32), array(22, dtype=int32), array(6, dtype=int32), array(9, dtype=int32), array(22, dtype=int32), array(0, dtype=int32), array(20, dtype=int32), array(12, dtype=int32), array(0, dtype=int32), array(22, dtype=int32), array(6, dtype=int32), array(6, dtype=int32), array(24, dtype=int32), array(11, dtype=int32), array(26, dtype=int32), array(12, dtype=int32), array(17, dtype=int32), array(4, dtype=int32), array(22, dtype=int32), array(9, dtype=int32), array(9, dtype=int32), array(15, dtype=int32), array(4, dtype=int32), array(17, dtype=int32), array(9, dtype=int32), array(18, dtype=int32), array(19, dtype=int32), array(12, dtype=int32), array(26, dtype=int32), array(0, dtype=int32), array(24, dtype=int32), array(17, dtype=int32), array(12, dtype=int32), array(12, dtype=int32), array(17, dtype=int32), array(1, dtype=int32), array(12, dtype=int32), array(29, dtype=int32), array(0, dtype=int32), array(9, dtype=int32), array(9, dtype=int32), array(3, dtype=int32), array(7, dtype=int32), array(9, dtype=int32), array(5, dtype=int32), array(17, dtype=int32), array(18, dtype=int32), array(26, dtype=int32), array(17, dtype=int32), array(12, dtype=int32), array(17, dtype=int32), array(11, dtype=int32), array(4, dtype=int32), array(29, dtype=int32), array(24, dtype=int32), array(3, dtype=int32), array(9, dtype=int32), array(6, dtype=int32), array(12, dtype=int32), array(22, dtype=int32), array(15, dtype=int32), array(19, dtype=int32), array(1, dtype=int32), array(24, dtype=int32), array(22, dtype=int32), array(9, dtype=int32), array(1, dtype=int32), array(3, dtype=int32), array(29, dtype=int32), array(4, dtype=int32), array(11, dtype=int32), array(1, dtype=int32), array(26, dtype=int32), array(12, dtype=int32), array(26, dtype=int32), array(15, dtype=int32), array(29, dtype=int32), array(9, dtype=int32), array(11, dtype=int32), array(0, dtype=int32), array(23, dtype=int32), array(0, dtype=int32), array(19, dtype=int32), array(15, dtype=int32), array(10, dtype=int32), array(26, dtype=int32), array(21, dtype=int32), array(23, dtype=int32), array(24, dtype=int32), array(24, dtype=int32), array(4, dtype=int32), array(21, dtype=int32), array(15, dtype=int32), array(18, dtype=int32), array(11, dtype=int32), array(1, dtype=int32), array(22, dtype=int32), array(6, dtype=int32), array(28, dtype=int32), array(27, dtype=int32), array(22, dtype=int32), array(9, dtype=int32), array(23, dtype=int32), array(3, dtype=int32), array(11, dtype=int32), array(18, dtype=int32), array(4, dtype=int32), array(9, dtype=int32), array(5, dtype=int32), array(26, dtype=int32), array(21, dtype=int32), array(13, dtype=int32), array(26, dtype=int32), array(11, dtype=int32), array(10, dtype=int32), array(12, dtype=int32), array(24, dtype=int32), array(12, dtype=int32), array(11, dtype=int32), array(10, dtype=int32), array(8, dtype=int32), array(19, dtype=int32), array(26, dtype=int32), array(19, dtype=int32), array(12, dtype=int32), array(7, dtype=int32), array(12, dtype=int32), array(17, dtype=int32), array(17, dtype=int32), array(0, dtype=int32), array(5, dtype=int32), array(13, dtype=int32), array(12, dtype=int32), array(4, dtype=int32), array(28, dtype=int32), array(22, dtype=int32), array(0, dtype=int32), array(0, dtype=int32), array(8, dtype=int32), array(24, dtype=int32), array(26, dtype=int32), array(5, dtype=int32), array(12, dtype=int32), array(18, dtype=int32), array(11, dtype=int32), array(20, dtype=int32), array(9, dtype=int32), array(11, dtype=int32), array(17, dtype=int32), array(0, dtype=int32), array(24, dtype=int32), array(3, dtype=int32), array(4, dtype=int32), array(19, dtype=int32), array(6, dtype=int32), array(21, dtype=int32), array(22, dtype=int32), array(0, dtype=int32), array(26, dtype=int32), array(10, dtype=int32), array(10, dtype=int32), array(12, dtype=int32), array(6, dtype=int32), array(6, dtype=int32), array(23, dtype=int32), array(21, dtype=int32), array(26, dtype=int32), array(7, dtype=int32), array(8, dtype=int32), array(19, dtype=int32), array(4, dtype=int32), array(8, dtype=int32), array(24, dtype=int32), array(15, dtype=int32), array(23, dtype=int32), array(17, dtype=int32), array(12, dtype=int32), array(0, dtype=int32), array(23, dtype=int32), array(26, dtype=int32), array(10, dtype=int32), array(1, dtype=int32), array(6, dtype=int32), array(0, dtype=int32), array(8, dtype=int32), array(9, dtype=int32), array(8, dtype=int32), array(3, dtype=int32), array(21, dtype=int32), array(15, dtype=int32), array(11, dtype=int32), array(0, dtype=int32), array(7, dtype=int32), array(23, dtype=int32), array(5, dtype=int32), array(23, dtype=int32), array(23, dtype=int32), array(7, dtype=int32), array(3, dtype=int32), array(20, dtype=int32), array(11, dtype=int32), array(10, dtype=int32), array(28, dtype=int32), array(15, dtype=int32), array(25, dtype=int32), array(4, dtype=int32), array(21, dtype=int32), array(19, dtype=int32), array(15, dtype=int32), array(0, dtype=int32), array(12, dtype=int32), array(23, dtype=int32), array(7, dtype=int32), array(21, dtype=int32), array(6, dtype=int32), array(20, dtype=int32), array(1, dtype=int32), array(9, dtype=int32), array(7, dtype=int32), array(19, dtype=int32), array(17, dtype=int32), array(18, dtype=int32), array(22, dtype=int32), array(6, dtype=int32), array(23, dtype=int32), array(21, dtype=int32), array(10, dtype=int32), array(20, dtype=int32), array(4, dtype=int32), array(23, dtype=int32), array(17, dtype=int32), array(10, dtype=int32), array(0, dtype=int32), array(19, dtype=int32), array(23, dtype=int32), array(4, dtype=int32), array(8, dtype=int32), array(23, dtype=int32), array(4, dtype=int32), array(7, dtype=int32), array(29, dtype=int32), array(21, dtype=int32), array(5, dtype=int32), array(26, dtype=int32), array(23, dtype=int32), array(4, dtype=int32), array(12, dtype=int32), array(9, dtype=int32), array(18, dtype=int32), array(26, dtype=int32), array(19, dtype=int32), array(2, dtype=int32), array(25, dtype=int32), array(11, dtype=int32), array(20, dtype=int32), array(24, dtype=int32), array(24, dtype=int32), array(12, dtype=int32), array(4, dtype=int32), array(4, dtype=int32), array(5, dtype=int32), array(17, dtype=int32), array(15, dtype=int32), array(20, dtype=int32), array(0, dtype=int32), array(24, dtype=int32), array(0, dtype=int32), array(4, dtype=int32), array(19, dtype=int32), array(12, dtype=int32), array(8, dtype=int32), array(26, dtype=int32), array(23, dtype=int32), array(15, dtype=int32), array(9, dtype=int32), array(11, dtype=int32), array(12, dtype=int32), array(17, dtype=int32), array(23, dtype=int32), array(18, dtype=int32), array(8, dtype=int32), array(9, dtype=int32), array(9, dtype=int32), array(9, dtype=int32), array(12, dtype=int32), array(6, dtype=int32), array(5, dtype=int32), array(4, dtype=int32), array(7, dtype=int32), array(25, dtype=int32), array(16, dtype=int32), array(1, dtype=int32), array(29, dtype=int32), array(28, dtype=int32), array(15, dtype=int32), array(29, dtype=int32), array(12, dtype=int32), array(20, dtype=int32), array(6, dtype=int32), array(8, dtype=int32), array(29, dtype=int32), array(15, dtype=int32), array(3, dtype=int32), array(20, dtype=int32), array(16, dtype=int32), array(24, dtype=int32), array(6, dtype=int32), array(10, dtype=int32), array(16, dtype=int32), array(19, dtype=int32), array(10, dtype=int32), array(26, dtype=int32), array(7, dtype=int32), array(13, dtype=int32), array(8, dtype=int32), array(18, dtype=int32), array(23, dtype=int32), array(10, dtype=int32), array(8, dtype=int32), array(23, dtype=int32), array(0, dtype=int32), array(17, dtype=int32), array(11, dtype=int32), array(10, dtype=int32), array(12, dtype=int32), array(17, dtype=int32), array(26, dtype=int32), array(7, dtype=int32), array(1, dtype=int32), array(10, dtype=int32), array(13, dtype=int32), array(10, dtype=int32), array(4, dtype=int32), array(7, dtype=int32), array(19, dtype=int32), array(12, dtype=int32), array(18, dtype=int32), array(22, dtype=int32), array(26, dtype=int32), array(10, dtype=int32), array(27, dtype=int32), array(11, dtype=int32), array(27, dtype=int32), array(0, dtype=int32), array(29, dtype=int32), array(10, dtype=int32), array(18, dtype=int32), array(23, dtype=int32), array(2, dtype=int32), array(0, dtype=int32), array(24, dtype=int32), array(17, dtype=int32), array(19, dtype=int32), array(1, dtype=int32), array(11, dtype=int32), array(12, dtype=int32), array(6, dtype=int32), array(18, dtype=int32), array(25, dtype=int32), array(22, dtype=int32), array(12, dtype=int32), array(25, dtype=int32), array(10, dtype=int32), array(23, dtype=int32), array(23, dtype=int32), array(18, dtype=int32), array(22, dtype=int32), array(9, dtype=int32), array(15, dtype=int32), array(0, dtype=int32), array(9, dtype=int32), array(20, dtype=int32), array(12, dtype=int32), array(15, dtype=int32), array(3, dtype=int32), array(15, dtype=int32), array(10, dtype=int32), array(9, dtype=int32), array(24, dtype=int32), array(18, dtype=int32), array(0, dtype=int32), array(12, dtype=int32), array(3, dtype=int32), array(0, dtype=int32), array(20, dtype=int32), array(4, dtype=int32), array(18, dtype=int32), array(10, dtype=int32), array(6, dtype=int32), array(1, dtype=int32), array(17, dtype=int32), array(25, dtype=int32), array(18, dtype=int32), array(29, dtype=int32), array(7, dtype=int32), array(22, dtype=int32), array(15, dtype=int32), array(12, dtype=int32), array(12, dtype=int32), array(7, dtype=int32), array(1, dtype=int32), array(12, dtype=int32), array(3, dtype=int32), array(3, dtype=int32), array(29, dtype=int32), array(10, dtype=int32), array(18, dtype=int32), array(11, dtype=int32), array(14, dtype=int32), array(19, dtype=int32), array(10, dtype=int32), array(5, dtype=int32), array(22, dtype=int32), array(15, dtype=int32), array(20, dtype=int32), array(7, dtype=int32), array(5, dtype=int32), array(2, dtype=int32), array(6, dtype=int32), array(7, dtype=int32), array(15, dtype=int32), array(16, dtype=int32), array(19, dtype=int32), array(9, dtype=int32), array(24, dtype=int32), array(19, dtype=int32), array(15, dtype=int32), array(26, dtype=int32), array(17, dtype=int32), array(11, dtype=int32), array(4, dtype=int32), array(7, dtype=int32), array(0, dtype=int32), array(11, dtype=int32), array(21, dtype=int32), array(3, dtype=int32), array(15, dtype=int32), array(18, dtype=int32), array(10, dtype=int32), array(29, dtype=int32), array(23, dtype=int32), array(18, dtype=int32), array(15, dtype=int32), array(23, dtype=int32), array(4, dtype=int32), array(12, dtype=int32), array(5, dtype=int32), array(6, dtype=int32), array(21, dtype=int32), array(13, dtype=int32), array(28, dtype=int32), array(26, dtype=int32), array(26, dtype=int32), array(24, dtype=int32), array(12, dtype=int32), array(18, dtype=int32), array(20, dtype=int32), array(26, dtype=int32), array(6, dtype=int32), array(2, dtype=int32), array(19, dtype=int32), array(3, dtype=int32), array(23, dtype=int32), array(26, dtype=int32), array(26, dtype=int32), array(13, dtype=int32), array(9, dtype=int32), array(15, dtype=int32), array(18, dtype=int32), array(25, dtype=int32), array(10, dtype=int32), array(9, dtype=int32), array(18, dtype=int32), array(7, dtype=int32), array(6, dtype=int32), array(8, dtype=int32), array(4, dtype=int32), array(22, dtype=int32), array(23, dtype=int32), array(18, dtype=int32), array(4, dtype=int32), array(12, dtype=int32), array(25, dtype=int32), array(12, dtype=int32), array(8, dtype=int32), array(21, dtype=int32), array(0, dtype=int32), array(20, dtype=int32), array(13, dtype=int32), array(13, dtype=int32), array(19, dtype=int32), array(12, dtype=int32), array(5, dtype=int32), array(1, dtype=int32), array(20, dtype=int32), array(16, dtype=int32), array(21, dtype=int32), array(7, dtype=int32), array(7, dtype=int32), array(25, dtype=int32), array(17, dtype=int32), array(18, dtype=int32), array(5, dtype=int32), array(4, dtype=int32), array(4, dtype=int32), array(8, dtype=int32), array(18, dtype=int32), array(27, dtype=int32), array(10, dtype=int32), array(19, dtype=int32), array(9, dtype=int32), array(29, dtype=int32), array(4, dtype=int32), array(26, dtype=int32), array(7, dtype=int32), array(2, dtype=int32), array(23, dtype=int32), array(3, dtype=int32), array(22, dtype=int32), array(26, dtype=int32), array(26, dtype=int32), array(17, dtype=int32), array(2, dtype=int32), array(18, dtype=int32), array(12, dtype=int32), array(23, dtype=int32), array(15, dtype=int32), array(4, dtype=int32), array(21, dtype=int32), array(1, dtype=int32), array(26, dtype=int32), array(7, dtype=int32), array(3, dtype=int32), array(0, dtype=int32), array(26, dtype=int32), array(20, dtype=int32), array(5, dtype=int32), array(26, dtype=int32), array(23, dtype=int32), array(27, dtype=int32), array(7, dtype=int32), array(18, dtype=int32), array(6, dtype=int32), array(3, dtype=int32), array(24, dtype=int32), array(21, dtype=int32), array(7, dtype=int32), array(19, dtype=int32), array(5, dtype=int32), array(6, dtype=int32), array(26, dtype=int32), array(7, dtype=int32), array(15, dtype=int32), array(22, dtype=int32), array(22, dtype=int32), array(26, dtype=int32), array(22, dtype=int32), array(13, dtype=int32), array(19, dtype=int32), array(12, dtype=int32), array(16, dtype=int32), array(4, dtype=int32), array(23, dtype=int32), array(14, dtype=int32), array(0, dtype=int32), array(10, dtype=int32), array(2, dtype=int32), array(10, dtype=int32), array(17, dtype=int32), array(19, dtype=int32), array(14, dtype=int32), array(23, dtype=int32), array(18, dtype=int32), array(1, dtype=int32), array(7, dtype=int32), array(9, dtype=int32), array(17, dtype=int32), array(6, dtype=int32), array(3, dtype=int32), array(29, dtype=int32), array(4, dtype=int32), array(19, dtype=int32), array(7, dtype=int32), array(8, dtype=int32), array(27, dtype=int32), array(0, dtype=int32), array(20, dtype=int32), array(10, dtype=int32), array(7, dtype=int32), array(21, dtype=int32), array(12, dtype=int32), array(12, dtype=int32), array(28, dtype=int32), array(21, dtype=int32), array(19, dtype=int32), array(12, dtype=int32), array(12, dtype=int32), array(24, dtype=int32), array(3, dtype=int32), array(0, dtype=int32), array(13, dtype=int32), array(17, dtype=int32), array(26, dtype=int32), array(10, dtype=int32), array(26, dtype=int32), array(3, dtype=int32), array(23, dtype=int32), array(4, dtype=int32), array(18, dtype=int32), array(28, dtype=int32), array(9, dtype=int32), array(6, dtype=int32), array(24, dtype=int32), array(21, dtype=int32), array(13, dtype=int32), array(26, dtype=int32), array(5, dtype=int32), array(23, dtype=int32), array(12, dtype=int32), array(18, dtype=int32), array(0, dtype=int32), array(15, dtype=int32), array(15, dtype=int32), array(26, dtype=int32), array(1, dtype=int32), array(9, dtype=int32), array(7, dtype=int32), array(18, dtype=int32), array(0, dtype=int32), array(22, dtype=int32), array(21, dtype=int32), array(16, dtype=int32), array(5, dtype=int32), array(27, dtype=int32), array(2, dtype=int32), array(15, dtype=int32), array(24, dtype=int32), array(23, dtype=int32), array(9, dtype=int32), array(12, dtype=int32), array(0, dtype=int32), array(9, dtype=int32), array(9, dtype=int32), array(23, dtype=int32), array(24, dtype=int32), array(26, dtype=int32), array(21, dtype=int32), array(10, dtype=int32), array(23, dtype=int32), array(23, dtype=int32), array(18, dtype=int32), array(10, dtype=int32), array(18, dtype=int32), array(12, dtype=int32), array(26, dtype=int32), array(20, dtype=int32), array(11, dtype=int32), array(12, dtype=int32), array(7, dtype=int32), array(19, dtype=int32), array(28, dtype=int32), array(6, dtype=int32), array(12, dtype=int32), array(18, dtype=int32), array(22, dtype=int32), array(3, dtype=int32), array(3, dtype=int32), array(23, dtype=int32), array(20, dtype=int32), array(0, dtype=int32), array(25, dtype=int32), array(10, dtype=int32), array(25, dtype=int32), array(17, dtype=int32), array(10, dtype=int32), array(7, dtype=int32), array(19, dtype=int32), array(26, dtype=int32), array(29, dtype=int32), array(24, dtype=int32), array(24, dtype=int32), array(24, dtype=int32), array(1, dtype=int32), array(29, dtype=int32), array(3, dtype=int32), array(12, dtype=int32), array(17, dtype=int32), array(23, dtype=int32), array(8, dtype=int32), array(22, dtype=int32), array(15, dtype=int32), array(14, dtype=int32), array(1, dtype=int32), array(23, dtype=int32), array(24, dtype=int32), array(5, dtype=int32), array(9, dtype=int32), array(11, dtype=int32), array(11, dtype=int32), array(10, dtype=int32), array(26, dtype=int32), array(19, dtype=int32), array(1, dtype=int32), array(0, dtype=int32), array(5, dtype=int32), array(4, dtype=int32), array(29, dtype=int32), array(5, dtype=int32), array(26, dtype=int32), array(8, dtype=int32), array(11, dtype=int32), array(0, dtype=int32), array(26, dtype=int32), array(7, dtype=int32), array(0, dtype=int32), array(23, dtype=int32), array(8, dtype=int32), array(6, dtype=int32), array(23, dtype=int32), array(7, dtype=int32), array(7, dtype=int32), array(8, dtype=int32), array(7, dtype=int32), array(19, dtype=int32), array(19, dtype=int32), array(23, dtype=int32), array(7, dtype=int32), array(18, dtype=int32), array(10, dtype=int32), array(18, dtype=int32), array(19, dtype=int32), array(9, dtype=int32), array(4, dtype=int32), array(17, dtype=int32), array(20, dtype=int32), array(2, dtype=int32), array(28, dtype=int32), array(12, dtype=int32), array(7, dtype=int32), array(17, dtype=int32), array(9, dtype=int32), array(29, dtype=int32), array(12, dtype=int32), array(21, dtype=int32), array(0, dtype=int32), array(11, dtype=int32), array(11, dtype=int32), array(23, dtype=int32), array(12, dtype=int32), array(0, dtype=int32), array(18, dtype=int32), array(11, dtype=int32), array(4, dtype=int32), array(20, dtype=int32), array(22, dtype=int32), array(7, dtype=int32), array(11, dtype=int32), array(4, dtype=int32), array(2, dtype=int32), array(20, dtype=int32), array(4, dtype=int32), array(11, dtype=int32), array(12, dtype=int32), array(23, dtype=int32), array(10, dtype=int32), array(19, dtype=int32), array(5, dtype=int32), array(26, dtype=int32), array(24, dtype=int32), array(6, dtype=int32), array(26, dtype=int32), array(18, dtype=int32), array(26, dtype=int32), array(6, dtype=int32), array(24, dtype=int32), array(0, dtype=int32), array(4, dtype=int32), array(26, dtype=int32), array(5, dtype=int32), array(23, dtype=int32), array(12, dtype=int32), array(6, dtype=int32), array(12, dtype=int32), array(29, dtype=int32), array(10, dtype=int32), array(0, dtype=int32), array(19, dtype=int32), array(18, dtype=int32), array(26, dtype=int32), array(23, dtype=int32), array(20, dtype=int32), array(11, dtype=int32), array(10, dtype=int32), array(23, dtype=int32), array(3, dtype=int32), array(19, dtype=int32), array(12, dtype=int32), array(1, dtype=int32), array(9, dtype=int32), array(22, dtype=int32), array(25, dtype=int32), array(26, dtype=int32), array(0, dtype=int32), array(23, dtype=int32), array(5, dtype=int32), array(12, dtype=int32), array(0, dtype=int32), array(7, dtype=int32), array(8, dtype=int32), array(20, dtype=int32), array(5, dtype=int32), array(5, dtype=int32), array(10, dtype=int32), array(23, dtype=int32), array(5, dtype=int32), array(22, dtype=int32), array(11, dtype=int32), array(12, dtype=int32), array(15, dtype=int32), array(10, dtype=int32), array(26, dtype=int32), array(27, dtype=int32), array(23, dtype=int32), array(20, dtype=int32), array(12, dtype=int32), array(5, dtype=int32), array(9, dtype=int32), array(10, dtype=int32), array(23, dtype=int32), array(23, dtype=int32), array(3, dtype=int32), array(12, dtype=int32), array(5, dtype=int32), array(17, dtype=int32), array(17, dtype=int32), array(3, dtype=int32), array(18, dtype=int32), array(12, dtype=int32), array(27, dtype=int32), array(4, dtype=int32), array(8, dtype=int32), array(7, dtype=int32), array(6, dtype=int32), array(28, dtype=int32), array(19, dtype=int32), array(5, dtype=int32), array(0, dtype=int32), array(12, dtype=int32), array(27, dtype=int32), array(17, dtype=int32), array(27, dtype=int32), array(19, dtype=int32), array(6, dtype=int32), array(27, dtype=int32), array(9, dtype=int32), array(10, dtype=int32), array(0, dtype=int32), array(27, dtype=int32), array(29, dtype=int32), array(20, dtype=int32), array(26, dtype=int32), array(12, dtype=int32), array(12, dtype=int32), array(26, dtype=int32), array(26, dtype=int32), array(5, dtype=int32), array(15, dtype=int32), array(0, dtype=int32), array(7, dtype=int32), array(12, dtype=int32), array(24, dtype=int32), array(23, dtype=int32), array(20, dtype=int32), array(15, dtype=int32), array(10, dtype=int32), array(1, dtype=int32), array(3, dtype=int32), array(10, dtype=int32), array(29, dtype=int32), array(9, dtype=int32), array(26, dtype=int32), array(25, dtype=int32), array(9, dtype=int32), array(8, dtype=int32), array(12, dtype=int32), array(11, dtype=int32), array(23, dtype=int32), array(20, dtype=int32), array(15, dtype=int32), array(26, dtype=int32), array(23, dtype=int32), array(8, dtype=int32), array(26, dtype=int32), array(3, dtype=int32), array(7, dtype=int32), array(7, dtype=int32), array(17, dtype=int32), array(26, dtype=int32), array(7, dtype=int32), array(15, dtype=int32), array(5, dtype=int32), array(24, dtype=int32), array(22, dtype=int32), array(24, dtype=int32), array(0, dtype=int32), array(12, dtype=int32), array(15, dtype=int32), array(23, dtype=int32), array(4, dtype=int32), array(9, dtype=int32), array(15, dtype=int32), array(19, dtype=int32), array(7, dtype=int32), array(8, dtype=int32), array(0, dtype=int32), array(0, dtype=int32), array(24, dtype=int32), array(3, dtype=int32), array(6, dtype=int32), array(2, dtype=int32), array(7, dtype=int32), array(8, dtype=int32), array(21, dtype=int32), array(11, dtype=int32), array(12, dtype=int32), array(6, dtype=int32), array(12, dtype=int32), array(20, dtype=int32), array(19, dtype=int32), array(3, dtype=int32), array(21, dtype=int32), array(7, dtype=int32), array(15, dtype=int32), array(18, dtype=int32), array(11, dtype=int32), array(17, dtype=int32), array(12, dtype=int32), array(22, dtype=int32), array(6, dtype=int32), array(18, dtype=int32), array(19, dtype=int32), array(26, dtype=int32), array(8, dtype=int32), array(18, dtype=int32), array(4, dtype=int32), array(26, dtype=int32), array(23, dtype=int32), array(24, dtype=int32), array(15, dtype=int32), array(8, dtype=int32), array(11, dtype=int32), array(11, dtype=int32), array(15, dtype=int32), array(19, dtype=int32), array(11, dtype=int32), array(18, dtype=int32), array(14, dtype=int32), array(27, dtype=int32), array(29, dtype=int32), array(5, dtype=int32), array(9, dtype=int32), array(20, dtype=int32), array(7, dtype=int32), array(10, dtype=int32), array(17, dtype=int32), array(22, dtype=int32), array(21, dtype=int32), array(20, dtype=int32), array(19, dtype=int32), array(10, dtype=int32), array(11, dtype=int32), array(9, dtype=int32), array(12, dtype=int32), array(4, dtype=int32), array(18, dtype=int32), array(4, dtype=int32), array(12, dtype=int32), array(26, dtype=int32), array(26, dtype=int32), array(12, dtype=int32), array(8, dtype=int32), array(2, dtype=int32), array(11, dtype=int32), array(17, dtype=int32), array(29, dtype=int32), array(25, dtype=int32), array(11, dtype=int32), array(10, dtype=int32), array(18, dtype=int32), array(17, dtype=int32), array(10, dtype=int32), array(13, dtype=int32), array(26, dtype=int32), array(16, dtype=int32), array(10, dtype=int32), array(26, dtype=int32), array(19, dtype=int32), array(19, dtype=int32), array(17, dtype=int32), array(3, dtype=int32), array(12, dtype=int32), array(19, dtype=int32), array(21, dtype=int32), array(15, dtype=int32), array(19, dtype=int32), array(11, dtype=int32), array(22, dtype=int32), array(12, dtype=int32), array(0, dtype=int32), array(23, dtype=int32), array(25, dtype=int32), array(24, dtype=int32), array(15, dtype=int32), array(2, dtype=int32), array(17, dtype=int32), array(0, dtype=int32), array(22, dtype=int32), array(10, dtype=int32), array(0, dtype=int32), array(20, dtype=int32), array(29, dtype=int32), array(7, dtype=int32), array(4, dtype=int32), array(7, dtype=int32), array(23, dtype=int32), array(27, dtype=int32), array(19, dtype=int32), array(21, dtype=int32), array(10, dtype=int32), array(29, dtype=int32), array(9, dtype=int32), array(28, dtype=int32), array(25, dtype=int32), array(26, dtype=int32), array(4, dtype=int32), array(28, dtype=int32), array(22, dtype=int32), array(0, dtype=int32), array(23, dtype=int32), array(4, dtype=int32), array(0, dtype=int32), array(7, dtype=int32), array(23, dtype=int32), array(26, dtype=int32), array(16, dtype=int32), array(12, dtype=int32), array(29, dtype=int32), array(24, dtype=int32), array(5, dtype=int32), array(6, dtype=int32), array(9, dtype=int32), array(20, dtype=int32), array(29, dtype=int32), array(7, dtype=int32), array(8, dtype=int32), array(16, dtype=int32), array(26, dtype=int32), array(0, dtype=int32), array(19, dtype=int32), array(7, dtype=int32), array(8, dtype=int32), array(7, dtype=int32), array(26, dtype=int32), array(4, dtype=int32), array(28, dtype=int32), array(7, dtype=int32), array(0, dtype=int32), array(29, dtype=int32), array(26, dtype=int32), array(9, dtype=int32), array(22, dtype=int32), array(10, dtype=int32), array(23, dtype=int32), array(6, dtype=int32), array(26, dtype=int32), array(10, dtype=int32), array(15, dtype=int32), array(26, dtype=int32), array(12, dtype=int32), array(12, dtype=int32), array(12, dtype=int32), array(6, dtype=int32), array(9, dtype=int32), array(22, dtype=int32), array(21, dtype=int32), array(4, dtype=int32), array(12, dtype=int32), array(9, dtype=int32), array(13, dtype=int32), array(5, dtype=int32), array(28, dtype=int32), array(12, dtype=int32), array(16, dtype=int32), array(23, dtype=int32), array(26, dtype=int32), array(22, dtype=int32), array(20, dtype=int32), array(19, dtype=int32), array(17, dtype=int32), array(23, dtype=int32), array(0, dtype=int32), array(0, dtype=int32), array(0, dtype=int32), array(0, dtype=int32), array(0, dtype=int32), array(26, dtype=int32), array(15, dtype=int32), array(20, dtype=int32), array(29, dtype=int32), array(10, dtype=int32), array(4, dtype=int32), array(12, dtype=int32), array(15, dtype=int32), array(28, dtype=int32), array(5, dtype=int32), array(23, dtype=int32), array(24, dtype=int32), array(12, dtype=int32), array(8, dtype=int32), array(27, dtype=int32), array(11, dtype=int32), array(6, dtype=int32), array(23, dtype=int32), array(25, dtype=int32), array(10, dtype=int32), array(7, dtype=int32), array(26, dtype=int32), array(4, dtype=int32), array(12, dtype=int32), array(29, dtype=int32), array(18, dtype=int32), array(12, dtype=int32), array(0, dtype=int32), array(24, dtype=int32), array(4, dtype=int32), array(25, dtype=int32), array(3, dtype=int32), array(21, dtype=int32), array(22, dtype=int32), array(0, dtype=int32), array(11, dtype=int32), array(18, dtype=int32), array(12, dtype=int32), array(10, dtype=int32), array(6, dtype=int32), array(3, dtype=int32), array(8, dtype=int32), array(12, dtype=int32), array(4, dtype=int32), array(23, dtype=int32), array(17, dtype=int32), array(20, dtype=int32), array(9, dtype=int32), array(7, dtype=int32), array(1, dtype=int32), array(4, dtype=int32), array(6, dtype=int32), array(16, dtype=int32), array(12, dtype=int32), array(3, dtype=int32), array(8, dtype=int32), array(9, dtype=int32), array(12, dtype=int32), array(12, dtype=int32), array(17, dtype=int32), array(5, dtype=int32), array(4, dtype=int32), array(18, dtype=int32), array(23, dtype=int32), array(10, dtype=int32), array(0, dtype=int32), array(28, dtype=int32), array(9, dtype=int32), array(10, dtype=int32), array(12, dtype=int32), array(12, dtype=int32), array(7, dtype=int32), array(9, dtype=int32), array(18, dtype=int32), array(4, dtype=int32), array(10, dtype=int32), array(3, dtype=int32), array(25, dtype=int32), array(9, dtype=int32), array(24, dtype=int32), array(12, dtype=int32), array(15, dtype=int32), array(26, dtype=int32), array(23, dtype=int32), array(3, dtype=int32), array(17, dtype=int32), array(0, dtype=int32), array(1, dtype=int32), array(12, dtype=int32), array(0, dtype=int32), array(4, dtype=int32), array(19, dtype=int32), array(6, dtype=int32), array(10, dtype=int32), array(22, dtype=int32), array(18, dtype=int32), array(9, dtype=int32), array(3, dtype=int32), array(9, dtype=int32), array(0, dtype=int32), array(21, dtype=int32), array(26, dtype=int32), array(24, dtype=int32), array(3, dtype=int32), array(12, dtype=int32), array(11, dtype=int32), array(15, dtype=int32), array(21, dtype=int32), array(26, dtype=int32), array(14, dtype=int32), array(3, dtype=int32), array(19, dtype=int32), array(6, dtype=int32), array(19, dtype=int32), array(1, dtype=int32), array(9, dtype=int32), array(11, dtype=int32), array(22, dtype=int32), array(19, dtype=int32), array(22, dtype=int32), array(6, dtype=int32), array(24, dtype=int32), array(26, dtype=int32), array(11, dtype=int32), array(29, dtype=int32), array(23, dtype=int32), array(12, dtype=int32), array(26, dtype=int32), array(7, dtype=int32), array(8, dtype=int32), array(17, dtype=int32), array(18, dtype=int32), array(12, dtype=int32), array(13, dtype=int32), array(26, dtype=int32), array(25, dtype=int32), array(23, dtype=int32), array(29, dtype=int32), array(27, dtype=int32), array(9, dtype=int32), array(9, dtype=int32), array(6, dtype=int32), array(9, dtype=int32), array(8, dtype=int32), array(29, dtype=int32), array(6, dtype=int32), array(7, dtype=int32), array(19, dtype=int32), array(13, dtype=int32), array(12, dtype=int32), array(5, dtype=int32), array(3, dtype=int32), array(22, dtype=int32), array(23, dtype=int32), array(10, dtype=int32), array(23, dtype=int32), array(25, dtype=int32), array(17, dtype=int32), array(9, dtype=int32), array(26, dtype=int32), array(0, dtype=int32), array(26, dtype=int32), array(7, dtype=int32), array(26, dtype=int32), array(12, dtype=int32), array(17, dtype=int32), array(8, dtype=int32), array(0, dtype=int32), array(0, dtype=int32), array(4, dtype=int32), array(5, dtype=int32), array(4, dtype=int32), array(6, dtype=int32), array(5, dtype=int32), array(15, dtype=int32), array(12, dtype=int32), array(0, dtype=int32), array(12, dtype=int32), array(19, dtype=int32), array(8, dtype=int32), array(3, dtype=int32), array(26, dtype=int32), array(28, dtype=int32), array(13, dtype=int32), array(4, dtype=int32), array(24, dtype=int32), array(3, dtype=int32), array(12, dtype=int32), array(29, dtype=int32), array(4, dtype=int32), array(5, dtype=int32), array(2, dtype=int32), array(15, dtype=int32), array(9, dtype=int32), array(23, dtype=int32), array(26, dtype=int32), array(17, dtype=int32), array(8, dtype=int32)]\n",
            "[[0. 0. 0. ... 0. 0. 0.]\n",
            " [0. 0. 0. ... 0. 0. 0.]\n",
            " [0. 0. 0. ... 0. 0. 0.]\n",
            " ...\n",
            " [0. 0. 0. ... 0. 0. 0.]\n",
            " [0. 0. 0. ... 0. 0. 0.]\n",
            " [0. 0. 0. ... 0. 0. 0.]]\n"
          ],
          "name": "stdout"
        }
      ]
    },
    {
      "metadata": {
        "id": "mH4X1dvC2YJ-",
        "colab_type": "text"
      },
      "cell_type": "markdown",
      "source": [
        "**Model Design**"
      ]
    },
    {
      "metadata": {
        "id": "aWYFgYo6lm72",
        "colab_type": "code",
        "colab": {
          "autoexec": {
            "startup": false,
            "wait_interval": 0
          },
          "base_uri": "https://localhost:8080/",
          "height": 138
        },
        "outputId": "896c6b53-a30b-4295-dc35-78063c579248",
        "executionInfo": {
          "status": "ok",
          "timestamp": 1533649937262,
          "user_tz": -330,
          "elapsed": 1379,
          "user": {
            "displayName": "Prashant Piprotar",
            "photoUrl": "//lh4.googleusercontent.com/-hdNnmu6ZVpw/AAAAAAAAAAI/AAAAAAAAAXQ/Z0jSEmd2Fyk/s50-c-k-no/photo.jpg",
            "userId": "110207365728031633319"
          }
        }
      },
      "cell_type": "code",
      "source": [
        "# Convolutional network building\n",
        "tf.reset_default_graph()\n",
        "network = input_data(shape=[None, IMG_SIZE, IMG_SIZE, 1], name='input')\n",
        "\n",
        "network = conv_2d(network, 32, 3, activation='relu')\n",
        "\n",
        "network = max_pool_2d(network, 2)\n",
        "\n",
        "network = conv_2d(network, 64, 3, activation='relu')\n",
        "\n",
        "network = conv_2d(network, 64, 3, activation='relu')\n",
        "\n",
        "network = max_pool_2d(network, 2)\n",
        "\n",
        "network = fully_connected(network, 512, activation='relu')\n",
        "\n",
        "network = dropout(network, 0.5)\n",
        "\n",
        "network = fully_connected(network, 30, activation='softmax')\n",
        "\n",
        "network = regression(network, optimizer='adam',\n",
        "                     loss='categorical_crossentropy',\n",
        "                     learning_rate=0.001)"
      ],
      "execution_count": 6,
      "outputs": [
        {
          "output_type": "stream",
          "text": [
            "WARNING:tensorflow:From /usr/local/lib/python3.6/dist-packages/tflearn/initializations.py:119: UniformUnitScaling.__init__ (from tensorflow.python.ops.init_ops) is deprecated and will be removed in a future version.\n",
            "Instructions for updating:\n",
            "Use tf.initializers.variance_scaling instead with distribution=uniform to get equivalent behavior.\n",
            "WARNING:tensorflow:From /usr/local/lib/python3.6/dist-packages/tflearn/objectives.py:66: calling reduce_sum (from tensorflow.python.ops.math_ops) with keep_dims is deprecated and will be removed in a future version.\n",
            "Instructions for updating:\n",
            "keep_dims is deprecated, use keepdims instead\n"
          ],
          "name": "stdout"
        }
      ]
    },
    {
      "metadata": {
        "id": "9wRSrFUn2k7m",
        "colab_type": "text"
      },
      "cell_type": "markdown",
      "source": [
        "**Training the Model**"
      ]
    },
    {
      "metadata": {
        "id": "0KBsEA5o2ip-",
        "colab_type": "code",
        "colab": {
          "autoexec": {
            "startup": false,
            "wait_interval": 0
          },
          "base_uri": "https://localhost:8080/",
          "height": 414
        },
        "outputId": "d1ba0d5f-5424-45a2-c627-fc706c092e54",
        "executionInfo": {
          "status": "error",
          "timestamp": 1533652699959,
          "user_tz": -330,
          "elapsed": 6181,
          "user": {
            "displayName": "Prashant Piprotar",
            "photoUrl": "//lh4.googleusercontent.com/-hdNnmu6ZVpw/AAAAAAAAAAI/AAAAAAAAAXQ/Z0jSEmd2Fyk/s50-c-k-no/photo.jpg",
            "userId": "110207365728031633319"
          }
        }
      },
      "cell_type": "code",
      "source": [
        "# Train\n",
        "model = tflearn.DNN(network, tensorboard_verbose=0)\n",
        "model.fit(x_train, y_train, n_epoch=100, shuffle=True, validation_set=(x_test, y_test),\n",
        "          show_metric=True, run_id=MODEL_NAME)\n",
        "model.save(MODEL_NAME)\n",
        "#files.download(MODEL_NAME)"
      ],
      "execution_count": 7,
      "outputs": [
        {
          "output_type": "stream",
          "text": [
            "Training Step: 15699  | total loss: \u001b[1m\u001b[32m21.65076\u001b[0m\u001b[0m | time: 24.189s\n",
            "| Adam | epoch: 100 | loss: 21.65076 - acc: 0.0597 -- iter: 09984/10000\n",
            "Training Step: 15700  | total loss: \u001b[1m\u001b[32m21.64436\u001b[0m\u001b[0m | time: 26.797s\n",
            "| Adam | epoch: 100 | loss: 21.64436 - acc: 0.0600 | val_loss: 21.55987 - val_acc: 0.0637 -- iter: 10000/10000\n",
            "--\n",
            "INFO:tensorflow:/content/dlchallenge-0.001-2conv-basic.model is not in all_model_checkpoint_paths. Manually adding it.\n"
          ],
          "name": "stdout"
        },
        {
          "output_type": "error",
          "ename": "FileNotFoundError",
          "evalue": "ignored",
          "traceback": [
            "\u001b[0;31m---------------------------------------------------------------------------\u001b[0m",
            "\u001b[0;31mFileNotFoundError\u001b[0m                         Traceback (most recent call last)",
            "\u001b[0;32m<ipython-input-7-9cdf02cef66b>\u001b[0m in \u001b[0;36m<module>\u001b[0;34m()\u001b[0m\n\u001b[1;32m      3\u001b[0m           show_metric=True, run_id=MODEL_NAME)\n\u001b[1;32m      4\u001b[0m \u001b[0mmodel\u001b[0m\u001b[0;34m.\u001b[0m\u001b[0msave\u001b[0m\u001b[0;34m(\u001b[0m\u001b[0mMODEL_NAME\u001b[0m\u001b[0;34m)\u001b[0m\u001b[0;34m\u001b[0m\u001b[0m\n\u001b[0;32m----> 5\u001b[0;31m \u001b[0mfiles\u001b[0m\u001b[0;34m.\u001b[0m\u001b[0mdownload\u001b[0m\u001b[0;34m(\u001b[0m\u001b[0mMODEL_NAME\u001b[0m\u001b[0;34m)\u001b[0m\u001b[0;34m\u001b[0m\u001b[0m\n\u001b[0m",
            "\u001b[0;32m/usr/local/lib/python3.6/dist-packages/google/colab/files.py\u001b[0m in \u001b[0;36mdownload\u001b[0;34m(filename)\u001b[0m\n\u001b[1;32m    140\u001b[0m       \u001b[0;32mraise\u001b[0m \u001b[0mOSError\u001b[0m\u001b[0;34m(\u001b[0m\u001b[0mmsg\u001b[0m\u001b[0;34m)\u001b[0m\u001b[0;34m\u001b[0m\u001b[0m\n\u001b[1;32m    141\u001b[0m     \u001b[0;32melse\u001b[0m\u001b[0;34m:\u001b[0m\u001b[0;34m\u001b[0m\u001b[0m\n\u001b[0;32m--> 142\u001b[0;31m       \u001b[0;32mraise\u001b[0m \u001b[0mFileNotFoundError\u001b[0m\u001b[0;34m(\u001b[0m\u001b[0mmsg\u001b[0m\u001b[0;34m)\u001b[0m  \u001b[0;31m# pylint: disable=undefined-variable\u001b[0m\u001b[0;34m\u001b[0m\u001b[0m\n\u001b[0m\u001b[1;32m    143\u001b[0m \u001b[0;34m\u001b[0m\u001b[0m\n\u001b[1;32m    144\u001b[0m   \u001b[0mstarted\u001b[0m \u001b[0;34m=\u001b[0m \u001b[0mthreading\u001b[0m\u001b[0;34m.\u001b[0m\u001b[0mEvent\u001b[0m\u001b[0;34m(\u001b[0m\u001b[0;34m)\u001b[0m\u001b[0;34m\u001b[0m\u001b[0m\n",
            "\u001b[0;31mFileNotFoundError\u001b[0m: Cannot find file: dlchallenge-0.001-2conv-basic.model"
          ]
        }
      ]
    }
  ]
}