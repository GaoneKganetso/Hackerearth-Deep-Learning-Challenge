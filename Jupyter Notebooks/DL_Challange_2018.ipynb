{
  "nbformat": 4,
  "nbformat_minor": 0,
  "metadata": {
    "colab": {
      "name": "DL Challange 2018.ipynb",
      "provenance": [],
      "collapsed_sections": []
    },
    "kernelspec": {
      "name": "python3",
      "display_name": "Python 3"
    },
    "accelerator": "GPU"
  },
  "cells": [
    {
      "cell_type": "markdown",
      "metadata": {
        "id": "NiSqOD6A6xK0",
        "colab_type": "text"
      },
      "source": [
        "# **DL Challange 2018**"
      ]
    },
    {
      "cell_type": "markdown",
      "metadata": {
        "id": "BeyKyr8_ze3S",
        "colab_type": "text"
      },
      "source": [
        "Drive mount"
      ]
    },
    {
      "cell_type": "code",
      "metadata": {
        "colab_type": "code",
        "outputId": "8d625065-d720-4acf-baf3-e760c620fa91",
        "id": "B4-bmF7v1RTB",
        "colab": {
          "base_uri": "https://localhost:8080/",
          "height": 121
        }
      },
      "source": [
        "from google.colab import drive\n",
        "drive.mount('/gdrive')"
      ],
      "execution_count": 1,
      "outputs": [
        {
          "output_type": "stream",
          "text": [
            "Go to this URL in a browser: https://accounts.google.com/o/oauth2/auth?client_id=947318989803-6bn6qk8qdgf4n4g3pfee6491hc0brc4i.apps.googleusercontent.com&redirect_uri=urn%3aietf%3awg%3aoauth%3a2.0%3aoob&response_type=code&scope=email%20https%3a%2f%2fwww.googleapis.com%2fauth%2fdocs.test%20https%3a%2f%2fwww.googleapis.com%2fauth%2fdrive%20https%3a%2f%2fwww.googleapis.com%2fauth%2fdrive.photos.readonly%20https%3a%2f%2fwww.googleapis.com%2fauth%2fpeopleapi.readonly\n",
            "\n",
            "Enter your authorization code:\n",
            "··········\n",
            "Mounted at /gdrive\n"
          ],
          "name": "stdout"
        }
      ]
    },
    {
      "cell_type": "markdown",
      "metadata": {
        "id": "NpJM0WwC7Axd",
        "colab_type": "text"
      },
      "source": [
        "## Data Copy"
      ]
    },
    {
      "cell_type": "code",
      "metadata": {
        "id": "4FVC6QgK7Hu0",
        "colab_type": "code",
        "outputId": "b899a813-eb28-4256-83f2-586b96941213",
        "colab": {
          "base_uri": "https://localhost:8080/",
          "height": 34
        }
      },
      "source": [
        "# %rm data.tar.xz\n",
        "# %rm -rf dataAll\n",
        "%ls /gdrive/'My Drive'/ML/Hackerearth/Animal-classifier\n",
        "%cp /gdrive/'My Drive'/ML/Hackerearth/Animal-classifier/data.zip /content/"
      ],
      "execution_count": 2,
      "outputs": [
        {
          "output_type": "stream",
          "text": [
            "\u001b[0m\u001b[01;34malien_test\u001b[0m/  data.zip  DLBeginnerorganized.zip  DLBeginner.zip  meta-data.zip\n"
          ],
          "name": "stdout"
        }
      ]
    },
    {
      "cell_type": "code",
      "metadata": {
        "id": "jS4yZkNA7MHm",
        "colab_type": "code",
        "colab": {}
      },
      "source": [
        "import zipfile\n",
        "with zipfile.ZipFile(\"data.zip\", 'r') as zip_ref:\n",
        "    zip_ref.extractall(\"\")"
      ],
      "execution_count": 0,
      "outputs": []
    },
    {
      "cell_type": "code",
      "metadata": {
        "id": "qJIezc-y7O5M",
        "colab_type": "code",
        "outputId": "c948e80a-ecac-4a71-ca2f-0f01488bdb11",
        "colab": {
          "base_uri": "https://localhost:8080/",
          "height": 67
        }
      },
      "source": [
        "%ls data\n",
        "%rm train_data.dat\n",
        "%ls"
      ],
      "execution_count": 14,
      "outputs": [
        {
          "output_type": "stream",
          "text": [
            "\u001b[0m\u001b[01;34m0\u001b[0m/  \u001b[01;34m10\u001b[0m/  \u001b[01;34m12\u001b[0m/  \u001b[01;34m14\u001b[0m/  \u001b[01;34m16\u001b[0m/  \u001b[01;34m18\u001b[0m/  \u001b[01;34m2\u001b[0m/   \u001b[01;34m21\u001b[0m/  \u001b[01;34m23\u001b[0m/  \u001b[01;34m25\u001b[0m/  \u001b[01;34m27\u001b[0m/  \u001b[01;34m3\u001b[0m/  \u001b[01;34m5\u001b[0m/  \u001b[01;34m7\u001b[0m/  \u001b[01;34m9\u001b[0m/\n",
            "\u001b[01;34m1\u001b[0m/  \u001b[01;34m11\u001b[0m/  \u001b[01;34m13\u001b[0m/  \u001b[01;34m15\u001b[0m/  \u001b[01;34m17\u001b[0m/  \u001b[01;34m19\u001b[0m/  \u001b[01;34m20\u001b[0m/  \u001b[01;34m22\u001b[0m/  \u001b[01;34m24\u001b[0m/  \u001b[01;34m26\u001b[0m/  \u001b[01;34m28\u001b[0m/  \u001b[01;34m4\u001b[0m/  \u001b[01;34m6\u001b[0m/  \u001b[01;34m8\u001b[0m/\n",
            "\u001b[0m\u001b[01;34malien_test\u001b[0m/  \u001b[01;34mdata\u001b[0m/  data.zip  \u001b[01;34msample_data\u001b[0m/\n"
          ],
          "name": "stdout"
        }
      ]
    },
    {
      "cell_type": "markdown",
      "metadata": {
        "id": "-o8u4uxDfb5-",
        "colab_type": "text"
      },
      "source": [
        "## **Imports**"
      ]
    },
    {
      "cell_type": "code",
      "metadata": {
        "id": "WrNUWHX4fsug",
        "colab_type": "code",
        "colab": {
          "base_uri": "https://localhost:8080/",
          "height": 34
        },
        "outputId": "3b37b07a-36be-4449-e0dc-fc9f93927d4d"
      },
      "source": [
        "import os\n",
        "import cv2\n",
        "import numpy as np\n",
        "from tqdm import tqdm\n",
        "from random import shuffle\n",
        "import pickle\n",
        "\n",
        "import keras\n",
        "from keras.utils import to_categorical\n",
        "from keras.datasets import cifar10\n",
        "from keras.preprocessing.image import ImageDataGenerator\n",
        "from keras.models import Sequential\n",
        "from keras.layers import Dense, Dropout, Activation, Flatten\n",
        "from keras.layers import Conv2D, MaxPooling2D"
      ],
      "execution_count": 5,
      "outputs": [
        {
          "output_type": "stream",
          "text": [
            "Using TensorFlow backend.\n"
          ],
          "name": "stderr"
        }
      ]
    },
    {
      "cell_type": "markdown",
      "metadata": {
        "id": "xYWeUbbruJKZ",
        "colab_type": "text"
      },
      "source": [
        "### Global Variables"
      ]
    },
    {
      "cell_type": "code",
      "metadata": {
        "id": "p1dfLQRAuMhu",
        "colab_type": "code",
        "colab": {}
      },
      "source": [
        "IMG_SIZE = 150\n",
        "LR = 1e-3\n",
        "batch_size = 16\n",
        "num_classes = 29\n",
        "epochs = 5\n",
        "data_augmentation = False\n",
        "num_predictions = 20\n",
        "model_name = 'trained_model.h5'"
      ],
      "execution_count": 0,
      "outputs": []
    },
    {
      "cell_type": "markdown",
      "metadata": {
        "id": "SveOj-fzijZ4",
        "colab_type": "text"
      },
      "source": [
        "# Data Preprocessing\n",
        "\n"
      ]
    },
    {
      "cell_type": "code",
      "metadata": {
        "id": "3dUnSOp7in-x",
        "colab_type": "code",
        "outputId": "96d64525-a738-4d4a-ae05-42680889ed3c",
        "colab": {
          "base_uri": "https://localhost:8080/",
          "height": 50
        }
      },
      "source": [
        "#%rm train_data.dat\n",
        "path = \"data\"\n",
        "\n",
        "def create_train_data():\n",
        "  training_data = []\n",
        "\n",
        "  if os.path.exists(\"train_data.dat\"):\n",
        "    file = open('train_data.dat', 'rb')\n",
        "    training_data = pickle.load(file)\n",
        "    file.close()\n",
        "    return training_data\n",
        "\n",
        "  #img_count = 0\n",
        "  for folder in tqdm(os.listdir(path)):\n",
        "    p = path + \"/\" + folder\n",
        "    files = os.listdir(p)\n",
        "    for i in files:\n",
        "      label = folder\n",
        "      img_loc = p + \"/\" + i\n",
        "      img = cv2.imread(img_loc,cv2.IMREAD_GRAYSCALE)\n",
        "      img = cv2.resize(img, (IMG_SIZE,IMG_SIZE))\n",
        "      training_data.append([np.array(img),np.array(label)])\n",
        "      #img_count += 1\n",
        "      #if img_count > 6000 : break\n",
        "\n",
        "  shuffle(training_data)\n",
        "\n",
        "  file = open('train_data.dat', 'wb')\n",
        "  pickle.dump(training_data, file)  \n",
        "  file.close()\n",
        "\n",
        "  return training_data\n",
        "\n",
        "train_data = create_train_data()\n",
        "%ls"
      ],
      "execution_count": 16,
      "outputs": [
        {
          "output_type": "stream",
          "text": [
            "100%|██████████| 29/29 [00:04<00:00,  6.68it/s]\n"
          ],
          "name": "stderr"
        },
        {
          "output_type": "stream",
          "text": [
            "\u001b[0m\u001b[01;34malien_test\u001b[0m/  \u001b[01;34mdata\u001b[0m/  data.zip  \u001b[01;34msample_data\u001b[0m/  train_data.dat\n"
          ],
          "name": "stdout"
        }
      ]
    },
    {
      "cell_type": "code",
      "metadata": {
        "id": "QFhaYUTXutYf",
        "colab_type": "code",
        "outputId": "2aeb27dd-ca23-4e39-dd28-41358062e1f6",
        "colab": {
          "base_uri": "https://localhost:8080/",
          "height": 50
        }
      },
      "source": [
        "%cp /content/train_data.dat /gdrive/'My Drive'/ML/Hackerearth/Animal-classifier/\n",
        "%ls /gdrive/'My Drive'/ML/Hackerearth/Animal-classifier/"
      ],
      "execution_count": 17,
      "outputs": [
        {
          "output_type": "stream",
          "text": [
            "\u001b[0m\u001b[01;34malien_test\u001b[0m/  DLBeginnerorganized.zip  meta-data.zip\n",
            "data.zip     DLBeginner.zip           train_data.dat\n"
          ],
          "name": "stdout"
        }
      ]
    },
    {
      "cell_type": "markdown",
      "metadata": {
        "id": "9AcIBsEZ5Wxg",
        "colab_type": "text"
      },
      "source": [
        "## Data Split"
      ]
    },
    {
      "cell_type": "code",
      "metadata": {
        "id": "UWiOShID5ZUm",
        "colab_type": "code",
        "outputId": "776fecc2-f57d-462c-b34f-679205a5a41f",
        "colab": {
          "base_uri": "https://localhost:8080/",
          "height": 289
        }
      },
      "source": [
        "train = train_data[:-3000]\n",
        "test = train_data[-3000:]\n",
        "# Training Data\n",
        "x_train = np.array([i[0] for i in train]).reshape(-1,IMG_SIZE,IMG_SIZE,1)\n",
        "y_train = [i[1] for i in train]\n",
        "\n",
        "y_train = to_categorical(y_train,29)\n",
        "print(y_train)\n",
        "\n",
        "# Testing Data\n",
        "x_test = np.array([i[0] for i in test]).reshape(-1,IMG_SIZE,IMG_SIZE,1)\n",
        "\n",
        "y_test = [i[1] for i in test]\n",
        "print(y_test)\n",
        "y_test = to_categorical(y_test,29)\n",
        "print(y_test)"
      ],
      "execution_count": 18,
      "outputs": [
        {
          "output_type": "stream",
          "text": [
            "[[0. 0. 0. ... 0. 0. 0.]\n",
            " [0. 0. 0. ... 0. 0. 0.]\n",
            " [0. 0. 0. ... 0. 0. 0.]\n",
            " ...\n",
            " [0. 0. 0. ... 0. 0. 0.]\n",
            " [0. 0. 0. ... 0. 0. 0.]\n",
            " [0. 0. 0. ... 0. 0. 0.]]\n",
            "[array('28', dtype='<U2'), array('3', dtype='<U1'), array('12', dtype='<U2'), array('27', dtype='<U2'), array('7', dtype='<U1'), array('6', dtype='<U1'), array('1', dtype='<U1'), array('17', dtype='<U2'), array('10', dtype='<U2'), array('9', dtype='<U1'), array('9', dtype='<U1'), array('0', dtype='<U1'), array('0', dtype='<U1'), array('10', dtype='<U2'), array('7', dtype='<U1'), array('5', dtype='<U1'), array('21', dtype='<U2'), array('5', dtype='<U1'), array('21', dtype='<U2'), array('2', dtype='<U1'), array('22', dtype='<U2'), array('22', dtype='<U2'), array('7', dtype='<U1'), array('21', dtype='<U2'), array('17', dtype='<U2'), array('13', dtype='<U2'), array('16', dtype='<U2'), array('0', dtype='<U1'), array('22', dtype='<U2'), array('25', dtype='<U2'), array('16', dtype='<U2'), array('6', dtype='<U1'), array('12', dtype='<U2'), array('12', dtype='<U2'), array('12', dtype='<U2'), array('4', dtype='<U1'), array('22', dtype='<U2'), array('28', dtype='<U2'), array('9', dtype='<U1'), array('16', dtype='<U2'), array('10', dtype='<U2'), array('6', dtype='<U1'), array('27', dtype='<U2'), array('28', dtype='<U2'), array('22', dtype='<U2'), array('7', dtype='<U1'), array('10', dtype='<U2'), array('15', dtype='<U2'), array('23', dtype='<U2'), array('15', dtype='<U2'), array('3', dtype='<U1'), array('18', dtype='<U2'), array('28', dtype='<U2'), array('24', dtype='<U2'), array('20', dtype='<U2'), array('7', dtype='<U1'), array('10', dtype='<U2'), array('22', dtype='<U2'), array('15', dtype='<U2'), array('4', dtype='<U1'), array('4', dtype='<U1'), array('9', dtype='<U1'), array('12', dtype='<U2'), array('0', dtype='<U1'), array('10', dtype='<U2'), array('12', dtype='<U2'), array('12', dtype='<U2'), array('3', dtype='<U1'), array('12', dtype='<U2'), array('23', dtype='<U2'), array('7', dtype='<U1'), array('12', dtype='<U2'), array('10', dtype='<U2'), array('11', dtype='<U2'), array('26', dtype='<U2'), array('7', dtype='<U1'), array('28', dtype='<U2'), array('0', dtype='<U1'), array('25', dtype='<U2'), array('25', dtype='<U2'), array('9', dtype='<U1'), array('10', dtype='<U2'), array('11', dtype='<U2'), array('8', dtype='<U1'), array('9', dtype='<U1'), array('22', dtype='<U2'), array('15', dtype='<U2'), array('15', dtype='<U2'), array('25', dtype='<U2'), array('18', dtype='<U2'), array('2', dtype='<U1'), array('15', dtype='<U2'), array('27', dtype='<U2'), array('7', dtype='<U1'), array('9', dtype='<U1'), array('3', dtype='<U1'), array('18', dtype='<U2'), array('0', dtype='<U1'), array('4', dtype='<U1'), array('16', dtype='<U2'), array('11', dtype='<U2'), array('8', dtype='<U1'), array('26', dtype='<U2'), array('22', dtype='<U2'), array('10', dtype='<U2'), array('3', dtype='<U1'), array('12', dtype='<U2'), array('11', dtype='<U2'), array('8', dtype='<U1'), array('22', dtype='<U2'), array('4', dtype='<U1'), array('10', dtype='<U2'), array('0', dtype='<U1'), array('10', dtype='<U2'), array('7', dtype='<U1'), array('4', dtype='<U1'), array('20', dtype='<U2'), array('13', dtype='<U2'), array('1', dtype='<U1'), array('12', dtype='<U2'), array('18', dtype='<U2'), array('25', dtype='<U2'), array('12', dtype='<U2'), array('25', dtype='<U2'), array('8', dtype='<U1'), array('28', dtype='<U2'), array('9', dtype='<U1'), array('15', dtype='<U2'), array('15', dtype='<U2'), array('21', dtype='<U2'), array('3', dtype='<U1'), array('11', dtype='<U2'), array('16', dtype='<U2'), array('4', dtype='<U1'), array('4', dtype='<U1'), array('7', dtype='<U1'), array('4', dtype='<U1'), array('8', dtype='<U1'), array('10', dtype='<U2'), array('27', dtype='<U2'), array('26', dtype='<U2'), array('16', dtype='<U2'), array('5', dtype='<U1'), array('12', dtype='<U2'), array('12', dtype='<U2'), array('23', dtype='<U2'), array('3', dtype='<U1'), array('13', dtype='<U2'), array('5', dtype='<U1'), array('18', dtype='<U2'), array('4', dtype='<U1'), array('5', dtype='<U1'), array('12', dtype='<U2'), array('6', dtype='<U1'), array('11', dtype='<U2'), array('7', dtype='<U1'), array('22', dtype='<U2'), array('22', dtype='<U2'), array('21', dtype='<U2'), array('12', dtype='<U2'), array('5', dtype='<U1'), array('9', dtype='<U1'), array('19', dtype='<U2'), array('21', dtype='<U2'), array('19', dtype='<U2'), array('6', dtype='<U1'), array('28', dtype='<U2'), array('4', dtype='<U1'), array('11', dtype='<U2'), array('23', dtype='<U2'), array('28', dtype='<U2'), array('12', dtype='<U2'), array('7', dtype='<U1'), array('12', dtype='<U2'), array('11', dtype='<U2'), array('5', dtype='<U1'), array('17', dtype='<U2'), array('0', dtype='<U1'), array('12', dtype='<U2'), array('3', dtype='<U1'), array('7', dtype='<U1'), array('4', dtype='<U1'), array('12', dtype='<U2'), array('7', dtype='<U1'), array('12', dtype='<U2'), array('2', dtype='<U1'), array('11', dtype='<U2'), array('27', dtype='<U2'), array('0', dtype='<U1'), array('19', dtype='<U2'), array('25', dtype='<U2'), array('11', dtype='<U2'), array('2', dtype='<U1'), array('11', dtype='<U2'), array('9', dtype='<U1'), array('3', dtype='<U1'), array('23', dtype='<U2'), array('10', dtype='<U2'), array('18', dtype='<U2'), array('12', dtype='<U2'), array('4', dtype='<U1'), array('1', dtype='<U1'), array('10', dtype='<U2'), array('22', dtype='<U2'), array('5', dtype='<U1'), array('11', dtype='<U2'), array('11', dtype='<U2'), array('16', dtype='<U2'), array('4', dtype='<U1'), array('18', dtype='<U2'), array('9', dtype='<U1'), array('9', dtype='<U1'), array('9', dtype='<U1'), array('9', dtype='<U1'), array('3', dtype='<U1'), array('22', dtype='<U2'), array('19', dtype='<U2'), array('13', dtype='<U2'), array('11', dtype='<U2'), array('18', dtype='<U2'), array('21', dtype='<U2'), array('6', dtype='<U1'), array('12', dtype='<U2'), array('12', dtype='<U2'), array('23', dtype='<U2'), array('27', dtype='<U2'), array('27', dtype='<U2'), array('12', dtype='<U2'), array('25', dtype='<U2'), array('12', dtype='<U2'), array('16', dtype='<U2'), array('20', dtype='<U2'), array('7', dtype='<U1'), array('19', dtype='<U2'), array('24', dtype='<U2'), array('21', dtype='<U2'), array('25', dtype='<U2'), array('8', dtype='<U1'), array('5', dtype='<U1'), array('7', dtype='<U1'), array('12', dtype='<U2'), array('0', dtype='<U1'), array('12', dtype='<U2'), array('27', dtype='<U2'), array('1', dtype='<U1'), array('15', dtype='<U2'), array('4', dtype='<U1'), array('17', dtype='<U2'), array('18', dtype='<U2'), array('13', dtype='<U2'), array('20', dtype='<U2'), array('2', dtype='<U1'), array('8', dtype='<U1'), array('16', dtype='<U2'), array('11', dtype='<U2'), array('18', dtype='<U2'), array('25', dtype='<U2'), array('7', dtype='<U1'), array('28', dtype='<U2'), array('3', dtype='<U1'), array('6', dtype='<U1'), array('0', dtype='<U1'), array('4', dtype='<U1'), array('12', dtype='<U2'), array('6', dtype='<U1'), array('15', dtype='<U2'), array('25', dtype='<U2'), array('23', dtype='<U2'), array('28', dtype='<U2'), array('10', dtype='<U2'), array('23', dtype='<U2'), array('9', dtype='<U1'), array('24', dtype='<U2'), array('11', dtype='<U2'), array('3', dtype='<U1'), array('18', dtype='<U2'), array('11', dtype='<U2'), array('24', dtype='<U2'), array('16', dtype='<U2'), array('25', dtype='<U2'), array('9', dtype='<U1'), array('7', dtype='<U1'), array('12', dtype='<U2'), array('27', dtype='<U2'), array('15', dtype='<U2'), array('7', dtype='<U1'), array('4', dtype='<U1'), array('9', dtype='<U1'), array('3', dtype='<U1'), array('12', dtype='<U2'), array('9', dtype='<U1'), array('0', dtype='<U1'), array('1', dtype='<U1'), array('28', dtype='<U2'), array('17', dtype='<U2'), array('15', dtype='<U2'), array('16', dtype='<U2'), array('0', dtype='<U1'), array('2', dtype='<U1'), array('7', dtype='<U1'), array('7', dtype='<U1'), array('13', dtype='<U2'), array('7', dtype='<U1'), array('19', dtype='<U2'), array('22', dtype='<U2'), array('4', dtype='<U1'), array('12', dtype='<U2'), array('10', dtype='<U2'), array('20', dtype='<U2'), array('18', dtype='<U2'), array('20', dtype='<U2'), array('24', dtype='<U2'), array('25', dtype='<U2'), array('6', dtype='<U1'), array('12', dtype='<U2'), array('3', dtype='<U1'), array('9', dtype='<U1'), array('8', dtype='<U1'), array('0', dtype='<U1'), array('3', dtype='<U1'), array('9', dtype='<U1'), array('5', dtype='<U1'), array('17', dtype='<U2'), array('9', dtype='<U1'), array('15', dtype='<U2'), array('7', dtype='<U1'), array('17', dtype='<U2'), array('12', dtype='<U2'), array('22', dtype='<U2'), array('9', dtype='<U1'), array('24', dtype='<U2'), array('6', dtype='<U1'), array('10', dtype='<U2'), array('1', dtype='<U1'), array('25', dtype='<U2'), array('12', dtype='<U2'), array('25', dtype='<U2'), array('4', dtype='<U1'), array('20', dtype='<U2'), array('25', dtype='<U2'), array('17', dtype='<U2'), array('25', dtype='<U2'), array('11', dtype='<U2'), array('12', dtype='<U2'), array('9', dtype='<U1'), array('18', dtype='<U2'), array('19', dtype='<U2'), array('3', dtype='<U1'), array('12', dtype='<U2'), array('25', dtype='<U2'), array('15', dtype='<U2'), array('22', dtype='<U2'), array('12', dtype='<U2'), array('15', dtype='<U2'), array('12', dtype='<U2'), array('15', dtype='<U2'), array('10', dtype='<U2'), array('16', dtype='<U2'), array('25', dtype='<U2'), array('7', dtype='<U1'), array('9', dtype='<U1'), array('26', dtype='<U2'), array('9', dtype='<U1'), array('21', dtype='<U2'), array('3', dtype='<U1'), array('24', dtype='<U2'), array('27', dtype='<U2'), array('17', dtype='<U2'), array('16', dtype='<U2'), array('17', dtype='<U2'), array('4', dtype='<U1'), array('21', dtype='<U2'), array('22', dtype='<U2'), array('10', dtype='<U2'), array('18', dtype='<U2'), array('6', dtype='<U1'), array('12', dtype='<U2'), array('3', dtype='<U1'), array('2', dtype='<U1'), array('21', dtype='<U2'), array('25', dtype='<U2'), array('0', dtype='<U1'), array('22', dtype='<U2'), array('25', dtype='<U2'), array('21', dtype='<U2'), array('8', dtype='<U1'), array('15', dtype='<U2'), array('12', dtype='<U2'), array('0', dtype='<U1'), array('28', dtype='<U2'), array('7', dtype='<U1'), array('25', dtype='<U2'), array('28', dtype='<U2'), array('11', dtype='<U2'), array('6', dtype='<U1'), array('3', dtype='<U1'), array('9', dtype='<U1'), array('23', dtype='<U2'), array('7', dtype='<U1'), array('16', dtype='<U2'), array('22', dtype='<U2'), array('8', dtype='<U1'), array('16', dtype='<U2'), array('17', dtype='<U2'), array('16', dtype='<U2'), array('12', dtype='<U2'), array('12', dtype='<U2'), array('11', dtype='<U2'), array('7', dtype='<U1'), array('16', dtype='<U2'), array('22', dtype='<U2'), array('0', dtype='<U1'), array('5', dtype='<U1'), array('10', dtype='<U2'), array('8', dtype='<U1'), array('15', dtype='<U2'), array('2', dtype='<U1'), array('16', dtype='<U2'), array('16', dtype='<U2'), array('18', dtype='<U2'), array('9', dtype='<U1'), array('17', dtype='<U2'), array('22', dtype='<U2'), array('21', dtype='<U2'), array('0', dtype='<U1'), array('18', dtype='<U2'), array('15', dtype='<U2'), array('12', dtype='<U2'), array('26', dtype='<U2'), array('10', dtype='<U2'), array('20', dtype='<U2'), array('13', dtype='<U2'), array('12', dtype='<U2'), array('18', dtype='<U2'), array('12', dtype='<U2'), array('8', dtype='<U1'), array('16', dtype='<U2'), array('6', dtype='<U1'), array('26', dtype='<U2'), array('25', dtype='<U2'), array('12', dtype='<U2'), array('15', dtype='<U2'), array('18', dtype='<U2'), array('0', dtype='<U1'), array('17', dtype='<U2'), array('0', dtype='<U1'), array('25', dtype='<U2'), array('22', dtype='<U2'), array('23', dtype='<U2'), array('20', dtype='<U2'), array('25', dtype='<U2'), array('23', dtype='<U2'), array('4', dtype='<U1'), array('21', dtype='<U2'), array('10', dtype='<U2'), array('10', dtype='<U2'), array('28', dtype='<U2'), array('12', dtype='<U2'), array('15', dtype='<U2'), array('11', dtype='<U2'), array('25', dtype='<U2'), array('16', dtype='<U2'), array('12', dtype='<U2'), array('15', dtype='<U2'), array('12', dtype='<U2'), array('22', dtype='<U2'), array('22', dtype='<U2'), array('0', dtype='<U1'), array('10', dtype='<U2'), array('4', dtype='<U1'), array('17', dtype='<U2'), array('12', dtype='<U2'), array('27', dtype='<U2'), array('9', dtype='<U1'), array('8', dtype='<U1'), array('0', dtype='<U1'), array('9', dtype='<U1'), array('12', dtype='<U2'), array('20', dtype='<U2'), array('25', dtype='<U2'), array('3', dtype='<U1'), array('19', dtype='<U2'), array('11', dtype='<U2'), array('22', dtype='<U2'), array('12', dtype='<U2'), array('1', dtype='<U1'), array('23', dtype='<U2'), array('26', dtype='<U2'), array('12', dtype='<U2'), array('21', dtype='<U2'), array('25', dtype='<U2'), array('26', dtype='<U2'), array('22', dtype='<U2'), array('5', dtype='<U1'), array('16', dtype='<U2'), array('19', dtype='<U2'), array('28', dtype='<U2'), array('0', dtype='<U1'), array('7', dtype='<U1'), array('3', dtype='<U1'), array('22', dtype='<U2'), array('25', dtype='<U2'), array('4', dtype='<U1'), array('3', dtype='<U1'), array('16', dtype='<U2'), array('16', dtype='<U2'), array('5', dtype='<U1'), array('28', dtype='<U2'), array('22', dtype='<U2'), array('17', dtype='<U2'), array('21', dtype='<U2'), array('3', dtype='<U1'), array('7', dtype='<U1'), array('9', dtype='<U1'), array('15', dtype='<U2'), array('23', dtype='<U2'), array('3', dtype='<U1'), array('0', dtype='<U1'), array('24', dtype='<U2'), array('20', dtype='<U2'), array('21', dtype='<U2'), array('9', dtype='<U1'), array('14', dtype='<U2'), array('3', dtype='<U1'), array('11', dtype='<U2'), array('4', dtype='<U1'), array('18', dtype='<U2'), array('4', dtype='<U1'), array('12', dtype='<U2'), array('25', dtype='<U2'), array('4', dtype='<U1'), array('10', dtype='<U2'), array('4', dtype='<U1'), array('20', dtype='<U2'), array('12', dtype='<U2'), array('20', dtype='<U2'), array('15', dtype='<U2'), array('3', dtype='<U1'), array('11', dtype='<U2'), array('7', dtype='<U1'), array('12', dtype='<U2'), array('24', dtype='<U2'), array('11', dtype='<U2'), array('27', dtype='<U2'), array('8', dtype='<U1'), array('18', dtype='<U2'), array('8', dtype='<U1'), array('22', dtype='<U2'), array('5', dtype='<U1'), array('25', dtype='<U2'), array('9', dtype='<U1'), array('5', dtype='<U1'), array('5', dtype='<U1'), array('3', dtype='<U1'), array('7', dtype='<U1'), array('12', dtype='<U2'), array('19', dtype='<U2'), array('6', dtype='<U1'), array('19', dtype='<U2'), array('16', dtype='<U2'), array('25', dtype='<U2'), array('7', dtype='<U1'), array('1', dtype='<U1'), array('9', dtype='<U1'), array('11', dtype='<U2'), array('25', dtype='<U2'), array('25', dtype='<U2'), array('0', dtype='<U1'), array('22', dtype='<U2'), array('7', dtype='<U1'), array('23', dtype='<U2'), array('23', dtype='<U2'), array('12', dtype='<U2'), array('28', dtype='<U2'), array('0', dtype='<U1'), array('1', dtype='<U1'), array('3', dtype='<U1'), array('25', dtype='<U2'), array('16', dtype='<U2'), array('11', dtype='<U2'), array('23', dtype='<U2'), array('18', dtype='<U2'), array('27', dtype='<U2'), array('6', dtype='<U1'), array('9', dtype='<U1'), array('21', dtype='<U2'), array('26', dtype='<U2'), array('22', dtype='<U2'), array('27', dtype='<U2'), array('10', dtype='<U2'), array('6', dtype='<U1'), array('4', dtype='<U1'), array('18', dtype='<U2'), array('6', dtype='<U1'), array('4', dtype='<U1'), array('15', dtype='<U2'), array('23', dtype='<U2'), array('12', dtype='<U2'), array('25', dtype='<U2'), array('4', dtype='<U1'), array('18', dtype='<U2'), array('12', dtype='<U2'), array('24', dtype='<U2'), array('10', dtype='<U2'), array('12', dtype='<U2'), array('4', dtype='<U1'), array('7', dtype='<U1'), array('7', dtype='<U1'), array('5', dtype='<U1'), array('17', dtype='<U2'), array('1', dtype='<U1'), array('22', dtype='<U2'), array('25', dtype='<U2'), array('6', dtype='<U1'), array('20', dtype='<U2'), array('12', dtype='<U2'), array('12', dtype='<U2'), array('12', dtype='<U2'), array('16', dtype='<U2'), array('5', dtype='<U1'), array('22', dtype='<U2'), array('27', dtype='<U2'), array('18', dtype='<U2'), array('11', dtype='<U2'), array('5', dtype='<U1'), array('25', dtype='<U2'), array('16', dtype='<U2'), array('25', dtype='<U2'), array('6', dtype='<U1'), array('4', dtype='<U1'), array('1', dtype='<U1'), array('22', dtype='<U2'), array('4', dtype='<U1'), array('12', dtype='<U2'), array('12', dtype='<U2'), array('3', dtype='<U1'), array('28', dtype='<U2'), array('25', dtype='<U2'), array('12', dtype='<U2'), array('16', dtype='<U2'), array('9', dtype='<U1'), array('25', dtype='<U2'), array('25', dtype='<U2'), array('5', dtype='<U1'), array('28', dtype='<U2'), array('17', dtype='<U2'), array('17', dtype='<U2'), array('12', dtype='<U2'), array('1', dtype='<U1'), array('9', dtype='<U1'), array('15', dtype='<U2'), array('21', dtype='<U2'), array('7', dtype='<U1'), array('5', dtype='<U1'), array('9', dtype='<U1'), array('12', dtype='<U2'), array('22', dtype='<U2'), array('8', dtype='<U1'), array('11', dtype='<U2'), array('3', dtype='<U1'), array('5', dtype='<U1'), array('9', dtype='<U1'), array('17', dtype='<U2'), array('17', dtype='<U2'), array('15', dtype='<U2'), array('25', dtype='<U2'), array('11', dtype='<U2'), array('5', dtype='<U1'), array('10', dtype='<U2'), array('5', dtype='<U1'), array('7', dtype='<U1'), array('16', dtype='<U2'), array('3', dtype='<U1'), array('12', dtype='<U2'), array('12', dtype='<U2'), array('25', dtype='<U2'), array('21', dtype='<U2'), array('5', dtype='<U1'), array('10', dtype='<U2'), array('16', dtype='<U2'), array('8', dtype='<U1'), array('8', dtype='<U1'), array('25', dtype='<U2'), array('12', dtype='<U2'), array('24', dtype='<U2'), array('7', dtype='<U1'), array('5', dtype='<U1'), array('6', dtype='<U1'), array('9', dtype='<U1'), array('10', dtype='<U2'), array('28', dtype='<U2'), array('25', dtype='<U2'), array('21', dtype='<U2'), array('17', dtype='<U2'), array('13', dtype='<U2'), array('13', dtype='<U2'), array('12', dtype='<U2'), array('11', dtype='<U2'), array('12', dtype='<U2'), array('16', dtype='<U2'), array('9', dtype='<U1'), array('24', dtype='<U2'), array('16', dtype='<U2'), array('21', dtype='<U2'), array('19', dtype='<U2'), array('12', dtype='<U2'), array('0', dtype='<U1'), array('2', dtype='<U1'), array('16', dtype='<U2'), array('1', dtype='<U1'), array('4', dtype='<U1'), array('2', dtype='<U1'), array('22', dtype='<U2'), array('6', dtype='<U1'), array('23', dtype='<U2'), array('14', dtype='<U2'), array('25', dtype='<U2'), array('28', dtype='<U2'), array('27', dtype='<U2'), array('8', dtype='<U1'), array('25', dtype='<U2'), array('28', dtype='<U2'), array('16', dtype='<U2'), array('21', dtype='<U2'), array('18', dtype='<U2'), array('28', dtype='<U2'), array('0', dtype='<U1'), array('25', dtype='<U2'), array('9', dtype='<U1'), array('25', dtype='<U2'), array('18', dtype='<U2'), array('22', dtype='<U2'), array('8', dtype='<U1'), array('23', dtype='<U2'), array('11', dtype='<U2'), array('0', dtype='<U1'), array('26', dtype='<U2'), array('8', dtype='<U1'), array('12', dtype='<U2'), array('24', dtype='<U2'), array('26', dtype='<U2'), array('27', dtype='<U2'), array('16', dtype='<U2'), array('25', dtype='<U2'), array('9', dtype='<U1'), array('15', dtype='<U2'), array('23', dtype='<U2'), array('17', dtype='<U2'), array('7', dtype='<U1'), array('12', dtype='<U2'), array('5', dtype='<U1'), array('25', dtype='<U2'), array('12', dtype='<U2'), array('21', dtype='<U2'), array('10', dtype='<U2'), array('4', dtype='<U1'), array('2', dtype='<U1'), array('21', dtype='<U2'), array('21', dtype='<U2'), array('18', dtype='<U2'), array('9', dtype='<U1'), array('4', dtype='<U1'), array('19', dtype='<U2'), array('17', dtype='<U2'), array('20', dtype='<U2'), array('11', dtype='<U2'), array('9', dtype='<U1'), array('8', dtype='<U1'), array('12', dtype='<U2'), array('9', dtype='<U1'), array('10', dtype='<U2'), array('28', dtype='<U2'), array('0', dtype='<U1'), array('21', dtype='<U2'), array('5', dtype='<U1'), array('17', dtype='<U2'), array('12', dtype='<U2'), array('0', dtype='<U1'), array('21', dtype='<U2'), array('8', dtype='<U1'), array('12', dtype='<U2'), array('18', dtype='<U2'), array('10', dtype='<U2'), array('7', dtype='<U1'), array('8', dtype='<U1'), array('0', dtype='<U1'), array('9', dtype='<U1'), array('1', dtype='<U1'), array('6', dtype='<U1'), array('0', dtype='<U1'), array('4', dtype='<U1'), array('22', dtype='<U2'), array('22', dtype='<U2'), array('8', dtype='<U1'), array('15', dtype='<U2'), array('9', dtype='<U1'), array('12', dtype='<U2'), array('19', dtype='<U2'), array('9', dtype='<U1'), array('27', dtype='<U2'), array('15', dtype='<U2'), array('21', dtype='<U2'), array('15', dtype='<U2'), array('4', dtype='<U1'), array('25', dtype='<U2'), array('20', dtype='<U2'), array('0', dtype='<U1'), array('17', dtype='<U2'), array('4', dtype='<U1'), array('7', dtype='<U1'), array('9', dtype='<U1'), array('9', dtype='<U1'), array('5', dtype='<U1'), array('9', dtype='<U1'), array('8', dtype='<U1'), array('17', dtype='<U2'), array('0', dtype='<U1'), array('7', dtype='<U1'), array('8', dtype='<U1'), array('16', dtype='<U2'), array('18', dtype='<U2'), array('12', dtype='<U2'), array('28', dtype='<U2'), array('28', dtype='<U2'), array('12', dtype='<U2'), array('0', dtype='<U1'), array('9', dtype='<U1'), array('0', dtype='<U1'), array('6', dtype='<U1'), array('12', dtype='<U2'), array('21', dtype='<U2'), array('0', dtype='<U1'), array('7', dtype='<U1'), array('10', dtype='<U2'), array('7', dtype='<U1'), array('21', dtype='<U2'), array('15', dtype='<U2'), array('12', dtype='<U2'), array('19', dtype='<U2'), array('16', dtype='<U2'), array('15', dtype='<U2'), array('15', dtype='<U2'), array('27', dtype='<U2'), array('17', dtype='<U2'), array('7', dtype='<U1'), array('21', dtype='<U2'), array('6', dtype='<U1'), array('17', dtype='<U2'), array('6', dtype='<U1'), array('17', dtype='<U2'), array('12', dtype='<U2'), array('9', dtype='<U1'), array('15', dtype='<U2'), array('16', dtype='<U2'), array('16', dtype='<U2'), array('22', dtype='<U2'), array('21', dtype='<U2'), array('25', dtype='<U2'), array('0', dtype='<U1'), array('23', dtype='<U2'), array('12', dtype='<U2'), array('6', dtype='<U1'), array('17', dtype='<U2'), array('19', dtype='<U2'), array('28', dtype='<U2'), array('4', dtype='<U1'), array('3', dtype='<U1'), array('12', dtype='<U2'), array('7', dtype='<U1'), array('19', dtype='<U2'), array('17', dtype='<U2'), array('12', dtype='<U2'), array('22', dtype='<U2'), array('15', dtype='<U2'), array('1', dtype='<U1'), array('22', dtype='<U2'), array('23', dtype='<U2'), array('10', dtype='<U2'), array('7', dtype='<U1'), array('16', dtype='<U2'), array('13', dtype='<U2'), array('12', dtype='<U2'), array('13', dtype='<U2'), array('5', dtype='<U1'), array('23', dtype='<U2'), array('16', dtype='<U2'), array('5', dtype='<U1'), array('14', dtype='<U2'), array('0', dtype='<U1'), array('16', dtype='<U2'), array('4', dtype='<U1'), array('12', dtype='<U2'), array('0', dtype='<U1'), array('12', dtype='<U2'), array('22', dtype='<U2'), array('3', dtype='<U1'), array('8', dtype='<U1'), array('16', dtype='<U2'), array('5', dtype='<U1'), array('7', dtype='<U1'), array('2', dtype='<U1'), array('5', dtype='<U1'), array('15', dtype='<U2'), array('4', dtype='<U1'), array('23', dtype='<U2'), array('9', dtype='<U1'), array('12', dtype='<U2'), array('17', dtype='<U2'), array('16', dtype='<U2'), array('22', dtype='<U2'), array('6', dtype='<U1'), array('25', dtype='<U2'), array('6', dtype='<U1'), array('15', dtype='<U2'), array('25', dtype='<U2'), array('7', dtype='<U1'), array('27', dtype='<U2'), array('8', dtype='<U1'), array('12', dtype='<U2'), array('10', dtype='<U2'), array('26', dtype='<U2'), array('19', dtype='<U2'), array('4', dtype='<U1'), array('15', dtype='<U2'), array('21', dtype='<U2'), array('26', dtype='<U2'), array('25', dtype='<U2'), array('6', dtype='<U1'), array('26', dtype='<U2'), array('0', dtype='<U1'), array('10', dtype='<U2'), array('25', dtype='<U2'), array('22', dtype='<U2'), array('7', dtype='<U1'), array('25', dtype='<U2'), array('7', dtype='<U1'), array('25', dtype='<U2'), array('6', dtype='<U1'), array('10', dtype='<U2'), array('3', dtype='<U1'), array('28', dtype='<U2'), array('8', dtype='<U1'), array('16', dtype='<U2'), array('17', dtype='<U2'), array('25', dtype='<U2'), array('4', dtype='<U1'), array('21', dtype='<U2'), array('5', dtype='<U1'), array('24', dtype='<U2'), array('12', dtype='<U2'), array('9', dtype='<U1'), array('1', dtype='<U1'), array('18', dtype='<U2'), array('4', dtype='<U1'), array('23', dtype='<U2'), array('1', dtype='<U1'), array('18', dtype='<U2'), array('1', dtype='<U1'), array('18', dtype='<U2'), array('12', dtype='<U2'), array('10', dtype='<U2'), array('17', dtype='<U2'), array('8', dtype='<U1'), array('0', dtype='<U1'), array('13', dtype='<U2'), array('15', dtype='<U2'), array('17', dtype='<U2'), array('5', dtype='<U1'), array('16', dtype='<U2'), array('18', dtype='<U2'), array('12', dtype='<U2'), array('21', dtype='<U2'), array('27', dtype='<U2'), array('20', dtype='<U2'), array('9', dtype='<U1'), array('20', dtype='<U2'), array('22', dtype='<U2'), array('0', dtype='<U1'), array('7', dtype='<U1'), array('20', dtype='<U2'), array('19', dtype='<U2'), array('10', dtype='<U2'), array('17', dtype='<U2'), array('10', dtype='<U2'), array('12', dtype='<U2'), array('1', dtype='<U1'), array('15', dtype='<U2'), array('22', dtype='<U2'), array('9', dtype='<U1'), array('11', dtype='<U2'), array('1', dtype='<U1'), array('18', dtype='<U2'), array('22', dtype='<U2'), array('9', dtype='<U1'), array('15', dtype='<U2'), array('23', dtype='<U2'), array('25', dtype='<U2'), array('17', dtype='<U2'), array('16', dtype='<U2'), array('4', dtype='<U1'), array('3', dtype='<U1'), array('12', dtype='<U2'), array('24', dtype='<U2'), array('11', dtype='<U2'), array('6', dtype='<U1'), array('19', dtype='<U2'), array('17', dtype='<U2'), array('11', dtype='<U2'), array('9', dtype='<U1'), array('18', dtype='<U2'), array('15', dtype='<U2'), array('23', dtype='<U2'), array('6', dtype='<U1'), array('12', dtype='<U2'), array('0', dtype='<U1'), array('3', dtype='<U1'), array('12', dtype='<U2'), array('21', dtype='<U2'), array('5', dtype='<U1'), array('3', dtype='<U1'), array('17', dtype='<U2'), array('25', dtype='<U2'), array('18', dtype='<U2'), array('17', dtype='<U2'), array('22', dtype='<U2'), array('9', dtype='<U1'), array('17', dtype='<U2'), array('5', dtype='<U1'), array('21', dtype='<U2'), array('21', dtype='<U2'), array('12', dtype='<U2'), array('7', dtype='<U1'), array('12', dtype='<U2'), array('7', dtype='<U1'), array('25', dtype='<U2'), array('15', dtype='<U2'), array('18', dtype='<U2'), array('17', dtype='<U2'), array('7', dtype='<U1'), array('0', dtype='<U1'), array('23', dtype='<U2'), array('4', dtype='<U1'), array('7', dtype='<U1'), array('3', dtype='<U1'), array('26', dtype='<U2'), array('12', dtype='<U2'), array('9', dtype='<U1'), array('12', dtype='<U2'), array('18', dtype='<U2'), array('12', dtype='<U2'), array('25', dtype='<U2'), array('16', dtype='<U2'), array('11', dtype='<U2'), array('7', dtype='<U1'), array('12', dtype='<U2'), array('12', dtype='<U2'), array('9', dtype='<U1'), array('15', dtype='<U2'), array('15', dtype='<U2'), array('9', dtype='<U1'), array('0', dtype='<U1'), array('0', dtype='<U1'), array('19', dtype='<U2'), array('25', dtype='<U2'), array('6', dtype='<U1'), array('0', dtype='<U1'), array('5', dtype='<U1'), array('5', dtype='<U1'), array('9', dtype='<U1'), array('27', dtype='<U2'), array('18', dtype='<U2'), array('20', dtype='<U2'), array('6', dtype='<U1'), array('9', dtype='<U1'), array('10', dtype='<U2'), array('9', dtype='<U1'), array('19', dtype='<U2'), array('27', dtype='<U2'), array('25', dtype='<U2'), array('0', dtype='<U1'), array('10', dtype='<U2'), array('15', dtype='<U2'), array('27', dtype='<U2'), array('0', dtype='<U1'), array('26', dtype='<U2'), array('12', dtype='<U2'), array('12', dtype='<U2'), array('1', dtype='<U1'), array('9', dtype='<U1'), array('15', dtype='<U2'), array('15', dtype='<U2'), array('3', dtype='<U1'), array('7', dtype='<U1'), array('16', dtype='<U2'), array('9', dtype='<U1'), array('0', dtype='<U1'), array('25', dtype='<U2'), array('23', dtype='<U2'), array('17', dtype='<U2'), array('27', dtype='<U2'), array('4', dtype='<U1'), array('8', dtype='<U1'), array('4', dtype='<U1'), array('16', dtype='<U2'), array('15', dtype='<U2'), array('15', dtype='<U2'), array('24', dtype='<U2'), array('14', dtype='<U2'), array('9', dtype='<U1'), array('22', dtype='<U2'), array('15', dtype='<U2'), array('6', dtype='<U1'), array('0', dtype='<U1'), array('21', dtype='<U2'), array('15', dtype='<U2'), array('21', dtype='<U2'), array('27', dtype='<U2'), array('13', dtype='<U2'), array('9', dtype='<U1'), array('27', dtype='<U2'), array('17', dtype='<U2'), array('25', dtype='<U2'), array('22', dtype='<U2'), array('18', dtype='<U2'), array('0', dtype='<U1'), array('12', dtype='<U2'), array('17', dtype='<U2'), array('11', dtype='<U2'), array('16', dtype='<U2'), array('18', dtype='<U2'), array('6', dtype='<U1'), array('10', dtype='<U2'), array('1', dtype='<U1'), array('9', dtype='<U1'), array('8', dtype='<U1'), array('19', dtype='<U2'), array('12', dtype='<U2'), array('17', dtype='<U2'), array('25', dtype='<U2'), array('0', dtype='<U1'), array('22', dtype='<U2'), array('2', dtype='<U1'), array('1', dtype='<U1'), array('19', dtype='<U2'), array('20', dtype='<U2'), array('25', dtype='<U2'), array('19', dtype='<U2'), array('7', dtype='<U1'), array('16', dtype='<U2'), array('25', dtype='<U2'), array('5', dtype='<U1'), array('9', dtype='<U1'), array('9', dtype='<U1'), array('21', dtype='<U2'), array('11', dtype='<U2'), array('6', dtype='<U1'), array('25', dtype='<U2'), array('11', dtype='<U2'), array('22', dtype='<U2'), array('6', dtype='<U1'), array('12', dtype='<U2'), array('4', dtype='<U1'), array('0', dtype='<U1'), array('0', dtype='<U1'), array('8', dtype='<U1'), array('11', dtype='<U2'), array('7', dtype='<U1'), array('4', dtype='<U1'), array('9', dtype='<U1'), array('22', dtype='<U2'), array('25', dtype='<U2'), array('17', dtype='<U2'), array('3', dtype='<U1'), array('24', dtype='<U2'), array('0', dtype='<U1'), array('4', dtype='<U1'), array('25', dtype='<U2'), array('1', dtype='<U1'), array('5', dtype='<U1'), array('8', dtype='<U1'), array('3', dtype='<U1'), array('21', dtype='<U2'), array('23', dtype='<U2'), array('12', dtype='<U2'), array('23', dtype='<U2'), array('12', dtype='<U2'), array('20', dtype='<U2'), array('1', dtype='<U1'), array('28', dtype='<U2'), array('22', dtype='<U2'), array('11', dtype='<U2'), array('16', dtype='<U2'), array('15', dtype='<U2'), array('28', dtype='<U2'), array('28', dtype='<U2'), array('6', dtype='<U1'), array('28', dtype='<U2'), array('8', dtype='<U1'), array('0', dtype='<U1'), array('21', dtype='<U2'), array('15', dtype='<U2'), array('7', dtype='<U1'), array('0', dtype='<U1'), array('15', dtype='<U2'), array('16', dtype='<U2'), array('2', dtype='<U1'), array('27', dtype='<U2'), array('0', dtype='<U1'), array('12', dtype='<U2'), array('12', dtype='<U2'), array('3', dtype='<U1'), array('28', dtype='<U2'), array('7', dtype='<U1'), array('18', dtype='<U2'), array('12', dtype='<U2'), array('22', dtype='<U2'), array('10', dtype='<U2'), array('19', dtype='<U2'), array('25', dtype='<U2'), array('1', dtype='<U1'), array('12', dtype='<U2'), array('10', dtype='<U2'), array('16', dtype='<U2'), array('0', dtype='<U1'), array('12', dtype='<U2'), array('8', dtype='<U1'), array('12', dtype='<U2'), array('3', dtype='<U1'), array('4', dtype='<U1'), array('16', dtype='<U2'), array('16', dtype='<U2'), array('4', dtype='<U1'), array('18', dtype='<U2'), array('4', dtype='<U1'), array('22', dtype='<U2'), array('6', dtype='<U1'), array('10', dtype='<U2'), array('9', dtype='<U1'), array('28', dtype='<U2'), array('13', dtype='<U2'), array('19', dtype='<U2'), array('0', dtype='<U1'), array('8', dtype='<U1'), array('28', dtype='<U2'), array('9', dtype='<U1'), array('0', dtype='<U1'), array('15', dtype='<U2'), array('0', dtype='<U1'), array('1', dtype='<U1'), array('9', dtype='<U1'), array('4', dtype='<U1'), array('28', dtype='<U2'), array('15', dtype='<U2'), array('19', dtype='<U2'), array('23', dtype='<U2'), array('7', dtype='<U1'), array('5', dtype='<U1'), array('17', dtype='<U2'), array('21', dtype='<U2'), array('7', dtype='<U1'), array('22', dtype='<U2'), array('18', dtype='<U2'), array('12', dtype='<U2'), array('0', dtype='<U1'), array('16', dtype='<U2'), array('25', dtype='<U2'), array('12', dtype='<U2'), array('20', dtype='<U2'), array('9', dtype='<U1'), array('0', dtype='<U1'), array('21', dtype='<U2'), array('21', dtype='<U2'), array('8', dtype='<U1'), array('7', dtype='<U1'), array('21', dtype='<U2'), array('16', dtype='<U2'), array('13', dtype='<U2'), array('28', dtype='<U2'), array('4', dtype='<U1'), array('11', dtype='<U2'), array('3', dtype='<U1'), array('28', dtype='<U2'), array('17', dtype='<U2'), array('3', dtype='<U1'), array('15', dtype='<U2'), array('4', dtype='<U1'), array('25', dtype='<U2'), array('22', dtype='<U2'), array('22', dtype='<U2'), array('16', dtype='<U2'), array('9', dtype='<U1'), array('16', dtype='<U2'), array('22', dtype='<U2'), array('18', dtype='<U2'), array('25', dtype='<U2'), array('5', dtype='<U1'), array('19', dtype='<U2'), array('6', dtype='<U1'), array('6', dtype='<U1'), array('10', dtype='<U2'), array('12', dtype='<U2'), array('21', dtype='<U2'), array('22', dtype='<U2'), array('28', dtype='<U2'), array('6', dtype='<U1'), array('22', dtype='<U2'), array('11', dtype='<U2'), array('18', dtype='<U2'), array('0', dtype='<U1'), array('9', dtype='<U1'), array('27', dtype='<U2'), array('12', dtype='<U2'), array('18', dtype='<U2'), array('9', dtype='<U1'), array('10', dtype='<U2'), array('11', dtype='<U2'), array('11', dtype='<U2'), array('10', dtype='<U2'), array('11', dtype='<U2'), array('0', dtype='<U1'), array('12', dtype='<U2'), array('12', dtype='<U2'), array('15', dtype='<U2'), array('17', dtype='<U2'), array('7', dtype='<U1'), array('0', dtype='<U1'), array('7', dtype='<U1'), array('16', dtype='<U2'), array('19', dtype='<U2'), array('23', dtype='<U2'), array('25', dtype='<U2'), array('25', dtype='<U2'), array('4', dtype='<U1'), array('17', dtype='<U2'), array('15', dtype='<U2'), array('7', dtype='<U1'), array('0', dtype='<U1'), array('8', dtype='<U1'), array('0', dtype='<U1'), array('1', dtype='<U1'), array('7', dtype='<U1'), array('16', dtype='<U2'), array('24', dtype='<U2'), array('0', dtype='<U1'), array('21', dtype='<U2'), array('4', dtype='<U1'), array('17', dtype='<U2'), array('19', dtype='<U2'), array('11', dtype='<U2'), array('9', dtype='<U1'), array('4', dtype='<U1'), array('19', dtype='<U2'), array('4', dtype='<U1'), array('3', dtype='<U1'), array('0', dtype='<U1'), array('6', dtype='<U1'), array('16', dtype='<U2'), array('16', dtype='<U2'), array('6', dtype='<U1'), array('22', dtype='<U2'), array('9', dtype='<U1'), array('1', dtype='<U1'), array('9', dtype='<U1'), array('25', dtype='<U2'), array('1', dtype='<U1'), array('18', dtype='<U2'), array('14', dtype='<U2'), array('21', dtype='<U2'), array('12', dtype='<U2'), array('0', dtype='<U1'), array('17', dtype='<U2'), array('12', dtype='<U2'), array('0', dtype='<U1'), array('1', dtype='<U1'), array('15', dtype='<U2'), array('18', dtype='<U2'), array('25', dtype='<U2'), array('12', dtype='<U2'), array('15', dtype='<U2'), array('6', dtype='<U1'), array('7', dtype='<U1'), array('4', dtype='<U1'), array('21', dtype='<U2'), array('19', dtype='<U2'), array('0', dtype='<U1'), array('23', dtype='<U2'), array('0', dtype='<U1'), array('12', dtype='<U2'), array('16', dtype='<U2'), array('8', dtype='<U1'), array('16', dtype='<U2'), array('2', dtype='<U1'), array('22', dtype='<U2'), array('10', dtype='<U2'), array('0', dtype='<U1'), array('12', dtype='<U2'), array('11', dtype='<U2'), array('22', dtype='<U2'), array('8', dtype='<U1'), array('28', dtype='<U2'), array('16', dtype='<U2'), array('7', dtype='<U1'), array('23', dtype='<U2'), array('1', dtype='<U1'), array('8', dtype='<U1'), array('25', dtype='<U2'), array('11', dtype='<U2'), array('13', dtype='<U2'), array('25', dtype='<U2'), array('15', dtype='<U2'), array('23', dtype='<U2'), array('11', dtype='<U2'), array('17', dtype='<U2'), array('25', dtype='<U2'), array('12', dtype='<U2'), array('12', dtype='<U2'), array('11', dtype='<U2'), array('10', dtype='<U2'), array('2', dtype='<U1'), array('22', dtype='<U2'), array('9', dtype='<U1'), array('5', dtype='<U1'), array('20', dtype='<U2'), array('25', dtype='<U2'), array('19', dtype='<U2'), array('22', dtype='<U2'), array('15', dtype='<U2'), array('25', dtype='<U2'), array('22', dtype='<U2'), array('12', dtype='<U2'), array('1', dtype='<U1'), array('25', dtype='<U2'), array('23', dtype='<U2'), array('11', dtype='<U2'), array('28', dtype='<U2'), array('4', dtype='<U1'), array('9', dtype='<U1'), array('12', dtype='<U2'), array('11', dtype='<U2'), array('7', dtype='<U1'), array('15', dtype='<U2'), array('11', dtype='<U2'), array('23', dtype='<U2'), array('25', dtype='<U2'), array('0', dtype='<U1'), array('28', dtype='<U2'), array('6', dtype='<U1'), array('7', dtype='<U1'), array('12', dtype='<U2'), array('9', dtype='<U1'), array('15', dtype='<U2'), array('22', dtype='<U2'), array('5', dtype='<U1'), array('15', dtype='<U2'), array('25', dtype='<U2'), array('7', dtype='<U1'), array('8', dtype='<U1'), array('18', dtype='<U2'), array('23', dtype='<U2'), array('12', dtype='<U2'), array('12', dtype='<U2'), array('9', dtype='<U1'), array('17', dtype='<U2'), array('9', dtype='<U1'), array('15', dtype='<U2'), array('23', dtype='<U2'), array('1', dtype='<U1'), array('13', dtype='<U2'), array('1', dtype='<U1'), array('9', dtype='<U1'), array('15', dtype='<U2'), array('17', dtype='<U2'), array('16', dtype='<U2'), array('23', dtype='<U2'), array('27', dtype='<U2'), array('3', dtype='<U1'), array('0', dtype='<U1'), array('15', dtype='<U2'), array('18', dtype='<U2'), array('0', dtype='<U1'), array('15', dtype='<U2'), array('15', dtype='<U2'), array('8', dtype='<U1'), array('6', dtype='<U1'), array('6', dtype='<U1'), array('22', dtype='<U2'), array('13', dtype='<U2'), array('1', dtype='<U1'), array('17', dtype='<U2'), array('15', dtype='<U2'), array('24', dtype='<U2'), array('12', dtype='<U2'), array('9', dtype='<U1'), array('4', dtype='<U1'), array('8', dtype='<U1'), array('21', dtype='<U2'), array('7', dtype='<U1'), array('6', dtype='<U1'), array('3', dtype='<U1'), array('18', dtype='<U2'), array('18', dtype='<U2'), array('16', dtype='<U2'), array('8', dtype='<U1'), array('28', dtype='<U2'), array('0', dtype='<U1'), array('4', dtype='<U1'), array('10', dtype='<U2'), array('5', dtype='<U1'), array('24', dtype='<U2'), array('0', dtype='<U1'), array('22', dtype='<U2'), array('4', dtype='<U1'), array('12', dtype='<U2'), array('16', dtype='<U2'), array('25', dtype='<U2'), array('20', dtype='<U2'), array('9', dtype='<U1'), array('13', dtype='<U2'), array('25', dtype='<U2'), array('18', dtype='<U2'), array('11', dtype='<U2'), array('15', dtype='<U2'), array('18', dtype='<U2'), array('4', dtype='<U1'), array('21', dtype='<U2'), array('22', dtype='<U2'), array('21', dtype='<U2'), array('8', dtype='<U1'), array('15', dtype='<U2'), array('11', dtype='<U2'), array('12', dtype='<U2'), array('10', dtype='<U2'), array('21', dtype='<U2'), array('6', dtype='<U1'), array('15', dtype='<U2'), array('19', dtype='<U2'), array('10', dtype='<U2'), array('10', dtype='<U2'), array('8', dtype='<U1'), array('5', dtype='<U1'), array('15', dtype='<U2'), array('18', dtype='<U2'), array('7', dtype='<U1'), array('15', dtype='<U2'), array('23', dtype='<U2'), array('28', dtype='<U2'), array('5', dtype='<U1'), array('6', dtype='<U1'), array('5', dtype='<U1'), array('15', dtype='<U2'), array('16', dtype='<U2'), array('25', dtype='<U2'), array('22', dtype='<U2'), array('4', dtype='<U1'), array('28', dtype='<U2'), array('12', dtype='<U2'), array('12', dtype='<U2'), array('9', dtype='<U1'), array('8', dtype='<U1'), array('7', dtype='<U1'), array('0', dtype='<U1'), array('15', dtype='<U2'), array('11', dtype='<U2'), array('12', dtype='<U2'), array('15', dtype='<U2'), array('18', dtype='<U2'), array('7', dtype='<U1'), array('22', dtype='<U2'), array('26', dtype='<U2'), array('1', dtype='<U1'), array('19', dtype='<U2'), array('1', dtype='<U1'), array('28', dtype='<U2'), array('15', dtype='<U2'), array('28', dtype='<U2'), array('4', dtype='<U1'), array('12', dtype='<U2'), array('12', dtype='<U2'), array('21', dtype='<U2'), array('12', dtype='<U2'), array('21', dtype='<U2'), array('25', dtype='<U2'), array('17', dtype='<U2'), array('22', dtype='<U2'), array('22', dtype='<U2'), array('0', dtype='<U1'), array('25', dtype='<U2'), array('21', dtype='<U2'), array('25', dtype='<U2'), array('15', dtype='<U2'), array('25', dtype='<U2'), array('17', dtype='<U2'), array('20', dtype='<U2'), array('0', dtype='<U1'), array('17', dtype='<U2'), array('5', dtype='<U1'), array('22', dtype='<U2'), array('0', dtype='<U1'), array('6', dtype='<U1'), array('11', dtype='<U2'), array('18', dtype='<U2'), array('10', dtype='<U2'), array('7', dtype='<U1'), array('27', dtype='<U2'), array('10', dtype='<U2'), array('6', dtype='<U1'), array('0', dtype='<U1'), array('25', dtype='<U2'), array('5', dtype='<U1'), array('4', dtype='<U1'), array('5', dtype='<U1'), array('8', dtype='<U1'), array('18', dtype='<U2'), array('18', dtype='<U2'), array('1', dtype='<U1'), array('12', dtype='<U2'), array('23', dtype='<U2'), array('22', dtype='<U2'), array('11', dtype='<U2'), array('14', dtype='<U2'), array('28', dtype='<U2'), array('11', dtype='<U2'), array('9', dtype='<U1'), array('12', dtype='<U2'), array('10', dtype='<U2'), array('3', dtype='<U1'), array('12', dtype='<U2'), array('1', dtype='<U1'), array('9', dtype='<U1'), array('12', dtype='<U2'), array('7', dtype='<U1'), array('8', dtype='<U1'), array('19', dtype='<U2'), array('14', dtype='<U2'), array('12', dtype='<U2'), array('25', dtype='<U2'), array('6', dtype='<U1'), array('18', dtype='<U2'), array('16', dtype='<U2'), array('25', dtype='<U2'), array('21', dtype='<U2'), array('6', dtype='<U1'), array('0', dtype='<U1'), array('8', dtype='<U1'), array('8', dtype='<U1'), array('23', dtype='<U2'), array('19', dtype='<U2'), array('25', dtype='<U2'), array('10', dtype='<U2'), array('4', dtype='<U1'), array('3', dtype='<U1'), array('7', dtype='<U1'), array('16', dtype='<U2'), array('4', dtype='<U1'), array('7', dtype='<U1'), array('11', dtype='<U2'), array('7', dtype='<U1'), array('14', dtype='<U2'), array('4', dtype='<U1'), array('17', dtype='<U2'), array('7', dtype='<U1'), array('22', dtype='<U2'), array('14', dtype='<U2'), array('7', dtype='<U1'), array('19', dtype='<U2'), array('4', dtype='<U1'), array('7', dtype='<U1'), array('18', dtype='<U2'), array('4', dtype='<U1'), array('10', dtype='<U2'), array('1', dtype='<U1'), array('4', dtype='<U1'), array('15', dtype='<U2'), array('4', dtype='<U1'), array('3', dtype='<U1'), array('22', dtype='<U2'), array('21', dtype='<U2'), array('1', dtype='<U1'), array('1', dtype='<U1'), array('27', dtype='<U2'), array('13', dtype='<U2'), array('5', dtype='<U1'), array('7', dtype='<U1'), array('18', dtype='<U2'), array('26', dtype='<U2'), array('24', dtype='<U2'), array('25', dtype='<U2'), array('13', dtype='<U2'), array('7', dtype='<U1'), array('20', dtype='<U2'), array('5', dtype='<U1'), array('10', dtype='<U2'), array('28', dtype='<U2'), array('0', dtype='<U1'), array('21', dtype='<U2'), array('8', dtype='<U1'), array('15', dtype='<U2'), array('19', dtype='<U2'), array('8', dtype='<U1'), array('5', dtype='<U1'), array('13', dtype='<U2'), array('0', dtype='<U1'), array('8', dtype='<U1'), array('3', dtype='<U1'), array('0', dtype='<U1'), array('21', dtype='<U2'), array('25', dtype='<U2'), array('11', dtype='<U2'), array('11', dtype='<U2'), array('16', dtype='<U2'), array('9', dtype='<U1'), array('12', dtype='<U2'), array('17', dtype='<U2'), array('18', dtype='<U2'), array('11', dtype='<U2'), array('16', dtype='<U2'), array('7', dtype='<U1'), array('7', dtype='<U1'), array('19', dtype='<U2'), array('12', dtype='<U2'), array('25', dtype='<U2'), array('15', dtype='<U2'), array('9', dtype='<U1'), array('7', dtype='<U1'), array('22', dtype='<U2'), array('9', dtype='<U1'), array('9', dtype='<U1'), array('25', dtype='<U2'), array('23', dtype='<U2'), array('11', dtype='<U2'), array('27', dtype='<U2'), array('28', dtype='<U2'), array('1', dtype='<U1'), array('16', dtype='<U2'), array('4', dtype='<U1'), array('10', dtype='<U2'), array('20', dtype='<U2'), array('17', dtype='<U2'), array('28', dtype='<U2'), array('20', dtype='<U2'), array('3', dtype='<U1'), array('20', dtype='<U2'), array('18', dtype='<U2'), array('25', dtype='<U2'), array('9', dtype='<U1'), array('18', dtype='<U2'), array('10', dtype='<U2'), array('6', dtype='<U1'), array('6', dtype='<U1'), array('9', dtype='<U1'), array('7', dtype='<U1'), array('16', dtype='<U2'), array('15', dtype='<U2'), array('3', dtype='<U1'), array('19', dtype='<U2'), array('18', dtype='<U2'), array('9', dtype='<U1'), array('17', dtype='<U2'), array('5', dtype='<U1'), array('17', dtype='<U2'), array('16', dtype='<U2'), array('18', dtype='<U2'), array('25', dtype='<U2'), array('7', dtype='<U1'), array('7', dtype='<U1'), array('22', dtype='<U2'), array('19', dtype='<U2'), array('11', dtype='<U2'), array('19', dtype='<U2'), array('6', dtype='<U1'), array('7', dtype='<U1'), array('11', dtype='<U2'), array('17', dtype='<U2'), array('6', dtype='<U1'), array('12', dtype='<U2'), array('9', dtype='<U1'), array('18', dtype='<U2'), array('18', dtype='<U2'), array('9', dtype='<U1'), array('13', dtype='<U2'), array('9', dtype='<U1'), array('11', dtype='<U2'), array('27', dtype='<U2'), array('28', dtype='<U2'), array('12', dtype='<U2'), array('10', dtype='<U2'), array('7', dtype='<U1'), array('15', dtype='<U2'), array('26', dtype='<U2'), array('19', dtype='<U2'), array('16', dtype='<U2'), array('19', dtype='<U2'), array('14', dtype='<U2'), array('17', dtype='<U2'), array('12', dtype='<U2'), array('8', dtype='<U1'), array('7', dtype='<U1'), array('15', dtype='<U2'), array('25', dtype='<U2'), array('6', dtype='<U1'), array('25', dtype='<U2'), array('10', dtype='<U2'), array('12', dtype='<U2'), array('9', dtype='<U1'), array('3', dtype='<U1'), array('7', dtype='<U1'), array('25', dtype='<U2'), array('17', dtype='<U2'), array('3', dtype='<U1'), array('7', dtype='<U1'), array('10', dtype='<U2'), array('7', dtype='<U1'), array('19', dtype='<U2'), array('20', dtype='<U2'), array('2', dtype='<U1'), array('17', dtype='<U2'), array('25', dtype='<U2'), array('17', dtype='<U2'), array('6', dtype='<U1'), array('5', dtype='<U1'), array('15', dtype='<U2'), array('13', dtype='<U2'), array('22', dtype='<U2'), array('17', dtype='<U2'), array('1', dtype='<U1'), array('15', dtype='<U2'), array('18', dtype='<U2'), array('18', dtype='<U2'), array('0', dtype='<U1'), array('25', dtype='<U2'), array('7', dtype='<U1'), array('0', dtype='<U1'), array('21', dtype='<U2'), array('7', dtype='<U1'), array('27', dtype='<U2'), array('3', dtype='<U1'), array('17', dtype='<U2'), array('25', dtype='<U2'), array('28', dtype='<U2'), array('0', dtype='<U1'), array('17', dtype='<U2'), array('8', dtype='<U1'), array('18', dtype='<U2'), array('27', dtype='<U2'), array('22', dtype='<U2'), array('20', dtype='<U2'), array('9', dtype='<U1'), array('4', dtype='<U1'), array('20', dtype='<U2'), array('21', dtype='<U2'), array('22', dtype='<U2'), array('12', dtype='<U2'), array('3', dtype='<U1'), array('10', dtype='<U2'), array('5', dtype='<U1'), array('22', dtype='<U2'), array('1', dtype='<U1'), array('25', dtype='<U2'), array('7', dtype='<U1'), array('5', dtype='<U1'), array('19', dtype='<U2'), array('12', dtype='<U2'), array('11', dtype='<U2'), array('3', dtype='<U1'), array('27', dtype='<U2'), array('12', dtype='<U2'), array('4', dtype='<U1'), array('9', dtype='<U1'), array('21', dtype='<U2'), array('16', dtype='<U2'), array('11', dtype='<U2'), array('3', dtype='<U1'), array('0', dtype='<U1'), array('27', dtype='<U2'), array('8', dtype='<U1'), array('0', dtype='<U1'), array('12', dtype='<U2'), array('12', dtype='<U2'), array('0', dtype='<U1'), array('22', dtype='<U2'), array('12', dtype='<U2'), array('7', dtype='<U1'), array('17', dtype='<U2'), array('4', dtype='<U1'), array('12', dtype='<U2'), array('14', dtype='<U2'), array('8', dtype='<U1'), array('1', dtype='<U1'), array('12', dtype='<U2'), array('7', dtype='<U1'), array('3', dtype='<U1'), array('5', dtype='<U1'), array('25', dtype='<U2'), array('2', dtype='<U1'), array('12', dtype='<U2'), array('22', dtype='<U2'), array('0', dtype='<U1'), array('27', dtype='<U2'), array('16', dtype='<U2'), array('5', dtype='<U1'), array('24', dtype='<U2'), array('16', dtype='<U2'), array('6', dtype='<U1'), array('13', dtype='<U2'), array('10', dtype='<U2'), array('7', dtype='<U1'), array('16', dtype='<U2'), array('0', dtype='<U1'), array('5', dtype='<U1'), array('25', dtype='<U2'), array('12', dtype='<U2'), array('9', dtype='<U1'), array('7', dtype='<U1'), array('18', dtype='<U2'), array('9', dtype='<U1'), array('25', dtype='<U2'), array('20', dtype='<U2'), array('9', dtype='<U1'), array('22', dtype='<U2'), array('25', dtype='<U2'), array('24', dtype='<U2'), array('9', dtype='<U1'), array('7', dtype='<U1'), array('1', dtype='<U1'), array('15', dtype='<U2'), array('9', dtype='<U1'), array('12', dtype='<U2'), array('16', dtype='<U2'), array('21', dtype='<U2'), array('1', dtype='<U1'), array('19', dtype='<U2'), array('25', dtype='<U2'), array('26', dtype='<U2'), array('10', dtype='<U2'), array('12', dtype='<U2'), array('19', dtype='<U2'), array('19', dtype='<U2'), array('17', dtype='<U2'), array('15', dtype='<U2'), array('25', dtype='<U2'), array('16', dtype='<U2'), array('16', dtype='<U2'), array('25', dtype='<U2'), array('14', dtype='<U2'), array('11', dtype='<U2'), array('25', dtype='<U2'), array('6', dtype='<U1'), array('4', dtype='<U1'), array('17', dtype='<U2'), array('5', dtype='<U1'), array('15', dtype='<U2'), array('12', dtype='<U2'), array('16', dtype='<U2'), array('20', dtype='<U2'), array('18', dtype='<U2'), array('13', dtype='<U2'), array('5', dtype='<U1'), array('12', dtype='<U2'), array('9', dtype='<U1'), array('10', dtype='<U2'), array('15', dtype='<U2'), array('4', dtype='<U1'), array('1', dtype='<U1'), array('12', dtype='<U2'), array('25', dtype='<U2'), array('18', dtype='<U2'), array('16', dtype='<U2'), array('7', dtype='<U1'), array('0', dtype='<U1'), array('3', dtype='<U1'), array('5', dtype='<U1'), array('15', dtype='<U2'), array('9', dtype='<U1'), array('25', dtype='<U2'), array('10', dtype='<U2'), array('11', dtype='<U2'), array('25', dtype='<U2'), array('21', dtype='<U2'), array('16', dtype='<U2'), array('10', dtype='<U2'), array('28', dtype='<U2'), array('20', dtype='<U2'), array('17', dtype='<U2'), array('6', dtype='<U1'), array('12', dtype='<U2'), array('7', dtype='<U1'), array('0', dtype='<U1'), array('5', dtype='<U1'), array('14', dtype='<U2'), array('4', dtype='<U1'), array('8', dtype='<U1'), array('5', dtype='<U1'), array('12', dtype='<U2'), array('12', dtype='<U2'), array('11', dtype='<U2'), array('3', dtype='<U1'), array('15', dtype='<U2'), array('12', dtype='<U2'), array('9', dtype='<U1'), array('1', dtype='<U1'), array('15', dtype='<U2'), array('6', dtype='<U1'), array('15', dtype='<U2'), array('4', dtype='<U1'), array('6', dtype='<U1'), array('20', dtype='<U2'), array('12', dtype='<U2'), array('22', dtype='<U2'), array('15', dtype='<U2'), array('9', dtype='<U1'), array('15', dtype='<U2'), array('6', dtype='<U1'), array('11', dtype='<U2'), array('13', dtype='<U2'), array('15', dtype='<U2'), array('25', dtype='<U2'), array('0', dtype='<U1'), array('13', dtype='<U2'), array('17', dtype='<U2'), array('28', dtype='<U2'), array('12', dtype='<U2'), array('12', dtype='<U2'), array('21', dtype='<U2'), array('15', dtype='<U2'), array('25', dtype='<U2'), array('23', dtype='<U2'), array('4', dtype='<U1'), array('16', dtype='<U2'), array('1', dtype='<U1'), array('22', dtype='<U2'), array('17', dtype='<U2'), array('0', dtype='<U1'), array('4', dtype='<U1'), array('7', dtype='<U1'), array('9', dtype='<U1'), array('28', dtype='<U2'), array('15', dtype='<U2'), array('7', dtype='<U1'), array('7', dtype='<U1'), array('9', dtype='<U1'), array('9', dtype='<U1'), array('12', dtype='<U2'), array('25', dtype='<U2'), array('4', dtype='<U1'), array('17', dtype='<U2'), array('25', dtype='<U2'), array('0', dtype='<U1'), array('14', dtype='<U2'), array('10', dtype='<U2'), array('11', dtype='<U2'), array('11', dtype='<U2'), array('25', dtype='<U2'), array('7', dtype='<U1'), array('18', dtype='<U2'), array('20', dtype='<U2'), array('9', dtype='<U1'), array('28', dtype='<U2'), array('28', dtype='<U2'), array('1', dtype='<U1'), array('10', dtype='<U2'), array('8', dtype='<U1'), array('21', dtype='<U2'), array('0', dtype='<U1'), array('24', dtype='<U2'), array('6', dtype='<U1'), array('9', dtype='<U1'), array('9', dtype='<U1'), array('12', dtype='<U2'), array('22', dtype='<U2'), array('5', dtype='<U1'), array('25', dtype='<U2'), array('0', dtype='<U1'), array('7', dtype='<U1'), array('15', dtype='<U2'), array('0', dtype='<U1'), array('25', dtype='<U2'), array('0', dtype='<U1'), array('28', dtype='<U2'), array('19', dtype='<U2'), array('24', dtype='<U2'), array('0', dtype='<U1'), array('22', dtype='<U2'), array('11', dtype='<U2'), array('21', dtype='<U2'), array('11', dtype='<U2'), array('8', dtype='<U1'), array('11', dtype='<U2'), array('20', dtype='<U2'), array('5', dtype='<U1'), array('21', dtype='<U2'), array('12', dtype='<U2'), array('10', dtype='<U2'), array('7', dtype='<U1'), array('27', dtype='<U2'), array('24', dtype='<U2'), array('18', dtype='<U2'), array('9', dtype='<U1'), array('5', dtype='<U1'), array('12', dtype='<U2'), array('5', dtype='<U1'), array('0', dtype='<U1'), array('3', dtype='<U1'), array('0', dtype='<U1'), array('11', dtype='<U2'), array('15', dtype='<U2'), array('10', dtype='<U2'), array('12', dtype='<U2'), array('21', dtype='<U2'), array('0', dtype='<U1'), array('23', dtype='<U2'), array('0', dtype='<U1'), array('3', dtype='<U1'), array('11', dtype='<U2'), array('25', dtype='<U2'), array('2', dtype='<U1'), array('21', dtype='<U2'), array('12', dtype='<U2'), array('0', dtype='<U1'), array('21', dtype='<U2'), array('5', dtype='<U1'), array('2', dtype='<U1'), array('5', dtype='<U1'), array('12', dtype='<U2'), array('0', dtype='<U1'), array('0', dtype='<U1'), array('21', dtype='<U2'), array('1', dtype='<U1'), array('5', dtype='<U1'), array('8', dtype='<U1'), array('18', dtype='<U2'), array('5', dtype='<U1'), array('22', dtype='<U2'), array('12', dtype='<U2'), array('9', dtype='<U1'), array('22', dtype='<U2'), array('10', dtype='<U2'), array('18', dtype='<U2'), array('13', dtype='<U2'), array('6', dtype='<U1'), array('22', dtype='<U2'), array('25', dtype='<U2'), array('3', dtype='<U1'), array('17', dtype='<U2'), array('4', dtype='<U1'), array('25', dtype='<U2'), array('21', dtype='<U2'), array('18', dtype='<U2'), array('24', dtype='<U2'), array('15', dtype='<U2'), array('19', dtype='<U2'), array('6', dtype='<U1'), array('11', dtype='<U2'), array('0', dtype='<U1'), array('25', dtype='<U2'), array('12', dtype='<U2'), array('9', dtype='<U1'), array('5', dtype='<U1'), array('7', dtype='<U1'), array('3', dtype='<U1'), array('18', dtype='<U2'), array('10', dtype='<U2'), array('10', dtype='<U2'), array('25', dtype='<U2'), array('12', dtype='<U2'), array('15', dtype='<U2'), array('12', dtype='<U2'), array('28', dtype='<U2'), array('25', dtype='<U2'), array('12', dtype='<U2'), array('15', dtype='<U2'), array('11', dtype='<U2'), array('0', dtype='<U1'), array('16', dtype='<U2'), array('28', dtype='<U2'), array('6', dtype='<U1'), array('0', dtype='<U1'), array('15', dtype='<U2'), array('10', dtype='<U2'), array('12', dtype='<U2'), array('2', dtype='<U1'), array('17', dtype='<U2'), array('0', dtype='<U1'), array('21', dtype='<U2'), array('12', dtype='<U2'), array('19', dtype='<U2'), array('6', dtype='<U1'), array('25', dtype='<U2'), array('10', dtype='<U2'), array('8', dtype='<U1'), array('25', dtype='<U2'), array('3', dtype='<U1'), array('22', dtype='<U2'), array('0', dtype='<U1'), array('15', dtype='<U2'), array('16', dtype='<U2'), array('22', dtype='<U2'), array('12', dtype='<U2'), array('17', dtype='<U2'), array('4', dtype='<U1'), array('26', dtype='<U2'), array('0', dtype='<U1'), array('9', dtype='<U1'), array('7', dtype='<U1'), array('0', dtype='<U1'), array('4', dtype='<U1'), array('25', dtype='<U2'), array('11', dtype='<U2'), array('9', dtype='<U1'), array('11', dtype='<U2'), array('10', dtype='<U2'), array('22', dtype='<U2'), array('10', dtype='<U2'), array('17', dtype='<U2'), array('21', dtype='<U2'), array('0', dtype='<U1'), array('9', dtype='<U1'), array('0', dtype='<U1'), array('28', dtype='<U2'), array('15', dtype='<U2'), array('3', dtype='<U1'), array('16', dtype='<U2'), array('12', dtype='<U2'), array('17', dtype='<U2'), array('26', dtype='<U2'), array('25', dtype='<U2'), array('25', dtype='<U2'), array('21', dtype='<U2'), array('12', dtype='<U2'), array('12', dtype='<U2'), array('16', dtype='<U2'), array('1', dtype='<U1'), array('25', dtype='<U2'), array('7', dtype='<U1'), array('11', dtype='<U2'), array('1', dtype='<U1'), array('11', dtype='<U2'), array('9', dtype='<U1'), array('9', dtype='<U1'), array('5', dtype='<U1'), array('14', dtype='<U2'), array('21', dtype='<U2'), array('11', dtype='<U2'), array('12', dtype='<U2'), array('25', dtype='<U2'), array('22', dtype='<U2'), array('12', dtype='<U2'), array('13', dtype='<U2'), array('7', dtype='<U1'), array('9', dtype='<U1'), array('28', dtype='<U2'), array('23', dtype='<U2'), array('4', dtype='<U1'), array('7', dtype='<U1'), array('25', dtype='<U2'), array('23', dtype='<U2'), array('5', dtype='<U1'), array('25', dtype='<U2'), array('8', dtype='<U1'), array('7', dtype='<U1'), array('17', dtype='<U2'), array('11', dtype='<U2'), array('4', dtype='<U1'), array('24', dtype='<U2'), array('7', dtype='<U1'), array('24', dtype='<U2'), array('24', dtype='<U2'), array('23', dtype='<U2'), array('0', dtype='<U1'), array('22', dtype='<U2'), array('10', dtype='<U2'), array('9', dtype='<U1'), array('12', dtype='<U2'), array('7', dtype='<U1'), array('12', dtype='<U2'), array('25', dtype='<U2'), array('3', dtype='<U1'), array('20', dtype='<U2'), array('10', dtype='<U2'), array('16', dtype='<U2'), array('18', dtype='<U2'), array('9', dtype='<U1'), array('26', dtype='<U2'), array('25', dtype='<U2'), array('10', dtype='<U2'), array('11', dtype='<U2'), array('22', dtype='<U2'), array('25', dtype='<U2'), array('25', dtype='<U2'), array('16', dtype='<U2'), array('0', dtype='<U1'), array('0', dtype='<U1'), array('20', dtype='<U2'), array('28', dtype='<U2'), array('25', dtype='<U2'), array('11', dtype='<U2'), array('11', dtype='<U2'), array('22', dtype='<U2'), array('11', dtype='<U2'), array('17', dtype='<U2'), array('17', dtype='<U2'), array('7', dtype='<U1'), array('15', dtype='<U2'), array('6', dtype='<U1'), array('13', dtype='<U2'), array('18', dtype='<U2'), array('21', dtype='<U2'), array('25', dtype='<U2'), array('22', dtype='<U2'), array('16', dtype='<U2'), array('15', dtype='<U2'), array('5', dtype='<U1'), array('18', dtype='<U2'), array('25', dtype='<U2'), array('19', dtype='<U2'), array('22', dtype='<U2'), array('3', dtype='<U1'), array('12', dtype='<U2'), array('25', dtype='<U2'), array('0', dtype='<U1'), array('7', dtype='<U1'), array('28', dtype='<U2'), array('8', dtype='<U1'), array('10', dtype='<U2'), array('1', dtype='<U1'), array('11', dtype='<U2'), array('28', dtype='<U2'), array('7', dtype='<U1'), array('19', dtype='<U2'), array('5', dtype='<U1'), array('11', dtype='<U2'), array('1', dtype='<U1'), array('23', dtype='<U2'), array('27', dtype='<U2'), array('17', dtype='<U2'), array('13', dtype='<U2'), array('20', dtype='<U2'), array('28', dtype='<U2'), array('19', dtype='<U2'), array('20', dtype='<U2'), array('0', dtype='<U1'), array('25', dtype='<U2'), array('22', dtype='<U2'), array('25', dtype='<U2'), array('12', dtype='<U2'), array('12', dtype='<U2'), array('9', dtype='<U1'), array('10', dtype='<U2'), array('6', dtype='<U1'), array('12', dtype='<U2'), array('23', dtype='<U2'), array('9', dtype='<U1'), array('10', dtype='<U2'), array('5', dtype='<U1'), array('3', dtype='<U1'), array('28', dtype='<U2'), array('12', dtype='<U2'), array('16', dtype='<U2'), array('0', dtype='<U1'), array('15', dtype='<U2'), array('23', dtype='<U2'), array('6', dtype='<U1'), array('16', dtype='<U2'), array('25', dtype='<U2'), array('25', dtype='<U2'), array('28', dtype='<U2'), array('9', dtype='<U1'), array('8', dtype='<U1'), array('4', dtype='<U1'), array('12', dtype='<U2'), array('8', dtype='<U1'), array('16', dtype='<U2'), array('16', dtype='<U2'), array('18', dtype='<U2'), array('25', dtype='<U2'), array('11', dtype='<U2'), array('13', dtype='<U2'), array('9', dtype='<U1'), array('23', dtype='<U2'), array('0', dtype='<U1'), array('27', dtype='<U2'), array('8', dtype='<U1'), array('16', dtype='<U2'), array('23', dtype='<U2'), array('7', dtype='<U1'), array('21', dtype='<U2'), array('9', dtype='<U1'), array('16', dtype='<U2'), array('16', dtype='<U2'), array('28', dtype='<U2'), array('22', dtype='<U2'), array('0', dtype='<U1'), array('12', dtype='<U2'), array('3', dtype='<U1'), array('10', dtype='<U2'), array('19', dtype='<U2'), array('25', dtype='<U2'), array('4', dtype='<U1'), array('11', dtype='<U2'), array('4', dtype='<U1'), array('18', dtype='<U2'), array('5', dtype='<U1'), array('11', dtype='<U2'), array('1', dtype='<U1'), array('9', dtype='<U1'), array('18', dtype='<U2'), array('10', dtype='<U2'), array('21', dtype='<U2'), array('9', dtype='<U1'), array('3', dtype='<U1'), array('28', dtype='<U2'), array('9', dtype='<U1'), array('20', dtype='<U2'), array('17', dtype='<U2'), array('21', dtype='<U2'), array('26', dtype='<U2'), array('21', dtype='<U2'), array('20', dtype='<U2'), array('6', dtype='<U1'), array('0', dtype='<U1'), array('27', dtype='<U2'), array('22', dtype='<U2'), array('9', dtype='<U1'), array('15', dtype='<U2'), array('25', dtype='<U2'), array('17', dtype='<U2'), array('7', dtype='<U1'), array('18', dtype='<U2'), array('28', dtype='<U2'), array('0', dtype='<U1'), array('7', dtype='<U1'), array('9', dtype='<U1'), array('8', dtype='<U1'), array('21', dtype='<U2'), array('5', dtype='<U1'), array('9', dtype='<U1'), array('6', dtype='<U1'), array('22', dtype='<U2'), array('10', dtype='<U2'), array('17', dtype='<U2'), array('2', dtype='<U1'), array('8', dtype='<U1'), array('5', dtype='<U1'), array('26', dtype='<U2'), array('0', dtype='<U1'), array('8', dtype='<U1'), array('26', dtype='<U2'), array('8', dtype='<U1'), array('3', dtype='<U1'), array('7', dtype='<U1'), array('12', dtype='<U2'), array('4', dtype='<U1'), array('18', dtype='<U2'), array('12', dtype='<U2'), array('22', dtype='<U2'), array('11', dtype='<U2'), array('4', dtype='<U1'), array('5', dtype='<U1'), array('17', dtype='<U2'), array('12', dtype='<U2'), array('6', dtype='<U1'), array('5', dtype='<U1'), array('9', dtype='<U1'), array('28', dtype='<U2'), array('2', dtype='<U1'), array('10', dtype='<U2'), array('4', dtype='<U1'), array('12', dtype='<U2'), array('22', dtype='<U2'), array('28', dtype='<U2'), array('15', dtype='<U2'), array('3', dtype='<U1'), array('18', dtype='<U2'), array('10', dtype='<U2'), array('18', dtype='<U2'), array('0', dtype='<U1'), array('11', dtype='<U2'), array('22', dtype='<U2'), array('10', dtype='<U2'), array('7', dtype='<U1'), array('23', dtype='<U2'), array('12', dtype='<U2'), array('18', dtype='<U2'), array('0', dtype='<U1'), array('16', dtype='<U2'), array('18', dtype='<U2'), array('0', dtype='<U1'), array('12', dtype='<U2'), array('10', dtype='<U2'), array('21', dtype='<U2'), array('21', dtype='<U2'), array('15', dtype='<U2'), array('28', dtype='<U2'), array('21', dtype='<U2'), array('23', dtype='<U2'), array('15', dtype='<U2'), array('4', dtype='<U1'), array('15', dtype='<U2'), array('8', dtype='<U1'), array('11', dtype='<U2'), array('12', dtype='<U2'), array('22', dtype='<U2'), array('25', dtype='<U2'), array('12', dtype='<U2'), array('28', dtype='<U2'), array('20', dtype='<U2'), array('8', dtype='<U1'), array('12', dtype='<U2'), array('24', dtype='<U2'), array('13', dtype='<U2'), array('7', dtype='<U1'), array('23', dtype='<U2'), array('9', dtype='<U1'), array('12', dtype='<U2'), array('25', dtype='<U2'), array('7', dtype='<U1'), array('12', dtype='<U2'), array('5', dtype='<U1'), array('21', dtype='<U2'), array('7', dtype='<U1'), array('22', dtype='<U2'), array('15', dtype='<U2'), array('10', dtype='<U2'), array('12', dtype='<U2'), array('5', dtype='<U1'), array('7', dtype='<U1'), array('6', dtype='<U1'), array('22', dtype='<U2'), array('7', dtype='<U1'), array('19', dtype='<U2'), array('4', dtype='<U1'), array('7', dtype='<U1'), array('11', dtype='<U2'), array('21', dtype='<U2'), array('28', dtype='<U2'), array('24', dtype='<U2'), array('23', dtype='<U2'), array('22', dtype='<U2'), array('21', dtype='<U2'), array('28', dtype='<U2'), array('22', dtype='<U2'), array('7', dtype='<U1'), array('7', dtype='<U1'), array('14', dtype='<U2'), array('2', dtype='<U1'), array('4', dtype='<U1'), array('3', dtype='<U1'), array('21', dtype='<U2'), array('26', dtype='<U2'), array('28', dtype='<U2'), array('17', dtype='<U2'), array('22', dtype='<U2'), array('21', dtype='<U2'), array('5', dtype='<U1'), array('1', dtype='<U1'), array('6', dtype='<U1'), array('11', dtype='<U2'), array('25', dtype='<U2'), array('25', dtype='<U2'), array('21', dtype='<U2'), array('9', dtype='<U1'), array('4', dtype='<U1'), array('11', dtype='<U2'), array('3', dtype='<U1'), array('20', dtype='<U2'), array('15', dtype='<U2'), array('12', dtype='<U2'), array('15', dtype='<U2'), array('7', dtype='<U1'), array('5', dtype='<U1'), array('1', dtype='<U1'), array('16', dtype='<U2'), array('10', dtype='<U2'), array('25', dtype='<U2'), array('8', dtype='<U1'), array('8', dtype='<U1'), array('18', dtype='<U2'), array('4', dtype='<U1'), array('12', dtype='<U2'), array('2', dtype='<U1'), array('8', dtype='<U1'), array('19', dtype='<U2'), array('23', dtype='<U2'), array('1', dtype='<U1'), array('4', dtype='<U1'), array('28', dtype='<U2'), array('19', dtype='<U2'), array('21', dtype='<U2'), array('12', dtype='<U2'), array('13', dtype='<U2'), array('17', dtype='<U2'), array('12', dtype='<U2'), array('0', dtype='<U1'), array('5', dtype='<U1'), array('4', dtype='<U1'), array('12', dtype='<U2'), array('12', dtype='<U2'), array('12', dtype='<U2'), array('11', dtype='<U2'), array('15', dtype='<U2'), array('6', dtype='<U1'), array('16', dtype='<U2'), array('1', dtype='<U1'), array('3', dtype='<U1'), array('7', dtype='<U1'), array('3', dtype='<U1'), array('28', dtype='<U2'), array('16', dtype='<U2'), array('11', dtype='<U2'), array('16', dtype='<U2'), array('12', dtype='<U2'), array('6', dtype='<U1'), array('20', dtype='<U2'), array('17', dtype='<U2'), array('3', dtype='<U1'), array('9', dtype='<U1'), array('14', dtype='<U2'), array('22', dtype='<U2'), array('12', dtype='<U2'), array('3', dtype='<U1'), array('12', dtype='<U2'), array('22', dtype='<U2'), array('10', dtype='<U2'), array('5', dtype='<U1'), array('12', dtype='<U2'), array('28', dtype='<U2'), array('4', dtype='<U1'), array('22', dtype='<U2'), array('7', dtype='<U1'), array('22', dtype='<U2'), array('10', dtype='<U2'), array('6', dtype='<U1'), array('12', dtype='<U2'), array('7', dtype='<U1'), array('1', dtype='<U1'), array('11', dtype='<U2'), array('9', dtype='<U1'), array('5', dtype='<U1'), array('21', dtype='<U2'), array('10', dtype='<U2'), array('21', dtype='<U2'), array('3', dtype='<U1'), array('0', dtype='<U1'), array('10', dtype='<U2'), array('21', dtype='<U2'), array('4', dtype='<U1'), array('4', dtype='<U1'), array('6', dtype='<U1'), array('25', dtype='<U2'), array('19', dtype='<U2'), array('18', dtype='<U2'), array('4', dtype='<U1'), array('16', dtype='<U2'), array('12', dtype='<U2'), array('12', dtype='<U2'), array('23', dtype='<U2'), array('22', dtype='<U2'), array('3', dtype='<U1'), array('15', dtype='<U2'), array('0', dtype='<U1'), array('11', dtype='<U2'), array('8', dtype='<U1'), array('21', dtype='<U2'), array('17', dtype='<U2'), array('25', dtype='<U2'), array('7', dtype='<U1'), array('21', dtype='<U2'), array('25', dtype='<U2'), array('0', dtype='<U1'), array('15', dtype='<U2'), array('6', dtype='<U1'), array('19', dtype='<U2'), array('12', dtype='<U2'), array('15', dtype='<U2'), array('8', dtype='<U1'), array('7', dtype='<U1'), array('25', dtype='<U2'), array('22', dtype='<U2'), array('15', dtype='<U2'), array('20', dtype='<U2'), array('4', dtype='<U1'), array('12', dtype='<U2'), array('5', dtype='<U1'), array('17', dtype='<U2'), array('8', dtype='<U1'), array('19', dtype='<U2'), array('4', dtype='<U1'), array('11', dtype='<U2'), array('15', dtype='<U2'), array('6', dtype='<U1'), array('4', dtype='<U1'), array('5', dtype='<U1'), array('16', dtype='<U2'), array('12', dtype='<U2'), array('18', dtype='<U2'), array('10', dtype='<U2'), array('12', dtype='<U2'), array('6', dtype='<U1'), array('0', dtype='<U1'), array('12', dtype='<U2'), array('14', dtype='<U2'), array('0', dtype='<U1'), array('8', dtype='<U1'), array('3', dtype='<U1'), array('5', dtype='<U1'), array('12', dtype='<U2'), array('13', dtype='<U2'), array('25', dtype='<U2'), array('4', dtype='<U1'), array('13', dtype='<U2'), array('25', dtype='<U2'), array('26', dtype='<U2'), array('7', dtype='<U1'), array('28', dtype='<U2'), array('21', dtype='<U2'), array('15', dtype='<U2'), array('3', dtype='<U1'), array('22', dtype='<U2'), array('9', dtype='<U1'), array('5', dtype='<U1'), array('9', dtype='<U1'), array('15', dtype='<U2'), array('22', dtype='<U2'), array('9', dtype='<U1'), array('16', dtype='<U2'), array('25', dtype='<U2'), array('7', dtype='<U1'), array('11', dtype='<U2'), array('12', dtype='<U2'), array('3', dtype='<U1'), array('22', dtype='<U2'), array('12', dtype='<U2'), array('9', dtype='<U1'), array('11', dtype='<U2'), array('21', dtype='<U2'), array('18', dtype='<U2'), array('9', dtype='<U1'), array('12', dtype='<U2'), array('28', dtype='<U2'), array('25', dtype='<U2'), array('28', dtype='<U2'), array('1', dtype='<U1'), array('7', dtype='<U1'), array('27', dtype='<U2'), array('18', dtype='<U2'), array('0', dtype='<U1'), array('17', dtype='<U2'), array('16', dtype='<U2'), array('17', dtype='<U2'), array('9', dtype='<U1'), array('12', dtype='<U2'), array('11', dtype='<U2'), array('16', dtype='<U2'), array('1', dtype='<U1'), array('0', dtype='<U1'), array('11', dtype='<U2'), array('28', dtype='<U2'), array('8', dtype='<U1'), array('12', dtype='<U2'), array('7', dtype='<U1'), array('12', dtype='<U2'), array('5', dtype='<U1'), array('23', dtype='<U2'), array('10', dtype='<U2'), array('15', dtype='<U2'), array('28', dtype='<U2'), array('12', dtype='<U2'), array('12', dtype='<U2'), array('12', dtype='<U2'), array('16', dtype='<U2'), array('16', dtype='<U2'), array('0', dtype='<U1'), array('15', dtype='<U2'), array('10', dtype='<U2'), array('5', dtype='<U1'), array('9', dtype='<U1'), array('11', dtype='<U2'), array('4', dtype='<U1'), array('25', dtype='<U2'), array('12', dtype='<U2'), array('20', dtype='<U2'), array('4', dtype='<U1'), array('7', dtype='<U1'), array('0', dtype='<U1'), array('12', dtype='<U2'), array('1', dtype='<U1'), array('5', dtype='<U1'), array('8', dtype='<U1'), array('25', dtype='<U2'), array('22', dtype='<U2'), array('16', dtype='<U2'), array('8', dtype='<U1'), array('14', dtype='<U2'), array('15', dtype='<U2'), array('0', dtype='<U1'), array('25', dtype='<U2'), array('12', dtype='<U2'), array('3', dtype='<U1'), array('18', dtype='<U2'), array('24', dtype='<U2'), array('0', dtype='<U1'), array('6', dtype='<U1'), array('18', dtype='<U2'), array('7', dtype='<U1'), array('25', dtype='<U2'), array('5', dtype='<U1'), array('16', dtype='<U2'), array('21', dtype='<U2'), array('25', dtype='<U2'), array('12', dtype='<U2'), array('21', dtype='<U2'), array('0', dtype='<U1'), array('7', dtype='<U1'), array('24', dtype='<U2'), array('12', dtype='<U2'), array('12', dtype='<U2'), array('24', dtype='<U2'), array('12', dtype='<U2'), array('25', dtype='<U2'), array('25', dtype='<U2'), array('27', dtype='<U2'), array('4', dtype='<U1'), array('22', dtype='<U2'), array('10', dtype='<U2'), array('8', dtype='<U1'), array('0', dtype='<U1'), array('11', dtype='<U2'), array('25', dtype='<U2'), array('15', dtype='<U2'), array('5', dtype='<U1'), array('15', dtype='<U2'), array('11', dtype='<U2'), array('25', dtype='<U2'), array('0', dtype='<U1'), array('7', dtype='<U1'), array('15', dtype='<U2'), array('18', dtype='<U2'), array('12', dtype='<U2'), array('21', dtype='<U2'), array('25', dtype='<U2'), array('28', dtype='<U2'), array('9', dtype='<U1'), array('6', dtype='<U1'), array('21', dtype='<U2'), array('5', dtype='<U1'), array('13', dtype='<U2'), array('18', dtype='<U2'), array('18', dtype='<U2'), array('3', dtype='<U1'), array('0', dtype='<U1'), array('12', dtype='<U2'), array('12', dtype='<U2'), array('19', dtype='<U2'), array('0', dtype='<U1'), array('0', dtype='<U1'), array('6', dtype='<U1'), array('3', dtype='<U1'), array('22', dtype='<U2'), array('22', dtype='<U2'), array('6', dtype='<U1'), array('0', dtype='<U1'), array('5', dtype='<U1'), array('27', dtype='<U2'), array('22', dtype='<U2'), array('25', dtype='<U2'), array('28', dtype='<U2'), array('4', dtype='<U1'), array('22', dtype='<U2'), array('26', dtype='<U2'), array('7', dtype='<U1'), array('21', dtype='<U2'), array('0', dtype='<U1'), array('22', dtype='<U2'), array('17', dtype='<U2'), array('5', dtype='<U1'), array('23', dtype='<U2'), array('25', dtype='<U2'), array('18', dtype='<U2'), array('4', dtype='<U1'), array('7', dtype='<U1'), array('8', dtype='<U1'), array('22', dtype='<U2'), array('3', dtype='<U1'), array('12', dtype='<U2'), array('20', dtype='<U2'), array('10', dtype='<U2'), array('17', dtype='<U2'), array('16', dtype='<U2'), array('10', dtype='<U2'), array('21', dtype='<U2'), array('10', dtype='<U2'), array('6', dtype='<U1'), array('6', dtype='<U1'), array('12', dtype='<U2'), array('15', dtype='<U2'), array('5', dtype='<U1'), array('9', dtype='<U1'), array('27', dtype='<U2'), array('16', dtype='<U2'), array('10', dtype='<U2'), array('12', dtype='<U2'), array('11', dtype='<U2'), array('19', dtype='<U2'), array('11', dtype='<U2'), array('19', dtype='<U2'), array('4', dtype='<U1'), array('28', dtype='<U2'), array('15', dtype='<U2'), array('19', dtype='<U2'), array('0', dtype='<U1'), array('7', dtype='<U1'), array('12', dtype='<U2'), array('4', dtype='<U1'), array('7', dtype='<U1'), array('0', dtype='<U1'), array('22', dtype='<U2'), array('12', dtype='<U2'), array('6', dtype='<U1'), array('12', dtype='<U2'), array('20', dtype='<U2'), array('9', dtype='<U1'), array('0', dtype='<U1'), array('15', dtype='<U2'), array('19', dtype='<U2'), array('12', dtype='<U2'), array('11', dtype='<U2'), array('11', dtype='<U2'), array('6', dtype='<U1'), array('3', dtype='<U1'), array('5', dtype='<U1'), array('16', dtype='<U2'), array('18', dtype='<U2'), array('15', dtype='<U2'), array('13', dtype='<U2'), array('12', dtype='<U2'), array('16', dtype='<U2'), array('4', dtype='<U1'), array('16', dtype='<U2'), array('23', dtype='<U2'), array('9', dtype='<U1'), array('16', dtype='<U2'), array('16', dtype='<U2'), array('8', dtype='<U1'), array('3', dtype='<U1'), array('9', dtype='<U1'), array('1', dtype='<U1'), array('23', dtype='<U2'), array('19', dtype='<U2'), array('16', dtype='<U2'), array('4', dtype='<U1'), array('0', dtype='<U1'), array('0', dtype='<U1'), array('12', dtype='<U2'), array('0', dtype='<U1'), array('19', dtype='<U2'), array('11', dtype='<U2'), array('12', dtype='<U2'), array('22', dtype='<U2'), array('7', dtype='<U1'), array('21', dtype='<U2'), array('23', dtype='<U2'), array('12', dtype='<U2'), array('18', dtype='<U2'), array('22', dtype='<U2'), array('24', dtype='<U2'), array('22', dtype='<U2'), array('6', dtype='<U1'), array('25', dtype='<U2'), array('12', dtype='<U2'), array('4', dtype='<U1'), array('17', dtype='<U2'), array('11', dtype='<U2'), array('0', dtype='<U1'), array('11', dtype='<U2'), array('3', dtype='<U1'), array('6', dtype='<U1'), array('5', dtype='<U1'), array('19', dtype='<U2'), array('18', dtype='<U2'), array('19', dtype='<U2'), array('22', dtype='<U2'), array('18', dtype='<U2'), array('25', dtype='<U2'), array('9', dtype='<U1'), array('15', dtype='<U2'), array('7', dtype='<U1'), array('4', dtype='<U1'), array('15', dtype='<U2'), array('25', dtype='<U2'), array('10', dtype='<U2'), array('28', dtype='<U2'), array('21', dtype='<U2'), array('5', dtype='<U1'), array('12', dtype='<U2'), array('10', dtype='<U2'), array('18', dtype='<U2'), array('7', dtype='<U1'), array('8', dtype='<U1'), array('3', dtype='<U1'), array('25', dtype='<U2'), array('21', dtype='<U2')]\n",
            "[[0. 0. 0. ... 0. 0. 1.]\n",
            " [0. 0. 0. ... 0. 0. 0.]\n",
            " [0. 0. 0. ... 0. 0. 0.]\n",
            " ...\n",
            " [0. 0. 0. ... 0. 0. 0.]\n",
            " [0. 0. 0. ... 0. 0. 0.]\n",
            " [0. 0. 0. ... 0. 0. 0.]]\n"
          ],
          "name": "stdout"
        }
      ]
    },
    {
      "cell_type": "markdown",
      "metadata": {
        "id": "UJJQYWyG6n07",
        "colab_type": "text"
      },
      "source": [
        "## Design Model"
      ]
    },
    {
      "cell_type": "code",
      "metadata": {
        "id": "t_jdLYov6rEy",
        "colab_type": "code",
        "colab": {}
      },
      "source": [
        "model = Sequential()\n",
        "model.add(Conv2D(64, (3, 3), padding='same',\n",
        "                 input_shape=x_train.shape[1:]))\n",
        "model.add(Activation('relu'))\n",
        "model.add(Conv2D(64, (3, 3)))\n",
        "model.add(Activation('relu'))\n",
        "model.add(MaxPooling2D(pool_size=(2, 2)))\n",
        "model.add(Dropout(0.25))\n",
        "\n",
        "model.add(Conv2D(128, (3, 3), padding='same'))\n",
        "model.add(Activation('relu'))\n",
        "model.add(Conv2D(128, (3, 3)))\n",
        "model.add(Activation('relu'))\n",
        "model.add(MaxPooling2D(pool_size=(2, 2)))\n",
        "model.add(Dropout(0.25))\n",
        "\n",
        "model.add(Flatten())\n",
        "model.add(Dense(512))\n",
        "model.add(Activation('relu'))\n",
        "model.add(Dropout(0.5))\n",
        "model.add(Dense(num_classes))\n",
        "model.add(Activation('softmax'))\n",
        "\n",
        "# Initiate RMSprop optimizer\n",
        "#opt = keras.optimizers.rmsprop(lr=0.001, decay=1e-6)\n",
        "opt = keras.optimizers.Adam(0.0005, beta_1=0.9, beta_2=0.999, amsgrad=True)\n",
        "#opt = keras.optimizers.SGD(lr=0.01, momentum=0.0, nesterov=False)"
      ],
      "execution_count": 0,
      "outputs": []
    },
    {
      "cell_type": "markdown",
      "metadata": {
        "id": "f_FDnpL_7Dro",
        "colab_type": "text"
      },
      "source": [
        "# Model Train"
      ]
    },
    {
      "cell_type": "code",
      "metadata": {
        "id": "iAHY7Jcp7EQj",
        "colab_type": "code",
        "outputId": "39849009-0d29-4b0a-a87a-476cc688d476",
        "colab": {
          "base_uri": "https://localhost:8080/",
          "height": 218
        }
      },
      "source": [
        "model.compile(loss='categorical_crossentropy',\n",
        "              optimizer=opt,\n",
        "              metrics=['accuracy'])\n",
        "\n",
        "x_train = x_train.astype('float32')\n",
        "x_test = x_test.astype('float32')\n",
        "x_train /= 255\n",
        "x_test /= 255\n",
        "\n",
        "if not data_augmentation:\n",
        "    print('Not using data augmentation.')\n",
        "    model.fit(x_train, y_train,\n",
        "              batch_size=batch_size,\n",
        "              epochs=epochs,\n",
        "              validation_data=(x_test, y_test),\n",
        "              shuffle=True)\n",
        "else:\n",
        "    print('Using real-time data augmentation.')\n",
        "    # This will do preprocessing and realtime data augmentation:\n",
        "    datagen = ImageDataGenerator(\n",
        "        featurewise_center=False,  # set input mean to 0 over the dataset\n",
        "        samplewise_center=False,  # set each sample mean to 0\n",
        "        featurewise_std_normalization=False,  # divide inputs by std of the dataset\n",
        "        samplewise_std_normalization=False,  # divide each input by its std\n",
        "        zca_whitening=False,  # apply ZCA whitening\n",
        "        zca_epsilon=1e-06,  # epsilon for ZCA whitening\n",
        "        rotation_range=0,  # randomly rotate images in the range (degrees, 0 to 180)\n",
        "        # randomly shift images horizontally (fraction of total width)\n",
        "        width_shift_range=0.1,\n",
        "        # randomly shift images vertically (fraction of total height)\n",
        "        height_shift_range=0.1,\n",
        "        shear_range=0.,  # set range for random shear\n",
        "        zoom_range=0.,  # set range for random zoom\n",
        "        channel_shift_range=0.,  # set range for random channel shifts\n",
        "        # set mode for filling points outside the input boundaries\n",
        "        fill_mode='nearest',\n",
        "        cval=0.,  # value used for fill_mode = \"constant\"\n",
        "        horizontal_flip=True,  # randomly flip images\n",
        "        vertical_flip=False,  # randomly flip images\n",
        "        # set rescaling factor (applied before any other transformation)\n",
        "        rescale=None,\n",
        "        # set function that will be applied on each input\n",
        "        preprocessing_function=None,\n",
        "        # image data format, either \"channels_first\" or \"channels_last\"\n",
        "        data_format=None,\n",
        "        # fraction of images reserved for validation (strictly between 0 and 1)\n",
        "        validation_split=0.0)\n",
        "\n",
        "    # Compute quantities required for feature-wise normalization\n",
        "    # (std, mean, and principal components if ZCA whitening is applied).\n",
        "    datagen.fit(x_train)\n",
        "\n",
        "    model.fit_generator(datagen.flow(x_train, y_train,\n",
        "                                     batch_size=batch_size),\n",
        "                        epochs=epochs,\n",
        "                        validation_data=(x_test, y_test),\n",
        "                        workers=4)"
      ],
      "execution_count": 20,
      "outputs": [
        {
          "output_type": "stream",
          "text": [
            "Not using data augmentation.\n",
            "Train on 10000 samples, validate on 3000 samples\n",
            "Epoch 1/5\n",
            "10000/10000 [==============================] - 112s 11ms/step - loss: 3.2698 - accuracy: 0.0784 - val_loss: 3.1987 - val_accuracy: 0.0930\n",
            "Epoch 2/5\n",
            "10000/10000 [==============================] - 111s 11ms/step - loss: 3.1534 - accuracy: 0.1104 - val_loss: 3.0395 - val_accuracy: 0.1467\n",
            "Epoch 3/5\n",
            "10000/10000 [==============================] - 111s 11ms/step - loss: 2.9839 - accuracy: 0.1553 - val_loss: 2.9229 - val_accuracy: 0.1797\n",
            "Epoch 4/5\n",
            "10000/10000 [==============================] - 111s 11ms/step - loss: 2.6256 - accuracy: 0.2471 - val_loss: 2.8042 - val_accuracy: 0.2087\n",
            "Epoch 5/5\n",
            "10000/10000 [==============================] - 111s 11ms/step - loss: 1.9038 - accuracy: 0.4487 - val_loss: 2.9074 - val_accuracy: 0.2253\n"
          ],
          "name": "stdout"
        }
      ]
    },
    {
      "cell_type": "markdown",
      "metadata": {
        "id": "XVK2Hx5O8UV0",
        "colab_type": "text"
      },
      "source": [
        "## Results"
      ]
    },
    {
      "cell_type": "code",
      "metadata": {
        "id": "P_vcIKGS8XP3",
        "colab_type": "code",
        "outputId": "cc4cd977-2880-4ee0-a54a-e96dc0ea3be8",
        "colab": {
          "base_uri": "https://localhost:8080/",
          "height": 67
        }
      },
      "source": [
        "scores = model.evaluate(x_test, y_test, verbose=1)\n",
        "print('Test loss:', scores[0])\n",
        "print('Test accuracy:', scores[1])"
      ],
      "execution_count": 21,
      "outputs": [
        {
          "output_type": "stream",
          "text": [
            "3000/3000 [==============================] - 6s 2ms/step\n",
            "Test loss: 2.9073532123565675\n",
            "Test accuracy: 0.2253333330154419\n"
          ],
          "name": "stdout"
        }
      ]
    },
    {
      "cell_type": "markdown",
      "metadata": {
        "id": "4ql0PNrQ7Kll",
        "colab_type": "text"
      },
      "source": [
        "## Saving the model"
      ]
    },
    {
      "cell_type": "code",
      "metadata": {
        "id": "h_BSOxNR7Nws",
        "colab_type": "code",
        "outputId": "b65f23ea-e183-4881-8655-cb8f8a7a197e",
        "colab": {
          "base_uri": "https://localhost:8080/",
          "height": 50
        }
      },
      "source": [
        "# Save model and weights\n",
        "model.save(model_name)\n",
        "%cp /content/trained_model.h5 /gdrive/'My Drive'/ML/Hackerearth/Animal-classifier/\n",
        "%ls /gdrive/'My Drive'/ML/Hackerearth/Animal-classifier/"
      ],
      "execution_count": 22,
      "outputs": [
        {
          "output_type": "stream",
          "text": [
            "\u001b[0m\u001b[01;34malien_test\u001b[0m/  DLBeginnerorganized.zip  meta-data.zip   trained_model.h5\n",
            "data.zip     DLBeginner.zip           train_data.dat\n"
          ],
          "name": "stdout"
        }
      ]
    },
    {
      "cell_type": "markdown",
      "metadata": {
        "id": "4qtnM-uAq04P",
        "colab_type": "text"
      },
      "source": [
        "# Model Check"
      ]
    },
    {
      "cell_type": "markdown",
      "metadata": {
        "id": "fcRqT9_frkCs",
        "colab_type": "text"
      },
      "source": [
        "## Data Intake"
      ]
    },
    {
      "cell_type": "code",
      "metadata": {
        "id": "Tq0qw72ZrxxC",
        "colab_type": "code",
        "colab": {}
      },
      "source": [
        "def create_alientest_data():\n",
        "    alien_test = []\n",
        "    for i in os.listdir(test_path):\n",
        "        img_loc = test_path+ \"/\" + i\n",
        "        print(img_loc)\n",
        "        try:\n",
        "            img = cv2.imread(img_loc,cv2.IMREAD_GRAYSCALE)\n",
        "            img = cv2.resize(img, (IMG_SIZE,IMG_SIZE))\n",
        "            alien_test.append([np.array(img),np.array(\"NULL\")])\n",
        "        except:\n",
        "            print(\"Error at :\"+ img_loc)\n",
        "    return alien_test"
      ],
      "execution_count": 0,
      "outputs": []
    },
    {
      "cell_type": "markdown",
      "metadata": {
        "id": "oRLE4oEbr49l",
        "colab_type": "text"
      },
      "source": [
        "## Labelling"
      ]
    },
    {
      "cell_type": "code",
      "metadata": {
        "id": "mr_IC2Afr7Sa",
        "colab_type": "code",
        "colab": {}
      },
      "source": [
        "def labelling(result):\n",
        "  #print(result)\n",
        "  for i in range(result.shape[0]):\n",
        "    #print(i)\n",
        "    answer = 0\n",
        "    for j in range(result[i].shape[0]):\n",
        "      if(result[i][j]==1):\n",
        "        #print(answer)\n",
        "        if answer == 0:\n",
        "          print(\"antelope\")\n",
        "        elif answer == 1:\n",
        "          print(\"bat\")\n",
        "        elif answer == 2:\n",
        "          print(\"beaver\")\n",
        "        elif answer == 3:\n",
        "          print(\"bobcat\")\n",
        "        elif answer == 4:\n",
        "          print(\"buffalo\")\n",
        "        elif answer == 5:\n",
        "          print(\"chihuahua\")\n",
        "        elif answer == 6:\n",
        "          print(\"chimpanzee\")\n",
        "        elif answer == 7:\n",
        "          print(\"collie\")\n",
        "        elif answer == 8:\n",
        "          print(\"dalmatian\")\n",
        "        elif answer == 9:\n",
        "          print(\"germanshepherd\")\n",
        "        elif answer == 10:\n",
        "          print(\"grizzlybear\")\n",
        "        elif answer == 11:\n",
        "          print(\"hippopotamus\")\n",
        "        elif answer == 12:\n",
        "          print(\"horse\")\n",
        "        elif answer == 13:\n",
        "          print(\"killerwhale\")\n",
        "        elif answer == 14:\n",
        "          print(\"mole\")\n",
        "        elif answer == 15:\n",
        "          print(\"mouse\")\n",
        "        elif answer == 16:\n",
        "          print(\"otter\")\n",
        "        elif answer == 17:\n",
        "          print(\"ox\")\n",
        "        elif answer == 18:\n",
        "          print(\"persiancat\")\n",
        "        elif answer == 19:\n",
        "          print(\"raccoon\")\n",
        "        elif answer == 20:\n",
        "          print(\"rat\")\n",
        "        elif answer == 21:\n",
        "          print(\"rhinoceros\")\n",
        "        elif answer == 22:\n",
        "          print(\"seal\")\n",
        "        elif answer == 23:\n",
        "          print(\"siamesecat\")\n",
        "        elif answer == 24:\n",
        "          print(\"spidermonkey\")\n",
        "        elif answer == 25:\n",
        "          print(\"squirrel\")\n",
        "        elif answer == 26:\n",
        "          print(\"walrus\")\n",
        "        elif answer == 27:\n",
        "          print(\"weasel\")\n",
        "        elif answer == 28:\n",
        "          print(\"wolf\")\n",
        "        else:\n",
        "          print(\"Other\")\n",
        "      answer += 1"
      ],
      "execution_count": 0,
      "outputs": []
    },
    {
      "cell_type": "markdown",
      "metadata": {
        "id": "HkDFTwQtr-gS",
        "colab_type": "text"
      },
      "source": [
        "## Model Setup\n"
      ]
    },
    {
      "cell_type": "code",
      "metadata": {
        "id": "B5xdkS-rq4OY",
        "colab_type": "code",
        "colab": {}
      },
      "source": [
        "from keras.models import Sequential, load_model\n",
        "\n",
        "IMG_SIZE = 150\n",
        "\n",
        "model_path = 'trained_model.h5'\n",
        "model = load_model(model_path)\n",
        "test_path = '/gdrive/My Drive/ML/Hackerearth/Animal-classifier/alien_test'\n",
        "\n",
        "#opt = keras.optimizers.rmsprop(lr=0.0001, decay=1e-6)\n",
        "opt = keras.optimizers.Adam(0.0005, beta_1=0.9, beta_2=0.999, amsgrad=True)\n",
        "model.compile(loss='categorical_crossentropy',\n",
        "              optimizer=opt,\n",
        "              metrics=['accuracy'])"
      ],
      "execution_count": 0,
      "outputs": []
    },
    {
      "cell_type": "markdown",
      "metadata": {
        "id": "3LJ1nPmasCyy",
        "colab_type": "text"
      },
      "source": [
        "## Model.Predict"
      ]
    },
    {
      "cell_type": "code",
      "metadata": {
        "id": "_1_TfkCvrnP6",
        "colab_type": "code",
        "outputId": "90f23712-beab-4cec-e966-853737e53094",
        "colab": {
          "base_uri": "https://localhost:8080/",
          "height": 1000
        }
      },
      "source": [
        "train = create_alientest_data()\n",
        "x_train = np.array([i[0] for i in train]).reshape(-1,IMG_SIZE,IMG_SIZE,1)\n",
        "array = model.predict(x_train)\n",
        "labelling(array)"
      ],
      "execution_count": 26,
      "outputs": [
        {
          "output_type": "stream",
          "text": [
            "/gdrive/My Drive/ML/Hackerearth/Animal-classifier/alien_test/Img-4.jpg\n",
            "/gdrive/My Drive/ML/Hackerearth/Animal-classifier/alien_test/Img-13.jpg\n",
            "/gdrive/My Drive/ML/Hackerearth/Animal-classifier/alien_test/Img-41.jpg\n",
            "/gdrive/My Drive/ML/Hackerearth/Animal-classifier/alien_test/Img-17.jpg\n",
            "/gdrive/My Drive/ML/Hackerearth/Animal-classifier/alien_test/Img-8.jpg\n",
            "/gdrive/My Drive/ML/Hackerearth/Animal-classifier/alien_test/Img-20.jpg\n",
            "/gdrive/My Drive/ML/Hackerearth/Animal-classifier/alien_test/Img-47.jpg\n",
            "/gdrive/My Drive/ML/Hackerearth/Animal-classifier/alien_test/Img-22.jpg\n",
            "/gdrive/My Drive/ML/Hackerearth/Animal-classifier/alien_test/Img-44.jpg\n",
            "/gdrive/My Drive/ML/Hackerearth/Animal-classifier/alien_test/Img-23.jpg\n",
            "/gdrive/My Drive/ML/Hackerearth/Animal-classifier/alien_test/Img-27.jpg\n",
            "/gdrive/My Drive/ML/Hackerearth/Animal-classifier/alien_test/Img-45.jpg\n",
            "/gdrive/My Drive/ML/Hackerearth/Animal-classifier/alien_test/Img-46.jpg\n",
            "/gdrive/My Drive/ML/Hackerearth/Animal-classifier/alien_test/Img-38.jpg\n",
            "/gdrive/My Drive/ML/Hackerearth/Animal-classifier/alien_test/Img-21.jpg\n",
            "/gdrive/My Drive/ML/Hackerearth/Animal-classifier/alien_test/Img-2.jpg\n",
            "/gdrive/My Drive/ML/Hackerearth/Animal-classifier/alien_test/Img-40.jpg\n",
            "/gdrive/My Drive/ML/Hackerearth/Animal-classifier/alien_test/Img-34.jpg\n",
            "/gdrive/My Drive/ML/Hackerearth/Animal-classifier/alien_test/Img-12.jpg\n",
            "/gdrive/My Drive/ML/Hackerearth/Animal-classifier/alien_test/Img-28.jpg\n",
            "/gdrive/My Drive/ML/Hackerearth/Animal-classifier/alien_test/Img-32.jpg\n",
            "/gdrive/My Drive/ML/Hackerearth/Animal-classifier/alien_test/Img-42.jpg\n",
            "/gdrive/My Drive/ML/Hackerearth/Animal-classifier/alien_test/Img-37.jpg\n",
            "/gdrive/My Drive/ML/Hackerearth/Animal-classifier/alien_test/Img-30.jpg\n",
            "/gdrive/My Drive/ML/Hackerearth/Animal-classifier/alien_test/Img-36.jpg\n",
            "/gdrive/My Drive/ML/Hackerearth/Animal-classifier/alien_test/Img-6.jpg\n",
            "/gdrive/My Drive/ML/Hackerearth/Animal-classifier/alien_test/Img-48.jpg\n",
            "/gdrive/My Drive/ML/Hackerearth/Animal-classifier/alien_test/Img-43.jpg\n",
            "/gdrive/My Drive/ML/Hackerearth/Animal-classifier/alien_test/Img-5.jpg\n",
            "/gdrive/My Drive/ML/Hackerearth/Animal-classifier/alien_test/Img-50.jpg\n",
            "/gdrive/My Drive/ML/Hackerearth/Animal-classifier/alien_test/Img-29.jpg\n",
            "/gdrive/My Drive/ML/Hackerearth/Animal-classifier/alien_test/Img-19.jpg\n",
            "/gdrive/My Drive/ML/Hackerearth/Animal-classifier/alien_test/Img-24.jpg\n",
            "/gdrive/My Drive/ML/Hackerearth/Animal-classifier/alien_test/Img-25.jpg\n",
            "/gdrive/My Drive/ML/Hackerearth/Animal-classifier/alien_test/Img-16.jpg\n",
            "/gdrive/My Drive/ML/Hackerearth/Animal-classifier/alien_test/Img-31.jpg\n",
            "/gdrive/My Drive/ML/Hackerearth/Animal-classifier/alien_test/Img-35.jpg\n",
            "/gdrive/My Drive/ML/Hackerearth/Animal-classifier/alien_test/Img-49.jpg\n",
            "/gdrive/My Drive/ML/Hackerearth/Animal-classifier/alien_test/Img-33.jpg\n",
            "/gdrive/My Drive/ML/Hackerearth/Animal-classifier/alien_test/Img-10.jpg\n",
            "/gdrive/My Drive/ML/Hackerearth/Animal-classifier/alien_test/Img-1.jpg\n",
            "/gdrive/My Drive/ML/Hackerearth/Animal-classifier/alien_test/Img-26.jpg\n",
            "/gdrive/My Drive/ML/Hackerearth/Animal-classifier/alien_test/Img-9.jpg\n",
            "/gdrive/My Drive/ML/Hackerearth/Animal-classifier/alien_test/Img-15.jpg\n",
            "/gdrive/My Drive/ML/Hackerearth/Animal-classifier/alien_test/Img-14.jpg\n",
            "/gdrive/My Drive/ML/Hackerearth/Animal-classifier/alien_test/Img-3.jpg\n",
            "/gdrive/My Drive/ML/Hackerearth/Animal-classifier/alien_test/Img-7.jpg\n",
            "/gdrive/My Drive/ML/Hackerearth/Animal-classifier/alien_test/Img-18.jpg\n",
            "/gdrive/My Drive/ML/Hackerearth/Animal-classifier/alien_test/Img-11.jpg\n",
            "/gdrive/My Drive/ML/Hackerearth/Animal-classifier/alien_test/Img-39.jpg\n",
            "e\n",
            "ah\n",
            "ai\n",
            "U\n",
            "I\n",
            "ai\n",
            "ai\n",
            "ah\n",
            "U\n",
            "ai\n",
            "ai\n",
            "N\n",
            "ah\n",
            "U\n",
            "o\n",
            "U\n",
            "ai\n",
            "d\n",
            "g\n",
            "g\n",
            "ah\n",
            "e\n",
            "ah\n",
            "ai\n",
            "Dh\n",
            "ai\n",
            "ah\n",
            "ah\n",
            "ai\n",
            "I\n",
            "ai\n",
            "ai\n",
            "U\n",
            "g\n",
            "g\n",
            "ai\n",
            "Dh\n",
            "ah\n",
            "ai\n",
            "ru\n",
            "ai\n",
            "g\n",
            "ah\n",
            "ah\n",
            "g\n",
            "g\n",
            "ch\n",
            "N\n"
          ],
          "name": "stdout"
        }
      ]
    }
  ]
}