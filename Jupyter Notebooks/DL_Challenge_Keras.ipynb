{
  "nbformat": 4,
  "nbformat_minor": 0,
  "metadata": {
    "colab": {
      "name": "DL Challenge Keras.ipynb",
      "version": "0.3.2",
      "views": {},
      "default_view": {},
      "provenance": [],
      "collapsed_sections": []
    },
    "kernelspec": {
      "name": "python3",
      "display_name": "Python 3"
    },
    "accelerator": "GPU"
  },
  "cells": [
    {
      "metadata": {
        "id": "BzGWzDSvJuoH",
        "colab_type": "text"
      },
      "cell_type": "markdown",
      "source": [
        "**Prerequisites Installations**"
      ]
    },
    {
      "metadata": {
        "id": "51KvlR4sJvR-",
        "colab_type": "code",
        "colab": {
          "autoexec": {
            "startup": false,
            "wait_interval": 0
          },
          "base_uri": "https://localhost:8080/",
          "height": 538
        },
        "outputId": "bdeb7607-aa28-4686-a9d6-921fb61f40c2",
        "executionInfo": {
          "status": "ok",
          "timestamp": 1533620166559,
          "user_tz": -330,
          "elapsed": 11767,
          "user": {
            "displayName": "Prashant Piprotar",
            "photoUrl": "//lh4.googleusercontent.com/-hdNnmu6ZVpw/AAAAAAAAAAI/AAAAAAAAAXQ/Z0jSEmd2Fyk/s50-c-k-no/photo.jpg",
            "userId": "110207365728031633319"
          }
        }
      },
      "cell_type": "code",
      "source": [
        "!pip install keras\n",
        "!pip install opencv-python\n",
        "!pip install tqdm\n",
        "!pip install PyDrive"
      ],
      "execution_count": 1,
      "outputs": [
        {
          "output_type": "stream",
          "text": [
            "Requirement already satisfied: keras in /usr/local/lib/python3.6/dist-packages (2.1.6)\n",
            "Requirement already satisfied: scipy>=0.14 in /usr/local/lib/python3.6/dist-packages (from keras) (0.19.1)\n",
            "Requirement already satisfied: h5py in /usr/local/lib/python3.6/dist-packages (from keras) (2.8.0)\n",
            "Requirement already satisfied: pyyaml in /usr/local/lib/python3.6/dist-packages (from keras) (3.13)\n",
            "Requirement already satisfied: six>=1.9.0 in /usr/local/lib/python3.6/dist-packages (from keras) (1.11.0)\n",
            "Requirement already satisfied: numpy>=1.9.1 in /usr/local/lib/python3.6/dist-packages (from keras) (1.14.5)\n",
            "Requirement already satisfied: opencv-python in /usr/local/lib/python3.6/dist-packages (3.4.2.17)\n",
            "Requirement already satisfied: numpy>=1.11.3 in /usr/local/lib/python3.6/dist-packages (from opencv-python) (1.14.5)\n",
            "Collecting tqdm\n",
            "\u001b[?25l  Downloading https://files.pythonhosted.org/packages/7d/e6/19dfaff08fcbee7f3453e5b537e65a8364f1945f921a36d08be1e2ff3475/tqdm-4.24.0-py2.py3-none-any.whl (43kB)\n",
            "\u001b[K    100% |████████████████████████████████| 51kB 2.5MB/s \n",
            "\u001b[?25hInstalling collected packages: tqdm\n",
            "Successfully installed tqdm-4.24.0\n",
            "Collecting PyDrive\n",
            "\u001b[?25l  Downloading https://files.pythonhosted.org/packages/52/e0/0e64788e5dd58ce2d6934549676243dc69d982f198524be9b99e9c2a4fd5/PyDrive-1.3.1.tar.gz (987kB)\n",
            "\u001b[K    100% |████████████████████████████████| 993kB 8.3MB/s \n",
            "\u001b[?25hRequirement already satisfied: google-api-python-client>=1.2 in /usr/local/lib/python3.6/dist-packages (from PyDrive) (1.6.7)\n",
            "Requirement already satisfied: oauth2client>=4.0.0 in /usr/local/lib/python3.6/dist-packages (from PyDrive) (4.1.2)\n",
            "Requirement already satisfied: PyYAML>=3.0 in /usr/local/lib/python3.6/dist-packages (from PyDrive) (3.13)\n",
            "Requirement already satisfied: uritemplate<4dev,>=3.0.0 in /usr/local/lib/python3.6/dist-packages (from google-api-python-client>=1.2->PyDrive) (3.0.0)\n",
            "Requirement already satisfied: httplib2<1dev,>=0.9.2 in /usr/local/lib/python3.6/dist-packages (from google-api-python-client>=1.2->PyDrive) (0.11.3)\n",
            "Requirement already satisfied: six<2dev,>=1.6.1 in /usr/local/lib/python3.6/dist-packages (from google-api-python-client>=1.2->PyDrive) (1.11.0)\n",
            "Requirement already satisfied: pyasn1>=0.1.7 in /usr/local/lib/python3.6/dist-packages (from oauth2client>=4.0.0->PyDrive) (0.4.4)\n",
            "Requirement already satisfied: rsa>=3.1.4 in /usr/local/lib/python3.6/dist-packages (from oauth2client>=4.0.0->PyDrive) (3.4.2)\n",
            "Requirement already satisfied: pyasn1-modules>=0.0.5 in /usr/local/lib/python3.6/dist-packages (from oauth2client>=4.0.0->PyDrive) (0.2.2)\n",
            "Building wheels for collected packages: PyDrive\n",
            "  Running setup.py bdist_wheel for PyDrive ... \u001b[?25l-\b \b\\\b \bdone\n",
            "\u001b[?25h  Stored in directory: /content/.cache/pip/wheels/fa/d2/9a/d3b6b506c2da98289e5d417215ce34b696db856643bad779f4\n",
            "Successfully built PyDrive\n",
            "Installing collected packages: PyDrive\n",
            "Successfully installed PyDrive-1.3.1\n"
          ],
          "name": "stdout"
        }
      ]
    },
    {
      "metadata": {
        "id": "opxfs5kuOSu9",
        "colab_type": "text"
      },
      "cell_type": "markdown",
      "source": [
        "**Header Imports**"
      ]
    },
    {
      "metadata": {
        "id": "lKJEg9YyOUVM",
        "colab_type": "code",
        "colab": {
          "autoexec": {
            "startup": false,
            "wait_interval": 0
          },
          "base_uri": "https://localhost:8080/",
          "height": 34
        },
        "outputId": "98013617-20f1-4f3f-b01e-438dd5799490",
        "executionInfo": {
          "status": "ok",
          "timestamp": 1533620176257,
          "user_tz": -330,
          "elapsed": 9616,
          "user": {
            "displayName": "Prashant Piprotar",
            "photoUrl": "//lh4.googleusercontent.com/-hdNnmu6ZVpw/AAAAAAAAAAI/AAAAAAAAAXQ/Z0jSEmd2Fyk/s50-c-k-no/photo.jpg",
            "userId": "110207365728031633319"
          }
        }
      },
      "cell_type": "code",
      "source": [
        "from __future__ import print_function\n",
        "import keras\n",
        "from keras.datasets import cifar10\n",
        "from keras.preprocessing.image import ImageDataGenerator\n",
        "from keras.models import Sequential\n",
        "from keras.layers import Dense, Dropout, Activation, Flatten\n",
        "from keras.layers import Conv2D, MaxPooling2D\n",
        "from keras.utils import to_categorical\n",
        "import os\n",
        "\n",
        "from google.colab import files\n",
        "\n",
        "from pydrive.auth import GoogleAuth\n",
        "from pydrive.drive import GoogleDrive\n",
        "from google.colab import auth\n",
        "from oauth2client.client import GoogleCredentials\n",
        "\n",
        "import cv2                 # working with, mainly resizing, images\n",
        "import numpy as np\n",
        "import os\n",
        "from random import shuffle # mixing up or currently ordered data that might lead our network astray in training\n",
        "from tqdm import tqdm      # a nice percentage bar ;)\n",
        "import zipfile             # To extract Dataset\n",
        "import pickle\n",
        "\n",
        "TRAIN_DIR = 'train'\n",
        "TEST_DIR = 'test'\n",
        "IMG_SIZE = 150\n",
        "LR = 1e-3\n",
        "\n",
        "MODEL_NAME = 'dlchallenge-{}-{}.model'.format(LR, '2conv-basic')\n",
        "\n",
        "batch_size = 32\n",
        "num_classes = 30\n",
        "epochs = 100\n",
        "data_augmentation = True\n",
        "num_predictions = 20\n",
        "save_dir = os.path.join(os.getcwd(), 'saved_models')\n",
        "model_name = 'keras_prashplus_trained_model.h5'"
      ],
      "execution_count": 2,
      "outputs": [
        {
          "output_type": "stream",
          "text": [
            "Using TensorFlow backend.\n"
          ],
          "name": "stderr"
        }
      ]
    },
    {
      "metadata": {
        "id": "2QIBysoSOcB9",
        "colab_type": "text"
      },
      "cell_type": "markdown",
      "source": [
        "**Data Download and Extraction**"
      ]
    },
    {
      "metadata": {
        "id": "Nbg7aQ3aOhk8",
        "colab_type": "code",
        "colab": {
          "autoexec": {
            "startup": false,
            "wait_interval": 0
          },
          "base_uri": "https://localhost:8080/",
          "height": 34
        },
        "outputId": "b24648c6-88b3-4e43-eb64-7be9c4dbf1d3",
        "executionInfo": {
          "status": "ok",
          "timestamp": 1533620232678,
          "user_tz": -330,
          "elapsed": 4417,
          "user": {
            "displayName": "Prashant Piprotar",
            "photoUrl": "//lh4.googleusercontent.com/-hdNnmu6ZVpw/AAAAAAAAAAI/AAAAAAAAAXQ/Z0jSEmd2Fyk/s50-c-k-no/photo.jpg",
            "userId": "110207365728031633319"
          }
        }
      },
      "cell_type": "code",
      "source": [
        "auth.authenticate_user()\n",
        "gauth = GoogleAuth()\n",
        "gauth.credentials = GoogleCredentials.get_application_default()\n",
        "drive = GoogleDrive(gauth)\n",
        "\n",
        "DRIVE_FILE_ID = '1Yzx5AeuNq7mo0AI3y1jf2SBi4gaZcFKE'\n",
        "\n",
        "fileId = drive.CreateFile({'id':DRIVE_FILE_ID})\n",
        "fileId.GetContentFile('train_data.dat')\n",
        "!ls"
      ],
      "execution_count": 3,
      "outputs": [
        {
          "output_type": "stream",
          "text": [
            "datalab  train_data.dat\r\n"
          ],
          "name": "stdout"
        }
      ]
    },
    {
      "metadata": {
        "id": "6uTvMQ9NOhz0",
        "colab_type": "text"
      },
      "cell_type": "markdown",
      "source": [
        "**Data Preprocessing**"
      ]
    },
    {
      "metadata": {
        "id": "v2YKdFHiOlel",
        "colab_type": "code",
        "colab": {
          "autoexec": {
            "startup": false,
            "wait_interval": 0
          }
        }
      },
      "cell_type": "code",
      "source": [
        "def label_img(img):\n",
        "    word_label = img.split('.')[0]\n",
        "    if word_label == 'antelope': return 0\n",
        "    elif word_label == 'bat': return 1\n",
        "    elif word_label == 'beaver': return 2\n",
        "    elif word_label == 'bobcat': return 3\n",
        "    elif word_label == 'buffalo': return 4\n",
        "    elif word_label == 'chihuahua': return 5\n",
        "    elif word_label == 'chimpanzee': return 6\n",
        "    elif word_label == 'collie': return 7\n",
        "    elif word_label == 'dalmatian': return 8\n",
        "    elif word_label == 'german+shepherd': return 9\n",
        "    elif word_label == 'grizzly+bear': return 10\n",
        "    elif word_label == 'hippopotamus': return 11\n",
        "    elif word_label == 'horse': return 12\n",
        "    elif word_label == 'killer+whale': return 13\n",
        "    elif word_label == 'mole': return 14\n",
        "    elif word_label == 'moose': return 15\n",
        "    elif word_label == 'mouse': return 16\n",
        "    elif word_label == 'otter': return 17\n",
        "    elif word_label == 'ox': return 18\n",
        "    elif word_label == 'persian+cat': return 19\n",
        "    elif word_label == 'raccoon': return 20\n",
        "    elif word_label == 'rat': return 21\n",
        "    elif word_label == 'rhinoceros': return 22\n",
        "    elif word_label == 'seal': return 23\n",
        "    elif word_label == 'siamese+cat': return 24\n",
        "    elif word_label == 'spider+monkey': return 25\n",
        "    elif word_label == 'squirrel': return 26\n",
        "    elif word_label == 'walrus': return 27\n",
        "    elif word_label == 'weasel': return 28\n",
        "    elif word_label == 'wolf': return 29\n",
        "\n",
        "\n",
        "def create_train_data():\n",
        "    training_data = []\n",
        "\n",
        "    if os.path.exists(\"train_data.dat\"):\n",
        "        file = open('train_data.dat', 'rb')\n",
        "        training_data = pickle.load(file)\n",
        "        file.close()\n",
        "        return training_data\n",
        "\n",
        "    img_count = 0\n",
        "    for img in tqdm(os.listdir(TRAIN_DIR)):\n",
        "        label = label_img(img)\n",
        "        path = os.path.join(TRAIN_DIR,img)\n",
        "        img = cv2.imread(path,cv2.IMREAD_GRAYSCALE)\n",
        "        img = cv2.resize(img, (IMG_SIZE,IMG_SIZE))\n",
        "        training_data.append([np.array(img),np.array(label)])\n",
        "        img_count += 1\n",
        "        #if img_count > 6000 : break\n",
        "\n",
        "    shuffle(training_data)\n",
        "\n",
        "    file = open('train_data.dat', 'wb')\n",
        "    pickle.dump(training_data, file)  \n",
        "    file.close()\n",
        "\n",
        "    return training_data\n",
        "\n",
        "train_data = create_train_data()\n",
        "\n",
        "#train_data = train_data[0:6000]\n",
        "#np.save('train_data_6000.npy', train_data)\n",
        "train = train_data[:-3000]\n",
        "test = train_data[-3000:]"
      ],
      "execution_count": 0,
      "outputs": []
    },
    {
      "metadata": {
        "id": "inh5czGOOtVF",
        "colab_type": "text"
      },
      "cell_type": "markdown",
      "source": [
        "**Data Split**"
      ]
    },
    {
      "metadata": {
        "id": "z_bhY-UcOvNE",
        "colab_type": "code",
        "colab": {
          "autoexec": {
            "startup": false,
            "wait_interval": 0
          },
          "base_uri": "https://localhost:8080/",
          "height": 171
        },
        "outputId": "6b6ccedf-7927-4f76-becd-bdd220299325",
        "executionInfo": {
          "status": "ok",
          "timestamp": 1533620236000,
          "user_tz": -330,
          "elapsed": 1395,
          "user": {
            "displayName": "Prashant Piprotar",
            "photoUrl": "//lh4.googleusercontent.com/-hdNnmu6ZVpw/AAAAAAAAAAI/AAAAAAAAAXQ/Z0jSEmd2Fyk/s50-c-k-no/photo.jpg",
            "userId": "110207365728031633319"
          }
        }
      },
      "cell_type": "code",
      "source": [
        "\n",
        "# Training Data\n",
        "x_train = np.array([i[0] for i in train]).reshape(-1,IMG_SIZE,IMG_SIZE,1)\n",
        "y_train = [i[1] for i in train]\n",
        "\n",
        "y_train = to_categorical(y_train,30)\n",
        "\n",
        "# Testing Data\n",
        "x_test = np.array([i[0] for i in test]).reshape(-1,IMG_SIZE,IMG_SIZE,1)\n",
        "\n",
        "y_test = [i[1] for i in test]\n",
        "print(y_test)\n",
        "y_test = to_categorical(y_test,30)\n",
        "print(y_test)"
      ],
      "execution_count": 5,
      "outputs": [
        {
          "output_type": "stream",
          "text": [
            "[array(15, dtype=int32), array(15, dtype=int32), array(17, dtype=int32), array(12, dtype=int32), array(3, dtype=int32), array(17, dtype=int32), array(6, dtype=int32), array(0, dtype=int32), array(14, dtype=int32), array(29, dtype=int32), array(11, dtype=int32), array(0, dtype=int32), array(3, dtype=int32), array(1, dtype=int32), array(6, dtype=int32), array(18, dtype=int32), array(14, dtype=int32), array(10, dtype=int32), array(15, dtype=int32), array(22, dtype=int32), array(17, dtype=int32), array(26, dtype=int32), array(11, dtype=int32), array(7, dtype=int32), array(15, dtype=int32), array(0, dtype=int32), array(12, dtype=int32), array(20, dtype=int32), array(12, dtype=int32), array(26, dtype=int32), array(11, dtype=int32), array(9, dtype=int32), array(17, dtype=int32), array(3, dtype=int32), array(7, dtype=int32), array(4, dtype=int32), array(29, dtype=int32), array(11, dtype=int32), array(20, dtype=int32), array(12, dtype=int32), array(6, dtype=int32), array(8, dtype=int32), array(23, dtype=int32), array(26, dtype=int32), array(28, dtype=int32), array(22, dtype=int32), array(26, dtype=int32), array(7, dtype=int32), array(26, dtype=int32), array(15, dtype=int32), array(4, dtype=int32), array(19, dtype=int32), array(0, dtype=int32), array(2, dtype=int32), array(24, dtype=int32), array(23, dtype=int32), array(4, dtype=int32), array(10, dtype=int32), array(26, dtype=int32), array(20, dtype=int32), array(9, dtype=int32), array(6, dtype=int32), array(0, dtype=int32), array(26, dtype=int32), array(29, dtype=int32), array(16, dtype=int32), array(5, dtype=int32), array(20, dtype=int32), array(29, dtype=int32), array(12, dtype=int32), array(22, dtype=int32), array(19, dtype=int32), array(20, dtype=int32), array(6, dtype=int32), array(23, dtype=int32), array(25, dtype=int32), array(12, dtype=int32), array(27, dtype=int32), array(12, dtype=int32), array(9, dtype=int32), array(29, dtype=int32), array(13, dtype=int32), array(22, dtype=int32), array(5, dtype=int32), array(5, dtype=int32), array(7, dtype=int32), array(15, dtype=int32), array(6, dtype=int32), array(18, dtype=int32), array(9, dtype=int32), array(13, dtype=int32), array(9, dtype=int32), array(12, dtype=int32), array(7, dtype=int32), array(12, dtype=int32), array(10, dtype=int32), array(3, dtype=int32), array(17, dtype=int32), array(15, dtype=int32), array(24, dtype=int32), array(9, dtype=int32), array(5, dtype=int32), array(18, dtype=int32), array(11, dtype=int32), array(22, dtype=int32), array(9, dtype=int32), array(7, dtype=int32), array(13, dtype=int32), array(28, dtype=int32), array(23, dtype=int32), array(12, dtype=int32), array(26, dtype=int32), array(7, dtype=int32), array(28, dtype=int32), array(5, dtype=int32), array(11, dtype=int32), array(20, dtype=int32), array(12, dtype=int32), array(29, dtype=int32), array(15, dtype=int32), array(26, dtype=int32), array(6, dtype=int32), array(18, dtype=int32), array(10, dtype=int32), array(11, dtype=int32), array(1, dtype=int32), array(26, dtype=int32), array(27, dtype=int32), array(15, dtype=int32), array(29, dtype=int32), array(4, dtype=int32), array(20, dtype=int32), array(19, dtype=int32), array(3, dtype=int32), array(7, dtype=int32), array(22, dtype=int32), array(28, dtype=int32), array(26, dtype=int32), array(28, dtype=int32), array(15, dtype=int32), array(5, dtype=int32), array(11, dtype=int32), array(29, dtype=int32), array(24, dtype=int32), array(8, dtype=int32), array(0, dtype=int32), array(15, dtype=int32), array(10, dtype=int32), array(16, dtype=int32), array(3, dtype=int32), array(15, dtype=int32), array(8, dtype=int32), array(1, dtype=int32), array(5, dtype=int32), array(22, dtype=int32), array(2, dtype=int32), array(12, dtype=int32), array(16, dtype=int32), array(27, dtype=int32), array(18, dtype=int32), array(22, dtype=int32), array(22, dtype=int32), array(10, dtype=int32), array(9, dtype=int32), array(2, dtype=int32), array(0, dtype=int32), array(9, dtype=int32), array(19, dtype=int32), array(28, dtype=int32), array(10, dtype=int32), array(19, dtype=int32), array(16, dtype=int32), array(26, dtype=int32), array(19, dtype=int32), array(26, dtype=int32), array(0, dtype=int32), array(10, dtype=int32), array(11, dtype=int32), array(9, dtype=int32), array(13, dtype=int32), array(0, dtype=int32), array(10, dtype=int32), array(4, dtype=int32), array(1, dtype=int32), array(22, dtype=int32), array(16, dtype=int32), array(26, dtype=int32), array(24, dtype=int32), array(21, dtype=int32), array(20, dtype=int32), array(29, dtype=int32), array(0, dtype=int32), array(23, dtype=int32), array(29, dtype=int32), array(17, dtype=int32), array(0, dtype=int32), array(10, dtype=int32), array(5, dtype=int32), array(5, dtype=int32), array(28, dtype=int32), array(26, dtype=int32), array(18, dtype=int32), array(10, dtype=int32), array(5, dtype=int32), array(23, dtype=int32), array(15, dtype=int32), array(23, dtype=int32), array(8, dtype=int32), array(28, dtype=int32), array(5, dtype=int32), array(19, dtype=int32), array(17, dtype=int32), array(10, dtype=int32), array(24, dtype=int32), array(21, dtype=int32), array(6, dtype=int32), array(0, dtype=int32), array(26, dtype=int32), array(3, dtype=int32), array(5, dtype=int32), array(0, dtype=int32), array(12, dtype=int32), array(12, dtype=int32), array(23, dtype=int32), array(6, dtype=int32), array(28, dtype=int32), array(6, dtype=int32), array(26, dtype=int32), array(10, dtype=int32), array(18, dtype=int32), array(23, dtype=int32), array(17, dtype=int32), array(19, dtype=int32), array(26, dtype=int32), array(5, dtype=int32), array(1, dtype=int32), array(24, dtype=int32), array(23, dtype=int32), array(29, dtype=int32), array(11, dtype=int32), array(17, dtype=int32), array(2, dtype=int32), array(11, dtype=int32), array(19, dtype=int32), array(28, dtype=int32), array(24, dtype=int32), array(22, dtype=int32), array(9, dtype=int32), array(1, dtype=int32), array(3, dtype=int32), array(24, dtype=int32), array(19, dtype=int32), array(26, dtype=int32), array(26, dtype=int32), array(12, dtype=int32), array(12, dtype=int32), array(0, dtype=int32), array(0, dtype=int32), array(7, dtype=int32), array(24, dtype=int32), array(23, dtype=int32), array(7, dtype=int32), array(24, dtype=int32), array(26, dtype=int32), array(26, dtype=int32), array(21, dtype=int32), array(1, dtype=int32), array(12, dtype=int32), array(5, dtype=int32), array(22, dtype=int32), array(22, dtype=int32), array(26, dtype=int32), array(22, dtype=int32), array(19, dtype=int32), array(23, dtype=int32), array(12, dtype=int32), array(7, dtype=int32), array(9, dtype=int32), array(23, dtype=int32), array(0, dtype=int32), array(29, dtype=int32), array(7, dtype=int32), array(10, dtype=int32), array(9, dtype=int32), array(3, dtype=int32), array(5, dtype=int32), array(18, dtype=int32), array(27, dtype=int32), array(10, dtype=int32), array(15, dtype=int32), array(20, dtype=int32), array(25, dtype=int32), array(7, dtype=int32), array(0, dtype=int32), array(12, dtype=int32), array(12, dtype=int32), array(20, dtype=int32), array(1, dtype=int32), array(29, dtype=int32), array(12, dtype=int32), array(20, dtype=int32), array(9, dtype=int32), array(18, dtype=int32), array(1, dtype=int32), array(0, dtype=int32), array(26, dtype=int32), array(0, dtype=int32), array(7, dtype=int32), array(3, dtype=int32), array(21, dtype=int32), array(17, dtype=int32), array(15, dtype=int32), array(26, dtype=int32), array(12, dtype=int32), array(10, dtype=int32), array(10, dtype=int32), array(0, dtype=int32), array(26, dtype=int32), array(4, dtype=int32), array(4, dtype=int32), array(19, dtype=int32), array(17, dtype=int32), array(19, dtype=int32), array(0, dtype=int32), array(12, dtype=int32), array(18, dtype=int32), array(18, dtype=int32), array(6, dtype=int32), array(10, dtype=int32), array(17, dtype=int32), array(25, dtype=int32), array(9, dtype=int32), array(9, dtype=int32), array(4, dtype=int32), array(5, dtype=int32), array(3, dtype=int32), array(15, dtype=int32), array(25, dtype=int32), array(17, dtype=int32), array(9, dtype=int32), array(25, dtype=int32), array(23, dtype=int32), array(7, dtype=int32), array(17, dtype=int32), array(23, dtype=int32), array(19, dtype=int32), array(15, dtype=int32), array(15, dtype=int32), array(12, dtype=int32), array(9, dtype=int32), array(11, dtype=int32), array(4, dtype=int32), array(4, dtype=int32), array(6, dtype=int32), array(6, dtype=int32), array(26, dtype=int32), array(15, dtype=int32), array(13, dtype=int32), array(12, dtype=int32), array(9, dtype=int32), array(12, dtype=int32), array(19, dtype=int32), array(19, dtype=int32), array(5, dtype=int32), array(21, dtype=int32), array(3, dtype=int32), array(29, dtype=int32), array(29, dtype=int32), array(23, dtype=int32), array(26, dtype=int32), array(15, dtype=int32), array(9, dtype=int32), array(22, dtype=int32), array(10, dtype=int32), array(12, dtype=int32), array(9, dtype=int32), array(17, dtype=int32), array(29, dtype=int32), array(29, dtype=int32), array(12, dtype=int32), array(13, dtype=int32), array(7, dtype=int32), array(24, dtype=int32), array(19, dtype=int32), array(12, dtype=int32), array(17, dtype=int32), array(8, dtype=int32), array(12, dtype=int32), array(12, dtype=int32), array(4, dtype=int32), array(7, dtype=int32), array(17, dtype=int32), array(14, dtype=int32), array(9, dtype=int32), array(0, dtype=int32), array(17, dtype=int32), array(23, dtype=int32), array(22, dtype=int32), array(6, dtype=int32), array(16, dtype=int32), array(12, dtype=int32), array(9, dtype=int32), array(19, dtype=int32), array(23, dtype=int32), array(15, dtype=int32), array(27, dtype=int32), array(28, dtype=int32), array(6, dtype=int32), array(15, dtype=int32), array(17, dtype=int32), array(9, dtype=int32), array(4, dtype=int32), array(1, dtype=int32), array(20, dtype=int32), array(5, dtype=int32), array(7, dtype=int32), array(4, dtype=int32), array(20, dtype=int32), array(27, dtype=int32), array(24, dtype=int32), array(29, dtype=int32), array(15, dtype=int32), array(12, dtype=int32), array(21, dtype=int32), array(20, dtype=int32), array(13, dtype=int32), array(22, dtype=int32), array(4, dtype=int32), array(6, dtype=int32), array(8, dtype=int32), array(16, dtype=int32), array(7, dtype=int32), array(6, dtype=int32), array(10, dtype=int32), array(17, dtype=int32), array(27, dtype=int32), array(19, dtype=int32), array(12, dtype=int32), array(4, dtype=int32), array(9, dtype=int32), array(16, dtype=int32), array(17, dtype=int32), array(1, dtype=int32), array(26, dtype=int32), array(9, dtype=int32), array(4, dtype=int32), array(6, dtype=int32), array(13, dtype=int32), array(7, dtype=int32), array(21, dtype=int32), array(15, dtype=int32), array(23, dtype=int32), array(24, dtype=int32), array(17, dtype=int32), array(9, dtype=int32), array(24, dtype=int32), array(7, dtype=int32), array(12, dtype=int32), array(9, dtype=int32), array(19, dtype=int32), array(10, dtype=int32), array(5, dtype=int32), array(12, dtype=int32), array(19, dtype=int32), array(12, dtype=int32), array(4, dtype=int32), array(12, dtype=int32), array(9, dtype=int32), array(0, dtype=int32), array(16, dtype=int32), array(12, dtype=int32), array(0, dtype=int32), array(7, dtype=int32), array(7, dtype=int32), array(25, dtype=int32), array(21, dtype=int32), array(17, dtype=int32), array(19, dtype=int32), array(12, dtype=int32), array(28, dtype=int32), array(9, dtype=int32), array(15, dtype=int32), array(12, dtype=int32), array(27, dtype=int32), array(3, dtype=int32), array(20, dtype=int32), array(20, dtype=int32), array(23, dtype=int32), array(12, dtype=int32), array(29, dtype=int32), array(0, dtype=int32), array(7, dtype=int32), array(8, dtype=int32), array(8, dtype=int32), array(13, dtype=int32), array(10, dtype=int32), array(10, dtype=int32), array(16, dtype=int32), array(18, dtype=int32), array(6, dtype=int32), array(4, dtype=int32), array(17, dtype=int32), array(29, dtype=int32), array(28, dtype=int32), array(25, dtype=int32), array(12, dtype=int32), array(1, dtype=int32), array(15, dtype=int32), array(11, dtype=int32), array(4, dtype=int32), array(20, dtype=int32), array(7, dtype=int32), array(9, dtype=int32), array(8, dtype=int32), array(3, dtype=int32), array(5, dtype=int32), array(12, dtype=int32), array(12, dtype=int32), array(12, dtype=int32), array(4, dtype=int32), array(26, dtype=int32), array(7, dtype=int32), array(20, dtype=int32), array(23, dtype=int32), array(18, dtype=int32), array(23, dtype=int32), array(3, dtype=int32), array(26, dtype=int32), array(20, dtype=int32), array(26, dtype=int32), array(21, dtype=int32), array(10, dtype=int32), array(10, dtype=int32), array(5, dtype=int32), array(18, dtype=int32), array(18, dtype=int32), array(4, dtype=int32), array(23, dtype=int32), array(10, dtype=int32), array(17, dtype=int32), array(8, dtype=int32), array(19, dtype=int32), array(22, dtype=int32), array(18, dtype=int32), array(11, dtype=int32), array(22, dtype=int32), array(26, dtype=int32), array(0, dtype=int32), array(1, dtype=int32), array(23, dtype=int32), array(26, dtype=int32), array(18, dtype=int32), array(24, dtype=int32), array(9, dtype=int32), array(4, dtype=int32), array(23, dtype=int32), array(2, dtype=int32), array(26, dtype=int32), array(11, dtype=int32), array(17, dtype=int32), array(0, dtype=int32), array(12, dtype=int32), array(22, dtype=int32), array(7, dtype=int32), array(23, dtype=int32), array(17, dtype=int32), array(9, dtype=int32), array(10, dtype=int32), array(11, dtype=int32), array(22, dtype=int32), array(4, dtype=int32), array(9, dtype=int32), array(3, dtype=int32), array(26, dtype=int32), array(6, dtype=int32), array(22, dtype=int32), array(15, dtype=int32), array(18, dtype=int32), array(26, dtype=int32), array(0, dtype=int32), array(11, dtype=int32), array(29, dtype=int32), array(4, dtype=int32), array(12, dtype=int32), array(13, dtype=int32), array(9, dtype=int32), array(4, dtype=int32), array(11, dtype=int32), array(10, dtype=int32), array(23, dtype=int32), array(12, dtype=int32), array(24, dtype=int32), array(14, dtype=int32), array(4, dtype=int32), array(8, dtype=int32), array(23, dtype=int32), array(3, dtype=int32), array(8, dtype=int32), array(20, dtype=int32), array(17, dtype=int32), array(29, dtype=int32), array(22, dtype=int32), array(20, dtype=int32), array(11, dtype=int32), array(12, dtype=int32), array(2, dtype=int32), array(16, dtype=int32), array(15, dtype=int32), array(0, dtype=int32), array(5, dtype=int32), array(26, dtype=int32), array(12, dtype=int32), array(4, dtype=int32), array(12, dtype=int32), array(10, dtype=int32), array(12, dtype=int32), array(20, dtype=int32), array(9, dtype=int32), array(5, dtype=int32), array(3, dtype=int32), array(0, dtype=int32), array(11, dtype=int32), array(13, dtype=int32), array(8, dtype=int32), array(11, dtype=int32), array(7, dtype=int32), array(11, dtype=int32), array(7, dtype=int32), array(18, dtype=int32), array(15, dtype=int32), array(1, dtype=int32), array(9, dtype=int32), array(7, dtype=int32), array(1, dtype=int32), array(24, dtype=int32), array(12, dtype=int32), array(3, dtype=int32), array(4, dtype=int32), array(25, dtype=int32), array(12, dtype=int32), array(21, dtype=int32), array(26, dtype=int32), array(17, dtype=int32), array(7, dtype=int32), array(9, dtype=int32), array(15, dtype=int32), array(5, dtype=int32), array(22, dtype=int32), array(20, dtype=int32), array(9, dtype=int32), array(16, dtype=int32), array(23, dtype=int32), array(11, dtype=int32), array(26, dtype=int32), array(11, dtype=int32), array(15, dtype=int32), array(18, dtype=int32), array(25, dtype=int32), array(26, dtype=int32), array(26, dtype=int32), array(1, dtype=int32), array(6, dtype=int32), array(10, dtype=int32), array(26, dtype=int32), array(17, dtype=int32), array(6, dtype=int32), array(22, dtype=int32), array(11, dtype=int32), array(6, dtype=int32), array(17, dtype=int32), array(23, dtype=int32), array(12, dtype=int32), array(4, dtype=int32), array(10, dtype=int32), array(23, dtype=int32), array(15, dtype=int32), array(17, dtype=int32), array(12, dtype=int32), array(0, dtype=int32), array(12, dtype=int32), array(15, dtype=int32), array(3, dtype=int32), array(10, dtype=int32), array(29, dtype=int32), array(12, dtype=int32), array(3, dtype=int32), array(15, dtype=int32), array(23, dtype=int32), array(29, dtype=int32), array(20, dtype=int32), array(0, dtype=int32), array(17, dtype=int32), array(21, dtype=int32), array(12, dtype=int32), array(6, dtype=int32), array(22, dtype=int32), array(23, dtype=int32), array(3, dtype=int32), array(6, dtype=int32), array(18, dtype=int32), array(15, dtype=int32), array(3, dtype=int32), array(9, dtype=int32), array(0, dtype=int32), array(18, dtype=int32), array(15, dtype=int32), array(17, dtype=int32), array(7, dtype=int32), array(17, dtype=int32), array(10, dtype=int32), array(22, dtype=int32), array(19, dtype=int32), array(26, dtype=int32), array(5, dtype=int32), array(23, dtype=int32), array(18, dtype=int32), array(8, dtype=int32), array(16, dtype=int32), array(9, dtype=int32), array(12, dtype=int32), array(17, dtype=int32), array(11, dtype=int32), array(3, dtype=int32), array(22, dtype=int32), array(16, dtype=int32), array(26, dtype=int32), array(0, dtype=int32), array(0, dtype=int32), array(26, dtype=int32), array(10, dtype=int32), array(17, dtype=int32), array(22, dtype=int32), array(4, dtype=int32), array(23, dtype=int32), array(11, dtype=int32), array(26, dtype=int32), array(24, dtype=int32), array(6, dtype=int32), array(11, dtype=int32), array(15, dtype=int32), array(0, dtype=int32), array(6, dtype=int32), array(4, dtype=int32), array(21, dtype=int32), array(15, dtype=int32), array(9, dtype=int32), array(11, dtype=int32), array(9, dtype=int32), array(17, dtype=int32), array(3, dtype=int32), array(17, dtype=int32), array(11, dtype=int32), array(6, dtype=int32), array(12, dtype=int32), array(14, dtype=int32), array(3, dtype=int32), array(21, dtype=int32), array(8, dtype=int32), array(4, dtype=int32), array(15, dtype=int32), array(9, dtype=int32), array(27, dtype=int32), array(12, dtype=int32), array(9, dtype=int32), array(2, dtype=int32), array(8, dtype=int32), array(18, dtype=int32), array(18, dtype=int32), array(20, dtype=int32), array(23, dtype=int32), array(17, dtype=int32), array(7, dtype=int32), array(0, dtype=int32), array(5, dtype=int32), array(9, dtype=int32), array(15, dtype=int32), array(8, dtype=int32), array(7, dtype=int32), array(11, dtype=int32), array(23, dtype=int32), array(7, dtype=int32), array(26, dtype=int32), array(23, dtype=int32), array(9, dtype=int32), array(12, dtype=int32), array(22, dtype=int32), array(0, dtype=int32), array(3, dtype=int32), array(12, dtype=int32), array(19, dtype=int32), array(12, dtype=int32), array(27, dtype=int32), array(22, dtype=int32), array(9, dtype=int32), array(9, dtype=int32), array(23, dtype=int32), array(16, dtype=int32), array(6, dtype=int32), array(22, dtype=int32), array(23, dtype=int32), array(18, dtype=int32), array(13, dtype=int32), array(3, dtype=int32), array(9, dtype=int32), array(9, dtype=int32), array(4, dtype=int32), array(26, dtype=int32), array(5, dtype=int32), array(15, dtype=int32), array(23, dtype=int32), array(24, dtype=int32), array(17, dtype=int32), array(18, dtype=int32), array(29, dtype=int32), array(22, dtype=int32), array(16, dtype=int32), array(6, dtype=int32), array(28, dtype=int32), array(17, dtype=int32), array(22, dtype=int32), array(22, dtype=int32), array(11, dtype=int32), array(0, dtype=int32), array(20, dtype=int32), array(12, dtype=int32), array(12, dtype=int32), array(5, dtype=int32), array(12, dtype=int32), array(23, dtype=int32), array(20, dtype=int32), array(12, dtype=int32), array(10, dtype=int32), array(18, dtype=int32), array(18, dtype=int32), array(26, dtype=int32), array(8, dtype=int32), array(23, dtype=int32), array(4, dtype=int32), array(15, dtype=int32), array(18, dtype=int32), array(24, dtype=int32), array(12, dtype=int32), array(29, dtype=int32), array(12, dtype=int32), array(19, dtype=int32), array(5, dtype=int32), array(13, dtype=int32), array(20, dtype=int32), array(9, dtype=int32), array(13, dtype=int32), array(26, dtype=int32), array(6, dtype=int32), array(18, dtype=int32), array(11, dtype=int32), array(9, dtype=int32), array(9, dtype=int32), array(26, dtype=int32), array(18, dtype=int32), array(23, dtype=int32), array(21, dtype=int32), array(17, dtype=int32), array(5, dtype=int32), array(17, dtype=int32), array(18, dtype=int32), array(5, dtype=int32), array(9, dtype=int32), array(3, dtype=int32), array(8, dtype=int32), array(19, dtype=int32), array(7, dtype=int32), array(11, dtype=int32), array(9, dtype=int32), array(26, dtype=int32), array(15, dtype=int32), array(9, dtype=int32), array(29, dtype=int32), array(17, dtype=int32), array(4, dtype=int32), array(0, dtype=int32), array(12, dtype=int32), array(11, dtype=int32), array(15, dtype=int32), array(7, dtype=int32), array(19, dtype=int32), array(0, dtype=int32), array(5, dtype=int32), array(29, dtype=int32), array(20, dtype=int32), array(25, dtype=int32), array(4, dtype=int32), array(9, dtype=int32), array(27, dtype=int32), array(29, dtype=int32), array(12, dtype=int32), array(20, dtype=int32), array(15, dtype=int32), array(11, dtype=int32), array(12, dtype=int32), array(23, dtype=int32), array(27, dtype=int32), array(16, dtype=int32), array(6, dtype=int32), array(13, dtype=int32), array(4, dtype=int32), array(24, dtype=int32), array(13, dtype=int32), array(29, dtype=int32), array(11, dtype=int32), array(19, dtype=int32), array(17, dtype=int32), array(0, dtype=int32), array(6, dtype=int32), array(12, dtype=int32), array(25, dtype=int32), array(12, dtype=int32), array(15, dtype=int32), array(11, dtype=int32), array(7, dtype=int32), array(9, dtype=int32), array(0, dtype=int32), array(4, dtype=int32), array(5, dtype=int32), array(21, dtype=int32), array(5, dtype=int32), array(28, dtype=int32), array(8, dtype=int32), array(9, dtype=int32), array(28, dtype=int32), array(19, dtype=int32), array(11, dtype=int32), array(26, dtype=int32), array(6, dtype=int32), array(18, dtype=int32), array(8, dtype=int32), array(22, dtype=int32), array(26, dtype=int32), array(1, dtype=int32), array(18, dtype=int32), array(3, dtype=int32), array(22, dtype=int32), array(2, dtype=int32), array(26, dtype=int32), array(10, dtype=int32), array(29, dtype=int32), array(0, dtype=int32), array(21, dtype=int32), array(23, dtype=int32), array(24, dtype=int32), array(22, dtype=int32), array(7, dtype=int32), array(29, dtype=int32), array(12, dtype=int32), array(11, dtype=int32), array(9, dtype=int32), array(22, dtype=int32), array(25, dtype=int32), array(12, dtype=int32), array(27, dtype=int32), array(23, dtype=int32), array(9, dtype=int32), array(23, dtype=int32), array(12, dtype=int32), array(23, dtype=int32), array(5, dtype=int32), array(19, dtype=int32), array(1, dtype=int32), array(0, dtype=int32), array(15, dtype=int32), array(26, dtype=int32), array(0, dtype=int32), array(0, dtype=int32), array(9, dtype=int32), array(26, dtype=int32), array(12, dtype=int32), array(17, dtype=int32), array(12, dtype=int32), array(11, dtype=int32), array(26, dtype=int32), array(15, dtype=int32), array(20, dtype=int32), array(5, dtype=int32), array(18, dtype=int32), array(26, dtype=int32), array(10, dtype=int32), array(29, dtype=int32), array(26, dtype=int32), array(25, dtype=int32), array(19, dtype=int32), array(25, dtype=int32), array(15, dtype=int32), array(3, dtype=int32), array(15, dtype=int32), array(0, dtype=int32), array(28, dtype=int32), array(2, dtype=int32), array(22, dtype=int32), array(4, dtype=int32), array(21, dtype=int32), array(11, dtype=int32), array(1, dtype=int32), array(1, dtype=int32), array(24, dtype=int32), array(20, dtype=int32), array(9, dtype=int32), array(4, dtype=int32), array(12, dtype=int32), array(23, dtype=int32), array(11, dtype=int32), array(9, dtype=int32), array(7, dtype=int32), array(11, dtype=int32), array(29, dtype=int32), array(12, dtype=int32), array(13, dtype=int32), array(21, dtype=int32), array(19, dtype=int32), array(23, dtype=int32), array(7, dtype=int32), array(12, dtype=int32), array(28, dtype=int32), array(23, dtype=int32), array(26, dtype=int32), array(17, dtype=int32), array(12, dtype=int32), array(12, dtype=int32), array(18, dtype=int32), array(15, dtype=int32), array(9, dtype=int32), array(10, dtype=int32), array(5, dtype=int32), array(15, dtype=int32), array(12, dtype=int32), array(18, dtype=int32), array(0, dtype=int32), array(4, dtype=int32), array(26, dtype=int32), array(3, dtype=int32), array(19, dtype=int32), array(5, dtype=int32), array(29, dtype=int32), array(23, dtype=int32), array(26, dtype=int32), array(23, dtype=int32), array(9, dtype=int32), array(6, dtype=int32), array(0, dtype=int32), array(17, dtype=int32), array(28, dtype=int32), array(18, dtype=int32), array(4, dtype=int32), array(2, dtype=int32), array(29, dtype=int32), array(21, dtype=int32), array(9, dtype=int32), array(26, dtype=int32), array(5, dtype=int32), array(18, dtype=int32), array(17, dtype=int32), array(7, dtype=int32), array(10, dtype=int32), array(23, dtype=int32), array(24, dtype=int32), array(0, dtype=int32), array(8, dtype=int32), array(11, dtype=int32), array(20, dtype=int32), array(9, dtype=int32), array(26, dtype=int32), array(24, dtype=int32), array(8, dtype=int32), array(5, dtype=int32), array(5, dtype=int32), array(12, dtype=int32), array(18, dtype=int32), array(17, dtype=int32), array(8, dtype=int32), array(3, dtype=int32), array(10, dtype=int32), array(18, dtype=int32), array(11, dtype=int32), array(19, dtype=int32), array(7, dtype=int32), array(24, dtype=int32), array(7, dtype=int32), array(3, dtype=int32), array(8, dtype=int32), array(1, dtype=int32), array(7, dtype=int32), array(4, dtype=int32), array(25, dtype=int32), array(19, dtype=int32), array(8, dtype=int32), array(4, dtype=int32), array(17, dtype=int32), array(27, dtype=int32), array(10, dtype=int32), array(0, dtype=int32), array(24, dtype=int32), array(18, dtype=int32), array(19, dtype=int32), array(27, dtype=int32), array(12, dtype=int32), array(11, dtype=int32), array(12, dtype=int32), array(20, dtype=int32), array(23, dtype=int32), array(10, dtype=int32), array(26, dtype=int32), array(12, dtype=int32), array(13, dtype=int32), array(11, dtype=int32), array(19, dtype=int32), array(6, dtype=int32), array(7, dtype=int32), array(23, dtype=int32), array(18, dtype=int32), array(10, dtype=int32), array(26, dtype=int32), array(19, dtype=int32), array(12, dtype=int32), array(19, dtype=int32), array(6, dtype=int32), array(1, dtype=int32), array(7, dtype=int32), array(20, dtype=int32), array(29, dtype=int32), array(12, dtype=int32), array(21, dtype=int32), array(7, dtype=int32), array(7, dtype=int32), array(4, dtype=int32), array(26, dtype=int32), array(23, dtype=int32), array(11, dtype=int32), array(0, dtype=int32), array(8, dtype=int32), array(10, dtype=int32), array(24, dtype=int32), array(12, dtype=int32), array(22, dtype=int32), array(3, dtype=int32), array(19, dtype=int32), array(26, dtype=int32), array(7, dtype=int32), array(22, dtype=int32), array(0, dtype=int32), array(25, dtype=int32), array(13, dtype=int32), array(26, dtype=int32), array(12, dtype=int32), array(12, dtype=int32), array(10, dtype=int32), array(11, dtype=int32), array(22, dtype=int32), array(12, dtype=int32), array(29, dtype=int32), array(5, dtype=int32), array(18, dtype=int32), array(20, dtype=int32), array(13, dtype=int32), array(20, dtype=int32), array(23, dtype=int32), array(19, dtype=int32), array(26, dtype=int32), array(12, dtype=int32), array(0, dtype=int32), array(18, dtype=int32), array(7, dtype=int32), array(19, dtype=int32), array(0, dtype=int32), array(12, dtype=int32), array(8, dtype=int32), array(5, dtype=int32), array(18, dtype=int32), array(12, dtype=int32), array(4, dtype=int32), array(12, dtype=int32), array(3, dtype=int32), array(7, dtype=int32), array(15, dtype=int32), array(9, dtype=int32), array(20, dtype=int32), array(11, dtype=int32), array(12, dtype=int32), array(6, dtype=int32), array(3, dtype=int32), array(29, dtype=int32), array(8, dtype=int32), array(15, dtype=int32), array(11, dtype=int32), array(25, dtype=int32), array(23, dtype=int32), array(26, dtype=int32), array(11, dtype=int32), array(17, dtype=int32), array(4, dtype=int32), array(26, dtype=int32), array(1, dtype=int32), array(22, dtype=int32), array(12, dtype=int32), array(5, dtype=int32), array(7, dtype=int32), array(23, dtype=int32), array(0, dtype=int32), array(0, dtype=int32), array(9, dtype=int32), array(12, dtype=int32), array(19, dtype=int32), array(8, dtype=int32), array(12, dtype=int32), array(12, dtype=int32), array(0, dtype=int32), array(10, dtype=int32), array(23, dtype=int32), array(19, dtype=int32), array(12, dtype=int32), array(6, dtype=int32), array(11, dtype=int32), array(12, dtype=int32), array(11, dtype=int32), array(17, dtype=int32), array(15, dtype=int32), array(9, dtype=int32), array(22, dtype=int32), array(27, dtype=int32), array(0, dtype=int32), array(21, dtype=int32), array(12, dtype=int32), array(0, dtype=int32), array(10, dtype=int32), array(15, dtype=int32), array(17, dtype=int32), array(10, dtype=int32), array(4, dtype=int32), array(26, dtype=int32), array(8, dtype=int32), array(7, dtype=int32), array(7, dtype=int32), array(9, dtype=int32), array(23, dtype=int32), array(22, dtype=int32), array(12, dtype=int32), array(5, dtype=int32), array(29, dtype=int32), array(26, dtype=int32), array(18, dtype=int32), array(29, dtype=int32), array(0, dtype=int32), array(22, dtype=int32), array(0, dtype=int32), array(4, dtype=int32), array(9, dtype=int32), array(26, dtype=int32), array(4, dtype=int32), array(17, dtype=int32), array(0, dtype=int32), array(17, dtype=int32), array(17, dtype=int32), array(3, dtype=int32), array(22, dtype=int32), array(23, dtype=int32), array(23, dtype=int32), array(18, dtype=int32), array(28, dtype=int32), array(7, dtype=int32), array(25, dtype=int32), array(9, dtype=int32), array(25, dtype=int32), array(10, dtype=int32), array(16, dtype=int32), array(20, dtype=int32), array(6, dtype=int32), array(23, dtype=int32), array(5, dtype=int32), array(28, dtype=int32), array(26, dtype=int32), array(25, dtype=int32), array(4, dtype=int32), array(4, dtype=int32), array(10, dtype=int32), array(13, dtype=int32), array(29, dtype=int32), array(15, dtype=int32), array(19, dtype=int32), array(2, dtype=int32), array(24, dtype=int32), array(26, dtype=int32), array(10, dtype=int32), array(28, dtype=int32), array(15, dtype=int32), array(3, dtype=int32), array(12, dtype=int32), array(5, dtype=int32), array(0, dtype=int32), array(23, dtype=int32), array(3, dtype=int32), array(27, dtype=int32), array(7, dtype=int32), array(9, dtype=int32), array(22, dtype=int32), array(21, dtype=int32), array(24, dtype=int32), array(18, dtype=int32), array(11, dtype=int32), array(17, dtype=int32), array(17, dtype=int32), array(26, dtype=int32), array(24, dtype=int32), array(2, dtype=int32), array(23, dtype=int32), array(6, dtype=int32), array(23, dtype=int32), array(11, dtype=int32), array(23, dtype=int32), array(10, dtype=int32), array(10, dtype=int32), array(3, dtype=int32), array(6, dtype=int32), array(12, dtype=int32), array(20, dtype=int32), array(10, dtype=int32), array(6, dtype=int32), array(7, dtype=int32), array(19, dtype=int32), array(0, dtype=int32), array(29, dtype=int32), array(9, dtype=int32), array(0, dtype=int32), array(5, dtype=int32), array(17, dtype=int32), array(23, dtype=int32), array(10, dtype=int32), array(9, dtype=int32), array(29, dtype=int32), array(0, dtype=int32), array(26, dtype=int32), array(14, dtype=int32), array(26, dtype=int32), array(7, dtype=int32), array(7, dtype=int32), array(12, dtype=int32), array(19, dtype=int32), array(23, dtype=int32), array(10, dtype=int32), array(4, dtype=int32), array(22, dtype=int32), array(11, dtype=int32), array(12, dtype=int32), array(4, dtype=int32), array(0, dtype=int32), array(24, dtype=int32), array(25, dtype=int32), array(15, dtype=int32), array(13, dtype=int32), array(21, dtype=int32), array(28, dtype=int32), array(23, dtype=int32), array(0, dtype=int32), array(10, dtype=int32), array(9, dtype=int32), array(1, dtype=int32), array(12, dtype=int32), array(7, dtype=int32), array(13, dtype=int32), array(10, dtype=int32), array(8, dtype=int32), array(11, dtype=int32), array(20, dtype=int32), array(3, dtype=int32), array(7, dtype=int32), array(12, dtype=int32), array(21, dtype=int32), array(13, dtype=int32), array(1, dtype=int32), array(26, dtype=int32), array(0, dtype=int32), array(29, dtype=int32), array(12, dtype=int32), array(25, dtype=int32), array(5, dtype=int32), array(22, dtype=int32), array(8, dtype=int32), array(12, dtype=int32), array(22, dtype=int32), array(9, dtype=int32), array(7, dtype=int32), array(8, dtype=int32), array(17, dtype=int32), array(22, dtype=int32), array(0, dtype=int32), array(12, dtype=int32), array(2, dtype=int32), array(9, dtype=int32), array(0, dtype=int32), array(25, dtype=int32), array(6, dtype=int32), array(20, dtype=int32), array(24, dtype=int32), array(10, dtype=int32), array(26, dtype=int32), array(10, dtype=int32), array(11, dtype=int32), array(26, dtype=int32), array(12, dtype=int32), array(7, dtype=int32), array(10, dtype=int32), array(26, dtype=int32), array(22, dtype=int32), array(4, dtype=int32), array(12, dtype=int32), array(22, dtype=int32), array(23, dtype=int32), array(15, dtype=int32), array(15, dtype=int32), array(7, dtype=int32), array(19, dtype=int32), array(3, dtype=int32), array(4, dtype=int32), array(12, dtype=int32), array(11, dtype=int32), array(6, dtype=int32), array(17, dtype=int32), array(29, dtype=int32), array(12, dtype=int32), array(4, dtype=int32), array(5, dtype=int32), array(0, dtype=int32), array(0, dtype=int32), array(9, dtype=int32), array(23, dtype=int32), array(20, dtype=int32), array(8, dtype=int32), array(29, dtype=int32), array(5, dtype=int32), array(28, dtype=int32), array(4, dtype=int32), array(12, dtype=int32), array(10, dtype=int32), array(23, dtype=int32), array(27, dtype=int32), array(29, dtype=int32), array(3, dtype=int32), array(15, dtype=int32), array(3, dtype=int32), array(4, dtype=int32), array(7, dtype=int32), array(18, dtype=int32), array(7, dtype=int32), array(10, dtype=int32), array(17, dtype=int32), array(6, dtype=int32), array(29, dtype=int32), array(12, dtype=int32), array(18, dtype=int32), array(0, dtype=int32), array(12, dtype=int32), array(26, dtype=int32), array(26, dtype=int32), array(15, dtype=int32), array(29, dtype=int32), array(18, dtype=int32), array(11, dtype=int32), array(12, dtype=int32), array(26, dtype=int32), array(26, dtype=int32), array(5, dtype=int32), array(19, dtype=int32), array(0, dtype=int32), array(23, dtype=int32), array(26, dtype=int32), array(19, dtype=int32), array(0, dtype=int32), array(10, dtype=int32), array(12, dtype=int32), array(12, dtype=int32), array(4, dtype=int32), array(22, dtype=int32), array(10, dtype=int32), array(24, dtype=int32), array(4, dtype=int32), array(10, dtype=int32), array(20, dtype=int32), array(8, dtype=int32), array(7, dtype=int32), array(12, dtype=int32), array(7, dtype=int32), array(0, dtype=int32), array(26, dtype=int32), array(26, dtype=int32), array(24, dtype=int32), array(7, dtype=int32), array(19, dtype=int32), array(21, dtype=int32), array(6, dtype=int32), array(12, dtype=int32), array(15, dtype=int32), array(17, dtype=int32), array(12, dtype=int32), array(3, dtype=int32), array(21, dtype=int32), array(0, dtype=int32), array(26, dtype=int32), array(0, dtype=int32), array(15, dtype=int32), array(22, dtype=int32), array(29, dtype=int32), array(26, dtype=int32), array(7, dtype=int32), array(7, dtype=int32), array(12, dtype=int32), array(24, dtype=int32), array(29, dtype=int32), array(15, dtype=int32), array(22, dtype=int32), array(24, dtype=int32), array(9, dtype=int32), array(18, dtype=int32), array(6, dtype=int32), array(15, dtype=int32), array(0, dtype=int32), array(6, dtype=int32), array(10, dtype=int32), array(8, dtype=int32), array(17, dtype=int32), array(10, dtype=int32), array(9, dtype=int32), array(3, dtype=int32), array(17, dtype=int32), array(19, dtype=int32), array(29, dtype=int32), array(12, dtype=int32), array(7, dtype=int32), array(26, dtype=int32), array(29, dtype=int32), array(0, dtype=int32), array(3, dtype=int32), array(17, dtype=int32), array(15, dtype=int32), array(11, dtype=int32), array(11, dtype=int32), array(8, dtype=int32), array(19, dtype=int32), array(8, dtype=int32), array(12, dtype=int32), array(0, dtype=int32), array(11, dtype=int32), array(0, dtype=int32), array(18, dtype=int32), array(24, dtype=int32), array(19, dtype=int32), array(29, dtype=int32), array(17, dtype=int32), array(12, dtype=int32), array(18, dtype=int32), array(9, dtype=int32), array(12, dtype=int32), array(7, dtype=int32), array(15, dtype=int32), array(28, dtype=int32), array(21, dtype=int32), array(1, dtype=int32), array(20, dtype=int32), array(22, dtype=int32), array(0, dtype=int32), array(26, dtype=int32), array(5, dtype=int32), array(12, dtype=int32), array(3, dtype=int32), array(23, dtype=int32), array(23, dtype=int32), array(10, dtype=int32), array(18, dtype=int32), array(12, dtype=int32), array(4, dtype=int32), array(7, dtype=int32), array(20, dtype=int32), array(12, dtype=int32), array(15, dtype=int32), array(12, dtype=int32), array(23, dtype=int32), array(4, dtype=int32), array(17, dtype=int32), array(12, dtype=int32), array(11, dtype=int32), array(17, dtype=int32), array(6, dtype=int32), array(27, dtype=int32), array(25, dtype=int32), array(5, dtype=int32), array(26, dtype=int32), array(0, dtype=int32), array(18, dtype=int32), array(12, dtype=int32), array(4, dtype=int32), array(4, dtype=int32), array(8, dtype=int32), array(7, dtype=int32), array(10, dtype=int32), array(29, dtype=int32), array(7, dtype=int32), array(12, dtype=int32), array(9, dtype=int32), array(10, dtype=int32), array(0, dtype=int32), array(11, dtype=int32), array(12, dtype=int32), array(20, dtype=int32), array(16, dtype=int32), array(23, dtype=int32), array(13, dtype=int32), array(21, dtype=int32), array(27, dtype=int32), array(26, dtype=int32), array(12, dtype=int32), array(3, dtype=int32), array(21, dtype=int32), array(19, dtype=int32), array(24, dtype=int32), array(12, dtype=int32), array(15, dtype=int32), array(0, dtype=int32), array(26, dtype=int32), array(17, dtype=int32), array(9, dtype=int32), array(19, dtype=int32), array(14, dtype=int32), array(3, dtype=int32), array(12, dtype=int32), array(13, dtype=int32), array(13, dtype=int32), array(11, dtype=int32), array(22, dtype=int32), array(12, dtype=int32), array(15, dtype=int32), array(12, dtype=int32), array(5, dtype=int32), array(7, dtype=int32), array(6, dtype=int32), array(9, dtype=int32), array(23, dtype=int32), array(16, dtype=int32), array(28, dtype=int32), array(23, dtype=int32), array(6, dtype=int32), array(24, dtype=int32), array(23, dtype=int32), array(0, dtype=int32), array(12, dtype=int32), array(15, dtype=int32), array(17, dtype=int32), array(16, dtype=int32), array(19, dtype=int32), array(16, dtype=int32), array(26, dtype=int32), array(19, dtype=int32), array(12, dtype=int32), array(1, dtype=int32), array(11, dtype=int32), array(19, dtype=int32), array(20, dtype=int32), array(10, dtype=int32), array(17, dtype=int32), array(3, dtype=int32), array(0, dtype=int32), array(3, dtype=int32), array(25, dtype=int32), array(26, dtype=int32), array(3, dtype=int32), array(19, dtype=int32), array(12, dtype=int32), array(8, dtype=int32), array(16, dtype=int32), array(26, dtype=int32), array(17, dtype=int32), array(26, dtype=int32), array(4, dtype=int32), array(10, dtype=int32), array(26, dtype=int32), array(8, dtype=int32), array(12, dtype=int32), array(19, dtype=int32), array(27, dtype=int32), array(23, dtype=int32), array(1, dtype=int32), array(12, dtype=int32), array(22, dtype=int32), array(26, dtype=int32), array(24, dtype=int32), array(9, dtype=int32), array(0, dtype=int32), array(26, dtype=int32), array(1, dtype=int32), array(12, dtype=int32), array(10, dtype=int32), array(29, dtype=int32), array(21, dtype=int32), array(21, dtype=int32), array(1, dtype=int32), array(22, dtype=int32), array(6, dtype=int32), array(9, dtype=int32), array(22, dtype=int32), array(0, dtype=int32), array(20, dtype=int32), array(12, dtype=int32), array(0, dtype=int32), array(22, dtype=int32), array(6, dtype=int32), array(6, dtype=int32), array(24, dtype=int32), array(11, dtype=int32), array(26, dtype=int32), array(12, dtype=int32), array(17, dtype=int32), array(4, dtype=int32), array(22, dtype=int32), array(9, dtype=int32), array(9, dtype=int32), array(15, dtype=int32), array(4, dtype=int32), array(17, dtype=int32), array(9, dtype=int32), array(18, dtype=int32), array(19, dtype=int32), array(12, dtype=int32), array(26, dtype=int32), array(0, dtype=int32), array(24, dtype=int32), array(17, dtype=int32), array(12, dtype=int32), array(12, dtype=int32), array(17, dtype=int32), array(1, dtype=int32), array(12, dtype=int32), array(29, dtype=int32), array(0, dtype=int32), array(9, dtype=int32), array(9, dtype=int32), array(3, dtype=int32), array(7, dtype=int32), array(9, dtype=int32), array(5, dtype=int32), array(17, dtype=int32), array(18, dtype=int32), array(26, dtype=int32), array(17, dtype=int32), array(12, dtype=int32), array(17, dtype=int32), array(11, dtype=int32), array(4, dtype=int32), array(29, dtype=int32), array(24, dtype=int32), array(3, dtype=int32), array(9, dtype=int32), array(6, dtype=int32), array(12, dtype=int32), array(22, dtype=int32), array(15, dtype=int32), array(19, dtype=int32), array(1, dtype=int32), array(24, dtype=int32), array(22, dtype=int32), array(9, dtype=int32), array(1, dtype=int32), array(3, dtype=int32), array(29, dtype=int32), array(4, dtype=int32), array(11, dtype=int32), array(1, dtype=int32), array(26, dtype=int32), array(12, dtype=int32), array(26, dtype=int32), array(15, dtype=int32), array(29, dtype=int32), array(9, dtype=int32), array(11, dtype=int32), array(0, dtype=int32), array(23, dtype=int32), array(0, dtype=int32), array(19, dtype=int32), array(15, dtype=int32), array(10, dtype=int32), array(26, dtype=int32), array(21, dtype=int32), array(23, dtype=int32), array(24, dtype=int32), array(24, dtype=int32), array(4, dtype=int32), array(21, dtype=int32), array(15, dtype=int32), array(18, dtype=int32), array(11, dtype=int32), array(1, dtype=int32), array(22, dtype=int32), array(6, dtype=int32), array(28, dtype=int32), array(27, dtype=int32), array(22, dtype=int32), array(9, dtype=int32), array(23, dtype=int32), array(3, dtype=int32), array(11, dtype=int32), array(18, dtype=int32), array(4, dtype=int32), array(9, dtype=int32), array(5, dtype=int32), array(26, dtype=int32), array(21, dtype=int32), array(13, dtype=int32), array(26, dtype=int32), array(11, dtype=int32), array(10, dtype=int32), array(12, dtype=int32), array(24, dtype=int32), array(12, dtype=int32), array(11, dtype=int32), array(10, dtype=int32), array(8, dtype=int32), array(19, dtype=int32), array(26, dtype=int32), array(19, dtype=int32), array(12, dtype=int32), array(7, dtype=int32), array(12, dtype=int32), array(17, dtype=int32), array(17, dtype=int32), array(0, dtype=int32), array(5, dtype=int32), array(13, dtype=int32), array(12, dtype=int32), array(4, dtype=int32), array(28, dtype=int32), array(22, dtype=int32), array(0, dtype=int32), array(0, dtype=int32), array(8, dtype=int32), array(24, dtype=int32), array(26, dtype=int32), array(5, dtype=int32), array(12, dtype=int32), array(18, dtype=int32), array(11, dtype=int32), array(20, dtype=int32), array(9, dtype=int32), array(11, dtype=int32), array(17, dtype=int32), array(0, dtype=int32), array(24, dtype=int32), array(3, dtype=int32), array(4, dtype=int32), array(19, dtype=int32), array(6, dtype=int32), array(21, dtype=int32), array(22, dtype=int32), array(0, dtype=int32), array(26, dtype=int32), array(10, dtype=int32), array(10, dtype=int32), array(12, dtype=int32), array(6, dtype=int32), array(6, dtype=int32), array(23, dtype=int32), array(21, dtype=int32), array(26, dtype=int32), array(7, dtype=int32), array(8, dtype=int32), array(19, dtype=int32), array(4, dtype=int32), array(8, dtype=int32), array(24, dtype=int32), array(15, dtype=int32), array(23, dtype=int32), array(17, dtype=int32), array(12, dtype=int32), array(0, dtype=int32), array(23, dtype=int32), array(26, dtype=int32), array(10, dtype=int32), array(1, dtype=int32), array(6, dtype=int32), array(0, dtype=int32), array(8, dtype=int32), array(9, dtype=int32), array(8, dtype=int32), array(3, dtype=int32), array(21, dtype=int32), array(15, dtype=int32), array(11, dtype=int32), array(0, dtype=int32), array(7, dtype=int32), array(23, dtype=int32), array(5, dtype=int32), array(23, dtype=int32), array(23, dtype=int32), array(7, dtype=int32), array(3, dtype=int32), array(20, dtype=int32), array(11, dtype=int32), array(10, dtype=int32), array(28, dtype=int32), array(15, dtype=int32), array(25, dtype=int32), array(4, dtype=int32), array(21, dtype=int32), array(19, dtype=int32), array(15, dtype=int32), array(0, dtype=int32), array(12, dtype=int32), array(23, dtype=int32), array(7, dtype=int32), array(21, dtype=int32), array(6, dtype=int32), array(20, dtype=int32), array(1, dtype=int32), array(9, dtype=int32), array(7, dtype=int32), array(19, dtype=int32), array(17, dtype=int32), array(18, dtype=int32), array(22, dtype=int32), array(6, dtype=int32), array(23, dtype=int32), array(21, dtype=int32), array(10, dtype=int32), array(20, dtype=int32), array(4, dtype=int32), array(23, dtype=int32), array(17, dtype=int32), array(10, dtype=int32), array(0, dtype=int32), array(19, dtype=int32), array(23, dtype=int32), array(4, dtype=int32), array(8, dtype=int32), array(23, dtype=int32), array(4, dtype=int32), array(7, dtype=int32), array(29, dtype=int32), array(21, dtype=int32), array(5, dtype=int32), array(26, dtype=int32), array(23, dtype=int32), array(4, dtype=int32), array(12, dtype=int32), array(9, dtype=int32), array(18, dtype=int32), array(26, dtype=int32), array(19, dtype=int32), array(2, dtype=int32), array(25, dtype=int32), array(11, dtype=int32), array(20, dtype=int32), array(24, dtype=int32), array(24, dtype=int32), array(12, dtype=int32), array(4, dtype=int32), array(4, dtype=int32), array(5, dtype=int32), array(17, dtype=int32), array(15, dtype=int32), array(20, dtype=int32), array(0, dtype=int32), array(24, dtype=int32), array(0, dtype=int32), array(4, dtype=int32), array(19, dtype=int32), array(12, dtype=int32), array(8, dtype=int32), array(26, dtype=int32), array(23, dtype=int32), array(15, dtype=int32), array(9, dtype=int32), array(11, dtype=int32), array(12, dtype=int32), array(17, dtype=int32), array(23, dtype=int32), array(18, dtype=int32), array(8, dtype=int32), array(9, dtype=int32), array(9, dtype=int32), array(9, dtype=int32), array(12, dtype=int32), array(6, dtype=int32), array(5, dtype=int32), array(4, dtype=int32), array(7, dtype=int32), array(25, dtype=int32), array(16, dtype=int32), array(1, dtype=int32), array(29, dtype=int32), array(28, dtype=int32), array(15, dtype=int32), array(29, dtype=int32), array(12, dtype=int32), array(20, dtype=int32), array(6, dtype=int32), array(8, dtype=int32), array(29, dtype=int32), array(15, dtype=int32), array(3, dtype=int32), array(20, dtype=int32), array(16, dtype=int32), array(24, dtype=int32), array(6, dtype=int32), array(10, dtype=int32), array(16, dtype=int32), array(19, dtype=int32), array(10, dtype=int32), array(26, dtype=int32), array(7, dtype=int32), array(13, dtype=int32), array(8, dtype=int32), array(18, dtype=int32), array(23, dtype=int32), array(10, dtype=int32), array(8, dtype=int32), array(23, dtype=int32), array(0, dtype=int32), array(17, dtype=int32), array(11, dtype=int32), array(10, dtype=int32), array(12, dtype=int32), array(17, dtype=int32), array(26, dtype=int32), array(7, dtype=int32), array(1, dtype=int32), array(10, dtype=int32), array(13, dtype=int32), array(10, dtype=int32), array(4, dtype=int32), array(7, dtype=int32), array(19, dtype=int32), array(12, dtype=int32), array(18, dtype=int32), array(22, dtype=int32), array(26, dtype=int32), array(10, dtype=int32), array(27, dtype=int32), array(11, dtype=int32), array(27, dtype=int32), array(0, dtype=int32), array(29, dtype=int32), array(10, dtype=int32), array(18, dtype=int32), array(23, dtype=int32), array(2, dtype=int32), array(0, dtype=int32), array(24, dtype=int32), array(17, dtype=int32), array(19, dtype=int32), array(1, dtype=int32), array(11, dtype=int32), array(12, dtype=int32), array(6, dtype=int32), array(18, dtype=int32), array(25, dtype=int32), array(22, dtype=int32), array(12, dtype=int32), array(25, dtype=int32), array(10, dtype=int32), array(23, dtype=int32), array(23, dtype=int32), array(18, dtype=int32), array(22, dtype=int32), array(9, dtype=int32), array(15, dtype=int32), array(0, dtype=int32), array(9, dtype=int32), array(20, dtype=int32), array(12, dtype=int32), array(15, dtype=int32), array(3, dtype=int32), array(15, dtype=int32), array(10, dtype=int32), array(9, dtype=int32), array(24, dtype=int32), array(18, dtype=int32), array(0, dtype=int32), array(12, dtype=int32), array(3, dtype=int32), array(0, dtype=int32), array(20, dtype=int32), array(4, dtype=int32), array(18, dtype=int32), array(10, dtype=int32), array(6, dtype=int32), array(1, dtype=int32), array(17, dtype=int32), array(25, dtype=int32), array(18, dtype=int32), array(29, dtype=int32), array(7, dtype=int32), array(22, dtype=int32), array(15, dtype=int32), array(12, dtype=int32), array(12, dtype=int32), array(7, dtype=int32), array(1, dtype=int32), array(12, dtype=int32), array(3, dtype=int32), array(3, dtype=int32), array(29, dtype=int32), array(10, dtype=int32), array(18, dtype=int32), array(11, dtype=int32), array(14, dtype=int32), array(19, dtype=int32), array(10, dtype=int32), array(5, dtype=int32), array(22, dtype=int32), array(15, dtype=int32), array(20, dtype=int32), array(7, dtype=int32), array(5, dtype=int32), array(2, dtype=int32), array(6, dtype=int32), array(7, dtype=int32), array(15, dtype=int32), array(16, dtype=int32), array(19, dtype=int32), array(9, dtype=int32), array(24, dtype=int32), array(19, dtype=int32), array(15, dtype=int32), array(26, dtype=int32), array(17, dtype=int32), array(11, dtype=int32), array(4, dtype=int32), array(7, dtype=int32), array(0, dtype=int32), array(11, dtype=int32), array(21, dtype=int32), array(3, dtype=int32), array(15, dtype=int32), array(18, dtype=int32), array(10, dtype=int32), array(29, dtype=int32), array(23, dtype=int32), array(18, dtype=int32), array(15, dtype=int32), array(23, dtype=int32), array(4, dtype=int32), array(12, dtype=int32), array(5, dtype=int32), array(6, dtype=int32), array(21, dtype=int32), array(13, dtype=int32), array(28, dtype=int32), array(26, dtype=int32), array(26, dtype=int32), array(24, dtype=int32), array(12, dtype=int32), array(18, dtype=int32), array(20, dtype=int32), array(26, dtype=int32), array(6, dtype=int32), array(2, dtype=int32), array(19, dtype=int32), array(3, dtype=int32), array(23, dtype=int32), array(26, dtype=int32), array(26, dtype=int32), array(13, dtype=int32), array(9, dtype=int32), array(15, dtype=int32), array(18, dtype=int32), array(25, dtype=int32), array(10, dtype=int32), array(9, dtype=int32), array(18, dtype=int32), array(7, dtype=int32), array(6, dtype=int32), array(8, dtype=int32), array(4, dtype=int32), array(22, dtype=int32), array(23, dtype=int32), array(18, dtype=int32), array(4, dtype=int32), array(12, dtype=int32), array(25, dtype=int32), array(12, dtype=int32), array(8, dtype=int32), array(21, dtype=int32), array(0, dtype=int32), array(20, dtype=int32), array(13, dtype=int32), array(13, dtype=int32), array(19, dtype=int32), array(12, dtype=int32), array(5, dtype=int32), array(1, dtype=int32), array(20, dtype=int32), array(16, dtype=int32), array(21, dtype=int32), array(7, dtype=int32), array(7, dtype=int32), array(25, dtype=int32), array(17, dtype=int32), array(18, dtype=int32), array(5, dtype=int32), array(4, dtype=int32), array(4, dtype=int32), array(8, dtype=int32), array(18, dtype=int32), array(27, dtype=int32), array(10, dtype=int32), array(19, dtype=int32), array(9, dtype=int32), array(29, dtype=int32), array(4, dtype=int32), array(26, dtype=int32), array(7, dtype=int32), array(2, dtype=int32), array(23, dtype=int32), array(3, dtype=int32), array(22, dtype=int32), array(26, dtype=int32), array(26, dtype=int32), array(17, dtype=int32), array(2, dtype=int32), array(18, dtype=int32), array(12, dtype=int32), array(23, dtype=int32), array(15, dtype=int32), array(4, dtype=int32), array(21, dtype=int32), array(1, dtype=int32), array(26, dtype=int32), array(7, dtype=int32), array(3, dtype=int32), array(0, dtype=int32), array(26, dtype=int32), array(20, dtype=int32), array(5, dtype=int32), array(26, dtype=int32), array(23, dtype=int32), array(27, dtype=int32), array(7, dtype=int32), array(18, dtype=int32), array(6, dtype=int32), array(3, dtype=int32), array(24, dtype=int32), array(21, dtype=int32), array(7, dtype=int32), array(19, dtype=int32), array(5, dtype=int32), array(6, dtype=int32), array(26, dtype=int32), array(7, dtype=int32), array(15, dtype=int32), array(22, dtype=int32), array(22, dtype=int32), array(26, dtype=int32), array(22, dtype=int32), array(13, dtype=int32), array(19, dtype=int32), array(12, dtype=int32), array(16, dtype=int32), array(4, dtype=int32), array(23, dtype=int32), array(14, dtype=int32), array(0, dtype=int32), array(10, dtype=int32), array(2, dtype=int32), array(10, dtype=int32), array(17, dtype=int32), array(19, dtype=int32), array(14, dtype=int32), array(23, dtype=int32), array(18, dtype=int32), array(1, dtype=int32), array(7, dtype=int32), array(9, dtype=int32), array(17, dtype=int32), array(6, dtype=int32), array(3, dtype=int32), array(29, dtype=int32), array(4, dtype=int32), array(19, dtype=int32), array(7, dtype=int32), array(8, dtype=int32), array(27, dtype=int32), array(0, dtype=int32), array(20, dtype=int32), array(10, dtype=int32), array(7, dtype=int32), array(21, dtype=int32), array(12, dtype=int32), array(12, dtype=int32), array(28, dtype=int32), array(21, dtype=int32), array(19, dtype=int32), array(12, dtype=int32), array(12, dtype=int32), array(24, dtype=int32), array(3, dtype=int32), array(0, dtype=int32), array(13, dtype=int32), array(17, dtype=int32), array(26, dtype=int32), array(10, dtype=int32), array(26, dtype=int32), array(3, dtype=int32), array(23, dtype=int32), array(4, dtype=int32), array(18, dtype=int32), array(28, dtype=int32), array(9, dtype=int32), array(6, dtype=int32), array(24, dtype=int32), array(21, dtype=int32), array(13, dtype=int32), array(26, dtype=int32), array(5, dtype=int32), array(23, dtype=int32), array(12, dtype=int32), array(18, dtype=int32), array(0, dtype=int32), array(15, dtype=int32), array(15, dtype=int32), array(26, dtype=int32), array(1, dtype=int32), array(9, dtype=int32), array(7, dtype=int32), array(18, dtype=int32), array(0, dtype=int32), array(22, dtype=int32), array(21, dtype=int32), array(16, dtype=int32), array(5, dtype=int32), array(27, dtype=int32), array(2, dtype=int32), array(15, dtype=int32), array(24, dtype=int32), array(23, dtype=int32), array(9, dtype=int32), array(12, dtype=int32), array(0, dtype=int32), array(9, dtype=int32), array(9, dtype=int32), array(23, dtype=int32), array(24, dtype=int32), array(26, dtype=int32), array(21, dtype=int32), array(10, dtype=int32), array(23, dtype=int32), array(23, dtype=int32), array(18, dtype=int32), array(10, dtype=int32), array(18, dtype=int32), array(12, dtype=int32), array(26, dtype=int32), array(20, dtype=int32), array(11, dtype=int32), array(12, dtype=int32), array(7, dtype=int32), array(19, dtype=int32), array(28, dtype=int32), array(6, dtype=int32), array(12, dtype=int32), array(18, dtype=int32), array(22, dtype=int32), array(3, dtype=int32), array(3, dtype=int32), array(23, dtype=int32), array(20, dtype=int32), array(0, dtype=int32), array(25, dtype=int32), array(10, dtype=int32), array(25, dtype=int32), array(17, dtype=int32), array(10, dtype=int32), array(7, dtype=int32), array(19, dtype=int32), array(26, dtype=int32), array(29, dtype=int32), array(24, dtype=int32), array(24, dtype=int32), array(24, dtype=int32), array(1, dtype=int32), array(29, dtype=int32), array(3, dtype=int32), array(12, dtype=int32), array(17, dtype=int32), array(23, dtype=int32), array(8, dtype=int32), array(22, dtype=int32), array(15, dtype=int32), array(14, dtype=int32), array(1, dtype=int32), array(23, dtype=int32), array(24, dtype=int32), array(5, dtype=int32), array(9, dtype=int32), array(11, dtype=int32), array(11, dtype=int32), array(10, dtype=int32), array(26, dtype=int32), array(19, dtype=int32), array(1, dtype=int32), array(0, dtype=int32), array(5, dtype=int32), array(4, dtype=int32), array(29, dtype=int32), array(5, dtype=int32), array(26, dtype=int32), array(8, dtype=int32), array(11, dtype=int32), array(0, dtype=int32), array(26, dtype=int32), array(7, dtype=int32), array(0, dtype=int32), array(23, dtype=int32), array(8, dtype=int32), array(6, dtype=int32), array(23, dtype=int32), array(7, dtype=int32), array(7, dtype=int32), array(8, dtype=int32), array(7, dtype=int32), array(19, dtype=int32), array(19, dtype=int32), array(23, dtype=int32), array(7, dtype=int32), array(18, dtype=int32), array(10, dtype=int32), array(18, dtype=int32), array(19, dtype=int32), array(9, dtype=int32), array(4, dtype=int32), array(17, dtype=int32), array(20, dtype=int32), array(2, dtype=int32), array(28, dtype=int32), array(12, dtype=int32), array(7, dtype=int32), array(17, dtype=int32), array(9, dtype=int32), array(29, dtype=int32), array(12, dtype=int32), array(21, dtype=int32), array(0, dtype=int32), array(11, dtype=int32), array(11, dtype=int32), array(23, dtype=int32), array(12, dtype=int32), array(0, dtype=int32), array(18, dtype=int32), array(11, dtype=int32), array(4, dtype=int32), array(20, dtype=int32), array(22, dtype=int32), array(7, dtype=int32), array(11, dtype=int32), array(4, dtype=int32), array(2, dtype=int32), array(20, dtype=int32), array(4, dtype=int32), array(11, dtype=int32), array(12, dtype=int32), array(23, dtype=int32), array(10, dtype=int32), array(19, dtype=int32), array(5, dtype=int32), array(26, dtype=int32), array(24, dtype=int32), array(6, dtype=int32), array(26, dtype=int32), array(18, dtype=int32), array(26, dtype=int32), array(6, dtype=int32), array(24, dtype=int32), array(0, dtype=int32), array(4, dtype=int32), array(26, dtype=int32), array(5, dtype=int32), array(23, dtype=int32), array(12, dtype=int32), array(6, dtype=int32), array(12, dtype=int32), array(29, dtype=int32), array(10, dtype=int32), array(0, dtype=int32), array(19, dtype=int32), array(18, dtype=int32), array(26, dtype=int32), array(23, dtype=int32), array(20, dtype=int32), array(11, dtype=int32), array(10, dtype=int32), array(23, dtype=int32), array(3, dtype=int32), array(19, dtype=int32), array(12, dtype=int32), array(1, dtype=int32), array(9, dtype=int32), array(22, dtype=int32), array(25, dtype=int32), array(26, dtype=int32), array(0, dtype=int32), array(23, dtype=int32), array(5, dtype=int32), array(12, dtype=int32), array(0, dtype=int32), array(7, dtype=int32), array(8, dtype=int32), array(20, dtype=int32), array(5, dtype=int32), array(5, dtype=int32), array(10, dtype=int32), array(23, dtype=int32), array(5, dtype=int32), array(22, dtype=int32), array(11, dtype=int32), array(12, dtype=int32), array(15, dtype=int32), array(10, dtype=int32), array(26, dtype=int32), array(27, dtype=int32), array(23, dtype=int32), array(20, dtype=int32), array(12, dtype=int32), array(5, dtype=int32), array(9, dtype=int32), array(10, dtype=int32), array(23, dtype=int32), array(23, dtype=int32), array(3, dtype=int32), array(12, dtype=int32), array(5, dtype=int32), array(17, dtype=int32), array(17, dtype=int32), array(3, dtype=int32), array(18, dtype=int32), array(12, dtype=int32), array(27, dtype=int32), array(4, dtype=int32), array(8, dtype=int32), array(7, dtype=int32), array(6, dtype=int32), array(28, dtype=int32), array(19, dtype=int32), array(5, dtype=int32), array(0, dtype=int32), array(12, dtype=int32), array(27, dtype=int32), array(17, dtype=int32), array(27, dtype=int32), array(19, dtype=int32), array(6, dtype=int32), array(27, dtype=int32), array(9, dtype=int32), array(10, dtype=int32), array(0, dtype=int32), array(27, dtype=int32), array(29, dtype=int32), array(20, dtype=int32), array(26, dtype=int32), array(12, dtype=int32), array(12, dtype=int32), array(26, dtype=int32), array(26, dtype=int32), array(5, dtype=int32), array(15, dtype=int32), array(0, dtype=int32), array(7, dtype=int32), array(12, dtype=int32), array(24, dtype=int32), array(23, dtype=int32), array(20, dtype=int32), array(15, dtype=int32), array(10, dtype=int32), array(1, dtype=int32), array(3, dtype=int32), array(10, dtype=int32), array(29, dtype=int32), array(9, dtype=int32), array(26, dtype=int32), array(25, dtype=int32), array(9, dtype=int32), array(8, dtype=int32), array(12, dtype=int32), array(11, dtype=int32), array(23, dtype=int32), array(20, dtype=int32), array(15, dtype=int32), array(26, dtype=int32), array(23, dtype=int32), array(8, dtype=int32), array(26, dtype=int32), array(3, dtype=int32), array(7, dtype=int32), array(7, dtype=int32), array(17, dtype=int32), array(26, dtype=int32), array(7, dtype=int32), array(15, dtype=int32), array(5, dtype=int32), array(24, dtype=int32), array(22, dtype=int32), array(24, dtype=int32), array(0, dtype=int32), array(12, dtype=int32), array(15, dtype=int32), array(23, dtype=int32), array(4, dtype=int32), array(9, dtype=int32), array(15, dtype=int32), array(19, dtype=int32), array(7, dtype=int32), array(8, dtype=int32), array(0, dtype=int32), array(0, dtype=int32), array(24, dtype=int32), array(3, dtype=int32), array(6, dtype=int32), array(2, dtype=int32), array(7, dtype=int32), array(8, dtype=int32), array(21, dtype=int32), array(11, dtype=int32), array(12, dtype=int32), array(6, dtype=int32), array(12, dtype=int32), array(20, dtype=int32), array(19, dtype=int32), array(3, dtype=int32), array(21, dtype=int32), array(7, dtype=int32), array(15, dtype=int32), array(18, dtype=int32), array(11, dtype=int32), array(17, dtype=int32), array(12, dtype=int32), array(22, dtype=int32), array(6, dtype=int32), array(18, dtype=int32), array(19, dtype=int32), array(26, dtype=int32), array(8, dtype=int32), array(18, dtype=int32), array(4, dtype=int32), array(26, dtype=int32), array(23, dtype=int32), array(24, dtype=int32), array(15, dtype=int32), array(8, dtype=int32), array(11, dtype=int32), array(11, dtype=int32), array(15, dtype=int32), array(19, dtype=int32), array(11, dtype=int32), array(18, dtype=int32), array(14, dtype=int32), array(27, dtype=int32), array(29, dtype=int32), array(5, dtype=int32), array(9, dtype=int32), array(20, dtype=int32), array(7, dtype=int32), array(10, dtype=int32), array(17, dtype=int32), array(22, dtype=int32), array(21, dtype=int32), array(20, dtype=int32), array(19, dtype=int32), array(10, dtype=int32), array(11, dtype=int32), array(9, dtype=int32), array(12, dtype=int32), array(4, dtype=int32), array(18, dtype=int32), array(4, dtype=int32), array(12, dtype=int32), array(26, dtype=int32), array(26, dtype=int32), array(12, dtype=int32), array(8, dtype=int32), array(2, dtype=int32), array(11, dtype=int32), array(17, dtype=int32), array(29, dtype=int32), array(25, dtype=int32), array(11, dtype=int32), array(10, dtype=int32), array(18, dtype=int32), array(17, dtype=int32), array(10, dtype=int32), array(13, dtype=int32), array(26, dtype=int32), array(16, dtype=int32), array(10, dtype=int32), array(26, dtype=int32), array(19, dtype=int32), array(19, dtype=int32), array(17, dtype=int32), array(3, dtype=int32), array(12, dtype=int32), array(19, dtype=int32), array(21, dtype=int32), array(15, dtype=int32), array(19, dtype=int32), array(11, dtype=int32), array(22, dtype=int32), array(12, dtype=int32), array(0, dtype=int32), array(23, dtype=int32), array(25, dtype=int32), array(24, dtype=int32), array(15, dtype=int32), array(2, dtype=int32), array(17, dtype=int32), array(0, dtype=int32), array(22, dtype=int32), array(10, dtype=int32), array(0, dtype=int32), array(20, dtype=int32), array(29, dtype=int32), array(7, dtype=int32), array(4, dtype=int32), array(7, dtype=int32), array(23, dtype=int32), array(27, dtype=int32), array(19, dtype=int32), array(21, dtype=int32), array(10, dtype=int32), array(29, dtype=int32), array(9, dtype=int32), array(28, dtype=int32), array(25, dtype=int32), array(26, dtype=int32), array(4, dtype=int32), array(28, dtype=int32), array(22, dtype=int32), array(0, dtype=int32), array(23, dtype=int32), array(4, dtype=int32), array(0, dtype=int32), array(7, dtype=int32), array(23, dtype=int32), array(26, dtype=int32), array(16, dtype=int32), array(12, dtype=int32), array(29, dtype=int32), array(24, dtype=int32), array(5, dtype=int32), array(6, dtype=int32), array(9, dtype=int32), array(20, dtype=int32), array(29, dtype=int32), array(7, dtype=int32), array(8, dtype=int32), array(16, dtype=int32), array(26, dtype=int32), array(0, dtype=int32), array(19, dtype=int32), array(7, dtype=int32), array(8, dtype=int32), array(7, dtype=int32), array(26, dtype=int32), array(4, dtype=int32), array(28, dtype=int32), array(7, dtype=int32), array(0, dtype=int32), array(29, dtype=int32), array(26, dtype=int32), array(9, dtype=int32), array(22, dtype=int32), array(10, dtype=int32), array(23, dtype=int32), array(6, dtype=int32), array(26, dtype=int32), array(10, dtype=int32), array(15, dtype=int32), array(26, dtype=int32), array(12, dtype=int32), array(12, dtype=int32), array(12, dtype=int32), array(6, dtype=int32), array(9, dtype=int32), array(22, dtype=int32), array(21, dtype=int32), array(4, dtype=int32), array(12, dtype=int32), array(9, dtype=int32), array(13, dtype=int32), array(5, dtype=int32), array(28, dtype=int32), array(12, dtype=int32), array(16, dtype=int32), array(23, dtype=int32), array(26, dtype=int32), array(22, dtype=int32), array(20, dtype=int32), array(19, dtype=int32), array(17, dtype=int32), array(23, dtype=int32), array(0, dtype=int32), array(0, dtype=int32), array(0, dtype=int32), array(0, dtype=int32), array(0, dtype=int32), array(26, dtype=int32), array(15, dtype=int32), array(20, dtype=int32), array(29, dtype=int32), array(10, dtype=int32), array(4, dtype=int32), array(12, dtype=int32), array(15, dtype=int32), array(28, dtype=int32), array(5, dtype=int32), array(23, dtype=int32), array(24, dtype=int32), array(12, dtype=int32), array(8, dtype=int32), array(27, dtype=int32), array(11, dtype=int32), array(6, dtype=int32), array(23, dtype=int32), array(25, dtype=int32), array(10, dtype=int32), array(7, dtype=int32), array(26, dtype=int32), array(4, dtype=int32), array(12, dtype=int32), array(29, dtype=int32), array(18, dtype=int32), array(12, dtype=int32), array(0, dtype=int32), array(24, dtype=int32), array(4, dtype=int32), array(25, dtype=int32), array(3, dtype=int32), array(21, dtype=int32), array(22, dtype=int32), array(0, dtype=int32), array(11, dtype=int32), array(18, dtype=int32), array(12, dtype=int32), array(10, dtype=int32), array(6, dtype=int32), array(3, dtype=int32), array(8, dtype=int32), array(12, dtype=int32), array(4, dtype=int32), array(23, dtype=int32), array(17, dtype=int32), array(20, dtype=int32), array(9, dtype=int32), array(7, dtype=int32), array(1, dtype=int32), array(4, dtype=int32), array(6, dtype=int32), array(16, dtype=int32), array(12, dtype=int32), array(3, dtype=int32), array(8, dtype=int32), array(9, dtype=int32), array(12, dtype=int32), array(12, dtype=int32), array(17, dtype=int32), array(5, dtype=int32), array(4, dtype=int32), array(18, dtype=int32), array(23, dtype=int32), array(10, dtype=int32), array(0, dtype=int32), array(28, dtype=int32), array(9, dtype=int32), array(10, dtype=int32), array(12, dtype=int32), array(12, dtype=int32), array(7, dtype=int32), array(9, dtype=int32), array(18, dtype=int32), array(4, dtype=int32), array(10, dtype=int32), array(3, dtype=int32), array(25, dtype=int32), array(9, dtype=int32), array(24, dtype=int32), array(12, dtype=int32), array(15, dtype=int32), array(26, dtype=int32), array(23, dtype=int32), array(3, dtype=int32), array(17, dtype=int32), array(0, dtype=int32), array(1, dtype=int32), array(12, dtype=int32), array(0, dtype=int32), array(4, dtype=int32), array(19, dtype=int32), array(6, dtype=int32), array(10, dtype=int32), array(22, dtype=int32), array(18, dtype=int32), array(9, dtype=int32), array(3, dtype=int32), array(9, dtype=int32), array(0, dtype=int32), array(21, dtype=int32), array(26, dtype=int32), array(24, dtype=int32), array(3, dtype=int32), array(12, dtype=int32), array(11, dtype=int32), array(15, dtype=int32), array(21, dtype=int32), array(26, dtype=int32), array(14, dtype=int32), array(3, dtype=int32), array(19, dtype=int32), array(6, dtype=int32), array(19, dtype=int32), array(1, dtype=int32), array(9, dtype=int32), array(11, dtype=int32), array(22, dtype=int32), array(19, dtype=int32), array(22, dtype=int32), array(6, dtype=int32), array(24, dtype=int32), array(26, dtype=int32), array(11, dtype=int32), array(29, dtype=int32), array(23, dtype=int32), array(12, dtype=int32), array(26, dtype=int32), array(7, dtype=int32), array(8, dtype=int32), array(17, dtype=int32), array(18, dtype=int32), array(12, dtype=int32), array(13, dtype=int32), array(26, dtype=int32), array(25, dtype=int32), array(23, dtype=int32), array(29, dtype=int32), array(27, dtype=int32), array(9, dtype=int32), array(9, dtype=int32), array(6, dtype=int32), array(9, dtype=int32), array(8, dtype=int32), array(29, dtype=int32), array(6, dtype=int32), array(7, dtype=int32), array(19, dtype=int32), array(13, dtype=int32), array(12, dtype=int32), array(5, dtype=int32), array(3, dtype=int32), array(22, dtype=int32), array(23, dtype=int32), array(10, dtype=int32), array(23, dtype=int32), array(25, dtype=int32), array(17, dtype=int32), array(9, dtype=int32), array(26, dtype=int32), array(0, dtype=int32), array(26, dtype=int32), array(7, dtype=int32), array(26, dtype=int32), array(12, dtype=int32), array(17, dtype=int32), array(8, dtype=int32), array(0, dtype=int32), array(0, dtype=int32), array(4, dtype=int32), array(5, dtype=int32), array(4, dtype=int32), array(6, dtype=int32), array(5, dtype=int32), array(15, dtype=int32), array(12, dtype=int32), array(0, dtype=int32), array(12, dtype=int32), array(19, dtype=int32), array(8, dtype=int32), array(3, dtype=int32), array(26, dtype=int32), array(28, dtype=int32), array(13, dtype=int32), array(4, dtype=int32), array(24, dtype=int32), array(3, dtype=int32), array(12, dtype=int32), array(29, dtype=int32), array(4, dtype=int32), array(5, dtype=int32), array(2, dtype=int32), array(15, dtype=int32), array(9, dtype=int32), array(23, dtype=int32), array(26, dtype=int32), array(17, dtype=int32), array(8, dtype=int32)]\n",
            "[[0. 0. 0. ... 0. 0. 0.]\n",
            " [0. 0. 0. ... 0. 0. 0.]\n",
            " [0. 0. 0. ... 0. 0. 0.]\n",
            " ...\n",
            " [0. 0. 0. ... 0. 0. 0.]\n",
            " [0. 0. 0. ... 0. 0. 0.]\n",
            " [0. 0. 0. ... 0. 0. 0.]]\n"
          ],
          "name": "stdout"
        }
      ]
    },
    {
      "metadata": {
        "id": "Q37bWIJTOxt0",
        "colab_type": "text"
      },
      "cell_type": "markdown",
      "source": [
        "**Define Model**"
      ]
    },
    {
      "metadata": {
        "id": "UIsD2GZtOzd9",
        "colab_type": "code",
        "colab": {
          "autoexec": {
            "startup": false,
            "wait_interval": 0
          }
        }
      },
      "cell_type": "code",
      "source": [
        "# CNN Model Arch\n",
        "model = Sequential()\n",
        "model.add(Conv2D(32, (3, 3), padding='same',\n",
        "                 input_shape=x_train.shape[1:]))\n",
        "model.add(Activation('relu'))\n",
        "model.add(Conv2D(32, (3, 3)))\n",
        "model.add(Activation('relu'))\n",
        "model.add(MaxPooling2D(pool_size=(2, 2)))\n",
        "model.add(Dropout(0.25))\n",
        "\n",
        "model.add(Conv2D(64, (3, 3), padding='same'))\n",
        "model.add(Activation('relu'))\n",
        "model.add(Conv2D(64, (3, 3)))\n",
        "model.add(Activation('relu'))\n",
        "model.add(MaxPooling2D(pool_size=(2, 2)))\n",
        "model.add(Dropout(0.25))\n",
        "\n",
        "model.add(Flatten())\n",
        "model.add(Dense(512))\n",
        "model.add(Activation('relu'))\n",
        "model.add(Dropout(0.5))\n",
        "model.add(Dense(num_classes))\n",
        "model.add(Activation('softmax'))\n",
        "\n",
        "# Initiate RMSprop optimizer\n",
        "opt = keras.optimizers.rmsprop(lr=0.0001, decay=1e-6)"
      ],
      "execution_count": 0,
      "outputs": []
    },
    {
      "metadata": {
        "id": "ZvRr_p4tO7gc",
        "colab_type": "text"
      },
      "cell_type": "markdown",
      "source": [
        "**Model Training**"
      ]
    },
    {
      "metadata": {
        "id": "636jc9k6O9G8",
        "colab_type": "code",
        "colab": {
          "autoexec": {
            "startup": false,
            "wait_interval": 0
          },
          "base_uri": "https://localhost:8080/",
          "height": 229
        },
        "outputId": "7c93d5c6-219a-4619-99b0-e3e1ad87cdb2",
        "executionInfo": {
          "status": "error",
          "timestamp": 1533639428723,
          "user_tz": -330,
          "elapsed": 851,
          "user": {
            "displayName": "Prashant Piprotar",
            "photoUrl": "//lh4.googleusercontent.com/-hdNnmu6ZVpw/AAAAAAAAAAI/AAAAAAAAAXQ/Z0jSEmd2Fyk/s50-c-k-no/photo.jpg",
            "userId": "110207365728031633319"
          }
        }
      },
      "cell_type": "code",
      "source": [
        "model.compile(loss='categorical_crossentropy',\n",
        "              optimizer=opt,\n",
        "              metrics=['accuracy'])\n",
        "\n",
        "x_train = x_train.astype('float32')\n",
        "x_test = x_test.astype('float32')\n",
        "x_train /= 255\n",
        "x_test /= 255\n",
        "\n",
        "if not data_augmentation:\n",
        "    print('Not using data augmentation.')\n",
        "    model.fit(x_train, y_train,\n",
        "              batch_size=batch_size,\n",
        "              epochs=epochs,\n",
        "              validation_data=(x_test, y_test),\n",
        "              shuffle=True)\n",
        "else:\n",
        "    print('Using real-time data augmentation.')\n",
        "    # This will do preprocessing and realtime data augmentation:\n",
        "    datagen = ImageDataGenerator(\n",
        "        featurewise_center=False,  # set input mean to 0 over the dataset\n",
        "        samplewise_center=False,  # set each sample mean to 0\n",
        "        featurewise_std_normalization=False,  # divide inputs by std of the dataset\n",
        "        samplewise_std_normalization=False,  # divide each input by its std\n",
        "        zca_whitening=False,  # apply ZCA whitening\n",
        "        zca_epsilon=1e-06,  # epsilon for ZCA whitening\n",
        "        rotation_range=0,  # randomly rotate images in the range (degrees, 0 to 180)\n",
        "        # randomly shift images horizontally (fraction of total width)\n",
        "        width_shift_range=0.1,\n",
        "        # randomly shift images vertically (fraction of total height)\n",
        "        height_shift_range=0.1,\n",
        "        shear_range=0.,  # set range for random shear\n",
        "        zoom_range=0.,  # set range for random zoom\n",
        "        channel_shift_range=0.,  # set range for random channel shifts\n",
        "        # set mode for filling points outside the input boundaries\n",
        "        fill_mode='nearest',\n",
        "        cval=0.,  # value used for fill_mode = \"constant\"\n",
        "        horizontal_flip=True,  # randomly flip images\n",
        "        vertical_flip=False,  # randomly flip images\n",
        "        # set rescaling factor (applied before any other transformation)\n",
        "        rescale=None,\n",
        "        # set function that will be applied on each input\n",
        "        preprocessing_function=None,\n",
        "        # image data format, either \"channels_first\" or \"channels_last\"\n",
        "        data_format=None,\n",
        "        # fraction of images reserved for validation (strictly between 0 and 1)\n",
        "        validation_split=0.0)\n",
        "\n",
        "    # Compute quantities required for feature-wise normalization\n",
        "    # (std, mean, and principal components if ZCA whitening is applied).\n",
        "    datagen.fit(x_train)\n",
        "\n",
        "    model.fit_generator(datagen.flow(x_train, y_train,\n",
        "                                     batch_size=batch_size),\n",
        "                        epochs=epochs,\n",
        "                        validation_data=(x_test, y_test),\n",
        "                        workers=4)\n",
        "    \n",
        "# Save model and weights\n",
        "if not os.path.isdir(save_dir):\n",
        "    os.makedirs(save_dir)\n",
        "#model_path = os.path.join(save_dir, model_name)\n",
        "model.save(model_name)\n",
        "files.download(model_name)\n",
        "print('Saved trained model at %s ' % model_path)"
      ],
      "execution_count": 1,
      "outputs": [
        {
          "output_type": "error",
          "ename": "NameError",
          "evalue": "ignored",
          "traceback": [
            "\u001b[0;31m---------------------------------------------------------------------------\u001b[0m",
            "\u001b[0;31mNameError\u001b[0m                                 Traceback (most recent call last)",
            "\u001b[0;32m<ipython-input-1-a5d21b7c4883>\u001b[0m in \u001b[0;36m<module>\u001b[0;34m()\u001b[0m\n\u001b[0;32m----> 1\u001b[0;31m model.compile(loss='categorical_crossentropy',\n\u001b[0m\u001b[1;32m      2\u001b[0m               \u001b[0moptimizer\u001b[0m\u001b[0;34m=\u001b[0m\u001b[0mopt\u001b[0m\u001b[0;34m,\u001b[0m\u001b[0;34m\u001b[0m\u001b[0m\n\u001b[1;32m      3\u001b[0m               metrics=['accuracy'])\n\u001b[1;32m      4\u001b[0m \u001b[0;34m\u001b[0m\u001b[0m\n\u001b[1;32m      5\u001b[0m \u001b[0mx_train\u001b[0m \u001b[0;34m=\u001b[0m \u001b[0mx_train\u001b[0m\u001b[0;34m.\u001b[0m\u001b[0mastype\u001b[0m\u001b[0;34m(\u001b[0m\u001b[0;34m'float32'\u001b[0m\u001b[0;34m)\u001b[0m\u001b[0;34m\u001b[0m\u001b[0m\n",
            "\u001b[0;31mNameError\u001b[0m: name 'model' is not defined"
          ]
        }
      ]
    },
    {
      "metadata": {
        "id": "AduWQ_AWPCO0",
        "colab_type": "text"
      },
      "cell_type": "markdown",
      "source": [
        "**Saving The Trained Model**"
      ]
    },
    {
      "metadata": {
        "id": "h5uprwCmPFw9",
        "colab_type": "code",
        "colab": {
          "autoexec": {
            "startup": false,
            "wait_interval": 0
          }
        }
      },
      "cell_type": "code",
      "source": [
        "# Save model and weights\n",
        "if not os.path.isdir(save_dir):\n",
        "    os.makedirs(save_dir)\n",
        "#model_path = os.path.join(save_dir, model_name)\n",
        "model.save(model_name)\n",
        "files.download(model_name)\n",
        "print('Saved trained model at %s ' % model_path)"
      ],
      "execution_count": 0,
      "outputs": []
    },
    {
      "metadata": {
        "id": "w8N8v_4zPIbM",
        "colab_type": "text"
      },
      "cell_type": "markdown",
      "source": [
        "**Conclusions**"
      ]
    },
    {
      "metadata": {
        "id": "iSXK8FImPK9d",
        "colab_type": "code",
        "colab": {
          "autoexec": {
            "startup": false,
            "wait_interval": 0
          }
        }
      },
      "cell_type": "code",
      "source": [
        "# Score trained model.\n",
        "scores = model.evaluate(x_test, y_test, verbose=1)\n",
        "print('Test loss:', scores[0])\n",
        "print('Test accuracy:', scores[1])"
      ],
      "execution_count": 0,
      "outputs": []
    }
  ]
}